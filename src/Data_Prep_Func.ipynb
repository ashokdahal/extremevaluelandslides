{
 "cells": [
  {
   "cell_type": "code",
   "execution_count": 1,
   "metadata": {},
   "outputs": [],
   "source": [
    "#Preparing data into Graphs"
   ]
  },
  {
   "cell_type": "code",
   "execution_count": 1,
   "metadata": {},
   "outputs": [
    {
     "name": "stderr",
     "output_type": "stream",
     "text": [
      "/usr/local/lib/python3.8/dist-packages/geopandas/_compat.py:111: UserWarning: The Shapely GEOS version (3.9.1-CAPI-1.14.2) is incompatible with the GEOS version PyGEOS was compiled with (3.10.0-CAPI-1.16.0). Conversions between both will be slow.\n",
      "  warnings.warn(\n",
      "2022-02-09 06:53:21.556795: W tensorflow/stream_executor/platform/default/dso_loader.cc:64] Could not load dynamic library 'libcudart.so.11.0'; dlerror: libcudart.so.11.0: cannot open shared object file: No such file or directory; LD_LIBRARY_PATH: /usr/local/lib::/usr/lib/jvm/java-11-openjdk-amd64/lib/server:/opt/hadoop/lib/native:/usr/local/lib/R/lib:/usr/local/grass78/lib\n",
      "2022-02-09 06:53:21.556843: I tensorflow/stream_executor/cuda/cudart_stub.cc:29] Ignore above cudart dlerror if you do not have a GPU set up on your machine.\n",
      "2022-02-09 06:53:24.951260: W tensorflow/stream_executor/platform/default/dso_loader.cc:64] Could not load dynamic library 'libcuda.so.1'; dlerror: libcuda.so.1: cannot open shared object file: No such file or directory; LD_LIBRARY_PATH: /usr/local/lib::/usr/lib/jvm/java-11-openjdk-amd64/lib/server:/opt/hadoop/lib/native:/usr/local/lib/R/lib:/usr/local/grass78/lib\n",
      "2022-02-09 06:53:24.951292: W tensorflow/stream_executor/cuda/cuda_driver.cc:269] failed call to cuInit: UNKNOWN ERROR (303)\n",
      "2022-02-09 06:53:24.951321: I tensorflow/stream_executor/cuda/cuda_diagnostics.cc:156] kernel driver does not appear to be running on this host (039184b7445a): /proc/driver/nvidia/version does not exist\n"
     ]
    }
   ],
   "source": [
    "import numpy as np\n",
    "import geopandas as gpd\n",
    "import pandas as pd\n",
    "from scipy.spatial import cKDTree,distance\n",
    "from stellargraph import StellarGraph\n",
    "from tqdm.notebook import tqdm"
   ]
  },
  {
   "cell_type": "code",
   "execution_count": 290,
   "metadata": {},
   "outputs": [],
   "source": [
    "def getNeighbours(in_file,geom_col='geometry'):\n",
    "    in_df=gpd.read_file(in_file).set_index('cat')\n",
    "    in_df=in_df.to_crs('EPSG:32645')\n",
    "    #return in_df\n",
    "    for index, row in tqdm(in_df.iterrows(),total=in_df.shape[0]):\n",
    "        #print(index)\n",
    "        neighbors = in_df[in_df.geometry.touches(row[geom_col])].index.tolist() \n",
    "        nA=np.array(list(in_df['geometry'][[index]].centroid.apply(lambda x: (x.x, x.y))))\n",
    "        nB = np.array(list(in_df['geometry'][neighbors].centroid.apply(lambda x: (x.x, x.y))))\n",
    "        try:\n",
    "            dist=distance.cdist(nA,nB,metric='euclidean').tolist()[0]\n",
    "        except:\n",
    "            print(f'Neigbours not found for {index}')\n",
    "            in_df=in_df.drop(index)\n",
    "            continue\n",
    "        #print(neighbors[0],dist)\n",
    "        #print(dist)\n",
    "        for i in range (len(dist)):\n",
    "            nb_col='nb_'+str(i+1)\n",
    "            ds_col='ds_'+str(i+1)\n",
    "            if nb_col not in in_df:\n",
    "                in_df[nb_col] = \"\"\n",
    "                in_df[ds_col] = \"\"\n",
    "            in_df.at[index, nb_col] = neighbors[i]\n",
    "            in_df.at[index, ds_col] =  dist[i]\n",
    "    return in_df\n",
    "def getNNearNeighbours(in_file,id_col,n_neighbour=5,geom_col='geometry'):\n",
    "    in_df=gpd.read_file(in_file)\n",
    "    in_df=in_df.to_crs('EPSG:32645')\n",
    "    nA = np.array(list(in_df[geom_col].centroid.apply(lambda x: (x.x, x.y))))\n",
    "    tree = cKDTree(nA)\n",
    "    dist, idx = tree.query(nA, k=n_neighbour+1)\n",
    "    for i in range(1,n_neighbour+1):\n",
    "        nb_col='nb_'+str(i)\n",
    "        ds_col='ds_'+str(i)\n",
    "        in_df[nb_col]=idx[:,i]\n",
    "        in_df[ds_col]=dist[:,i]\n",
    "    return in_df\n",
    "\n",
    "\n",
    "    "
   ]
  },
  {
   "cell_type": "code",
   "execution_count": 291,
   "metadata": {},
   "outputs": [
    {
     "data": {
      "application/vnd.jupyter.widget-view+json": {
       "model_id": "7a5c07cf11e64f708f18a84f102290e3",
       "version_major": 2,
       "version_minor": 0
      },
      "text/plain": [
       "  0%|          | 0/58052 [00:00<?, ?it/s]"
      ]
     },
     "metadata": {},
     "output_type": "display_data"
    },
    {
     "name": "stdout",
     "output_type": "stream",
     "text": [
      "Neigbours not found for 147678\n",
      "Neigbours not found for 264817\n",
      "Neigbours not found for 268620\n",
      "Neigbours not found for 175366\n",
      "Neigbours not found for 267233\n",
      "Neigbours not found for 375777\n",
      "Neigbours not found for 375828\n",
      "Neigbours not found for 372659\n",
      "Neigbours not found for 146272\n",
      "Neigbours not found for 252447\n",
      "Neigbours not found for 266798\n",
      "Neigbours not found for 260691\n",
      "Neigbours not found for 146176\n",
      "Neigbours not found for 146069\n",
      "Neigbours not found for 376000\n",
      "Neigbours not found for 260581\n",
      "Neigbours not found for 301175\n",
      "Neigbours not found for 249794\n",
      "Neigbours not found for 375801\n",
      "Neigbours not found for 375938\n",
      "Neigbours not found for 252407\n",
      "Neigbours not found for 375839\n",
      "Neigbours not found for 232013\n",
      "Neigbours not found for 375723\n",
      "Neigbours not found for 375457\n",
      "Neigbours not found for 146076\n",
      "Neigbours not found for 240086\n",
      "Neigbours not found for 241244\n",
      "Neigbours not found for 190529\n",
      "Neigbours not found for 374586\n",
      "Neigbours not found for 354575\n",
      "Neigbours not found for 375738\n",
      "Neigbours not found for 375571\n"
     ]
    }
   ],
   "source": [
    "in_df='Data/SlopeUnits/SlopeUnits_V3.shp'\n",
    "nnear=getNeighbours(in_df)\n",
    "#alln=getNeighbours(in_df)"
   ]
  },
  {
   "cell_type": "code",
   "execution_count": 292,
   "metadata": {},
   "outputs": [],
   "source": [
    "nnear=nnear.drop(columns=['geometry','Area'])"
   ]
  },
  {
   "cell_type": "code",
   "execution_count": 293,
   "metadata": {},
   "outputs": [],
   "source": [
    "nnear.to_csv('Data/nodes/neighbourhood.csv')"
   ]
  },
  {
   "cell_type": "markdown",
   "metadata": {},
   "source": [
    "### load the excel sheet from pandas and join"
   ]
  },
  {
   "cell_type": "markdown",
   "metadata": {},
   "source": [
    "# prepare Feature data"
   ]
  },
  {
   "cell_type": "code",
   "execution_count": 294,
   "metadata": {},
   "outputs": [],
   "source": [
    "neighbourhood_data=pd.read_csv('Data/nodes/neighbourhood.csv')\n",
    "covars=pd.read_excel('Data/Covars_yearly/all_covars.xls')"
   ]
  },
  {
   "cell_type": "code",
   "execution_count": null,
   "metadata": {},
   "outputs": [],
   "source": [
    "covars.columns.tolist()"
   ]
  },
  {
   "cell_type": "code",
   "execution_count": 10,
   "metadata": {},
   "outputs": [],
   "source": [
    "constant_covars=covars[['Cat', 'clay','organic', 'HorizontalCurvature_mean','HorizontalCurvature_stdDev','VerticalCurvature_mean','VerticalCurvature_stdDev',\n",
    "                 'aspect_mean','aspect_stdDev','elevation_mean','elevation_stdDev','slope_mean','slope_stdDev']]"
   ]
  },
  {
   "cell_type": "code",
   "execution_count": 11,
   "metadata": {},
   "outputs": [],
   "source": [
    "covars=covars.drop(columns=[ 'clay','organic', 'HorizontalCurvature_mean','HorizontalCurvature_stdDev','VerticalCurvature_mean','VerticalCurvature_stdDev',\n",
    "                 'aspect_mean','aspect_stdDev','elevation_mean','elevation_stdDev','slope_mean','slope_stdDev'])"
   ]
  },
  {
   "cell_type": "code",
   "execution_count": 44,
   "metadata": {},
   "outputs": [
    {
     "data": {
      "application/vnd.jupyter.widget-view+json": {
       "model_id": "caccf579d1ae40c1bdfe5e3efc37af94",
       "version_major": 2,
       "version_minor": 0
      },
      "text/plain": [
       "  0%|          | 0/31 [00:00<?, ?it/s]"
      ]
     },
     "metadata": {},
     "output_type": "display_data"
    }
   ],
   "source": [
    " #0_NdMx_mean,0_NdMx_stdDev 'b1_PMx' 'b7_PMe' 'b6_PSt'\n",
    "for i in tqdm(range(31)):\n",
    "    ndvi_mean_col=f'{str(i)}_NdMx_mean'\n",
    "    ndvi_stdv_col=f'{str(i)}_NdMx_stdDev'\n",
    "    prec_mean_col=f'b{str(i+1)}_PMx'\n",
    "    prec_stdv_col=f'b{str(i+1)}_PMe'\n",
    "    prec_maxi_col=f'b{str(i+1)}_PSt'\n",
    "    covars_subset=covars[['Cat',ndvi_mean_col,ndvi_stdv_col,prec_mean_col,prec_stdv_col,prec_maxi_col]]\n",
    "    covar_data=pd.merge(constant_covars,covars_subset,left_on='Cat',right_on='Cat',left_index=False)\n",
    "    covar_data.to_csv(f'Data/covars_{str(1988+i)}.csv')\n",
    "    #break"
   ]
  },
  {
   "cell_type": "code",
   "execution_count": 296,
   "metadata": {},
   "outputs": [
    {
     "data": {
      "application/vnd.jupyter.widget-view+json": {
       "model_id": "3351033bca37403c93397414f39d8759",
       "version_major": 2,
       "version_minor": 0
      },
      "text/plain": [
       "  0%|          | 0/25 [00:00<?, ?it/s]"
      ]
     },
     "metadata": {},
     "output_type": "display_data"
    }
   ],
   "source": [
    "df_neighbour=pd.DataFrame(columns=['target','source','weight'])\n",
    "for i in tqdm(range(1,26)):\n",
    "    nb_col=f'nb_{str(i)}'\n",
    "    ds_col=f'ds_{str(i)}'\n",
    "    df_subset=neighbourhood_data[['cat',nb_col,ds_col]].dropna()\n",
    "    df_subset=df_subset.rename(columns={'cat':'target',nb_col:'source',ds_col:'weight'})\n",
    "    df_neighbour=df_neighbour.append(df_subset, ignore_index=True)\n",
    "    #break"
   ]
  },
  {
   "cell_type": "code",
   "execution_count": 297,
   "metadata": {},
   "outputs": [
    {
     "data": {
      "text/html": [
       "<div>\n",
       "<style scoped>\n",
       "    .dataframe tbody tr th:only-of-type {\n",
       "        vertical-align: middle;\n",
       "    }\n",
       "\n",
       "    .dataframe tbody tr th {\n",
       "        vertical-align: top;\n",
       "    }\n",
       "\n",
       "    .dataframe thead th {\n",
       "        text-align: right;\n",
       "    }\n",
       "</style>\n",
       "<table border=\"1\" class=\"dataframe\">\n",
       "  <thead>\n",
       "    <tr style=\"text-align: right;\">\n",
       "      <th></th>\n",
       "      <th>target</th>\n",
       "      <th>source</th>\n",
       "      <th>weight</th>\n",
       "    </tr>\n",
       "  </thead>\n",
       "  <tbody>\n",
       "    <tr>\n",
       "      <th>0</th>\n",
       "      <td>328069</td>\n",
       "      <td>328157</td>\n",
       "      <td>1465.229143</td>\n",
       "    </tr>\n",
       "    <tr>\n",
       "      <th>1</th>\n",
       "      <td>330938</td>\n",
       "      <td>330395</td>\n",
       "      <td>1059.508589</td>\n",
       "    </tr>\n",
       "    <tr>\n",
       "      <th>2</th>\n",
       "      <td>258925</td>\n",
       "      <td>257922</td>\n",
       "      <td>527.723837</td>\n",
       "    </tr>\n",
       "    <tr>\n",
       "      <th>3</th>\n",
       "      <td>322424</td>\n",
       "      <td>322391</td>\n",
       "      <td>1371.401816</td>\n",
       "    </tr>\n",
       "    <tr>\n",
       "      <th>4</th>\n",
       "      <td>216685</td>\n",
       "      <td>215877</td>\n",
       "      <td>504.676123</td>\n",
       "    </tr>\n",
       "    <tr>\n",
       "      <th>...</th>\n",
       "      <td>...</td>\n",
       "      <td>...</td>\n",
       "      <td>...</td>\n",
       "    </tr>\n",
       "    <tr>\n",
       "      <th>341748</th>\n",
       "      <td>354815</td>\n",
       "      <td>355215.0</td>\n",
       "      <td>1272.979159</td>\n",
       "    </tr>\n",
       "    <tr>\n",
       "      <th>341749</th>\n",
       "      <td>298406</td>\n",
       "      <td>291148.0</td>\n",
       "      <td>4499.337638</td>\n",
       "    </tr>\n",
       "    <tr>\n",
       "      <th>341750</th>\n",
       "      <td>354815</td>\n",
       "      <td>354795.0</td>\n",
       "      <td>2148.723794</td>\n",
       "    </tr>\n",
       "    <tr>\n",
       "      <th>341751</th>\n",
       "      <td>298406</td>\n",
       "      <td>296211.0</td>\n",
       "      <td>806.419163</td>\n",
       "    </tr>\n",
       "    <tr>\n",
       "      <th>341752</th>\n",
       "      <td>298406</td>\n",
       "      <td>291301.0</td>\n",
       "      <td>4235.951347</td>\n",
       "    </tr>\n",
       "  </tbody>\n",
       "</table>\n",
       "<p>341753 rows × 3 columns</p>\n",
       "</div>"
      ],
      "text/plain": [
       "        target    source       weight\n",
       "0       328069    328157  1465.229143\n",
       "1       330938    330395  1059.508589\n",
       "2       258925    257922   527.723837\n",
       "3       322424    322391  1371.401816\n",
       "4       216685    215877   504.676123\n",
       "...        ...       ...          ...\n",
       "341748  354815  355215.0  1272.979159\n",
       "341749  298406  291148.0  4499.337638\n",
       "341750  354815  354795.0  2148.723794\n",
       "341751  298406  296211.0   806.419163\n",
       "341752  298406  291301.0  4235.951347\n",
       "\n",
       "[341753 rows x 3 columns]"
      ]
     },
     "execution_count": 297,
     "metadata": {},
     "output_type": "execute_result"
    }
   ],
   "source": [
    "df_neighbour"
   ]
  },
  {
   "cell_type": "code",
   "execution_count": 298,
   "metadata": {},
   "outputs": [],
   "source": [
    "df_neighbour.to_csv('Data/node_matrix.csv')"
   ]
  },
  {
   "cell_type": "markdown",
   "metadata": {},
   "source": [
    "# Get target variables"
   ]
  },
  {
   "cell_type": "code",
   "execution_count": 6,
   "metadata": {},
   "outputs": [],
   "source": [
    "import geopandas as gpd\n",
    "import pandas as pd\n",
    "from tqdm.notebook import tqdm\n",
    "df_inventory=gpd.read_file('Data/Inventory/DataFile5_-_12920ASMinventory.shp')\n",
    "df_slopeunit=gpd.read_file('Data/SlopeUnits/SlopeUnits_V3.shp')\n",
    "df_slopeunit=df_slopeunit.to_crs(df_inventory.crs)"
   ]
  },
  {
   "cell_type": "code",
   "execution_count": 43,
   "metadata": {},
   "outputs": [
    {
     "data": {
      "application/vnd.jupyter.widget-view+json": {
       "model_id": "baa877581716435d82b9f98cfca2c621",
       "version_major": 2,
       "version_minor": 0
      },
      "text/plain": "  0%|          | 0/31 [00:00<?, ?it/s]"
     },
     "metadata": {},
     "output_type": "display_data"
    },
    {
     "name": "stdout",
     "output_type": "stream",
     "text": [
      "no data exists for 2011\n",
      "no data exists for 2012\n"
     ]
    }
   ],
   "source": [
    "df_inventory['area_inventory']=df_inventory.area\n",
    "df_slopeunit['area_slopeunit']=df_slopeunit.area\n",
    "for i in tqdm(range(31)):\n",
    "    df_slopeunit_sub=df_slopeunit\n",
    "    monsoon_year=1988+i\n",
    "    inventory_subset=df_inventory[df_inventory['Monsoon_Ye']==str(monsoon_year)]\n",
    "    if inventory_subset.empty:\n",
    "        print(f'no data exists for {str(monsoon_year)}')\n",
    "        continue\n",
    "    sjoined=gpd.overlay(inventory_subset, df_slopeunit, how='intersection')\n",
    "    sjoined['area_new']=sjoined.area\n",
    "    sjoined=sjoined.groupby(['cat'])['area_new'].agg(['sum','count'])\n",
    "    sjoined=sjoined.rename(columns={'sum':'area_inventory','count':'number_landslide'})\n",
    "    df_slopeunit_sub['landslide']=0\n",
    "    df_slopeunit_sub=df_slopeunit_sub.join(sjoined, on='cat')\n",
    "    df_slopeunit_sub.loc[df_slopeunit_sub['area_inventory']>0,'landslide']=1\n",
    "    df_slopeunit_sub=df_slopeunit_sub.fillna(0)\n",
    "    df_slopeunit_sub['area_density']=100*(df_slopeunit_sub.area_inventory/df_slopeunit_sub.area_slopeunit)\n",
    "    df_slopeunit_sub=df_slopeunit_sub[['cat','area_density','number_landslide','landslide']]\n",
    "    file_name=f'Data/Targets/targets_{str(monsoon_year)}.csv'\n",
    "    if (df_slopeunit_sub[df_slopeunit_sub.area_density>100].empty==False):\n",
    "        print('ok')\n",
    "        break\n",
    "    df_slopeunit_sub.to_csv(file_name)\n",
    "    "
   ]
  },
  {
   "cell_type": "code",
   "execution_count": 37,
   "metadata": {},
   "outputs": [
    {
     "data": {
      "text/html": "<div>\n<style scoped>\n    .dataframe tbody tr th:only-of-type {\n        vertical-align: middle;\n    }\n\n    .dataframe tbody tr th {\n        vertical-align: top;\n    }\n\n    .dataframe thead th {\n        text-align: right;\n    }\n</style>\n<table border=\"1\" class=\"dataframe\">\n  <thead>\n    <tr style=\"text-align: right;\">\n      <th></th>\n      <th>area_inventory</th>\n      <th>number_landslide</th>\n    </tr>\n    <tr>\n      <th>cat</th>\n      <th></th>\n      <th></th>\n    </tr>\n  </thead>\n  <tbody>\n    <tr>\n      <th>183932</th>\n      <td>29399.699971</td>\n      <td>1</td>\n    </tr>\n    <tr>\n      <th>185758</th>\n      <td>29399.699971</td>\n      <td>1</td>\n    </tr>\n    <tr>\n      <th>197836</th>\n      <td>26769.770230</td>\n      <td>1</td>\n    </tr>\n    <tr>\n      <th>198533</th>\n      <td>9752.518020</td>\n      <td>1</td>\n    </tr>\n    <tr>\n      <th>198653</th>\n      <td>206380.625175</td>\n      <td>1</td>\n    </tr>\n    <tr>\n      <th>...</th>\n      <td>...</td>\n      <td>...</td>\n    </tr>\n    <tr>\n      <th>372444</th>\n      <td>32878.315809</td>\n      <td>1</td>\n    </tr>\n    <tr>\n      <th>372626</th>\n      <td>7240.437164</td>\n      <td>1</td>\n    </tr>\n    <tr>\n      <th>372713</th>\n      <td>32878.315809</td>\n      <td>1</td>\n    </tr>\n    <tr>\n      <th>373242</th>\n      <td>28534.093173</td>\n      <td>1</td>\n    </tr>\n    <tr>\n      <th>374340</th>\n      <td>3091.145205</td>\n      <td>1</td>\n    </tr>\n  </tbody>\n</table>\n<p>446 rows × 2 columns</p>\n</div>",
      "text/plain": "        area_inventory  number_landslide\ncat                                     \n183932    29399.699971                 1\n185758    29399.699971                 1\n197836    26769.770230                 1\n198533     9752.518020                 1\n198653   206380.625175                 1\n...                ...               ...\n372444    32878.315809                 1\n372626     7240.437164                 1\n372713    32878.315809                 1\n373242    28534.093173                 1\n374340     3091.145205                 1\n\n[446 rows x 2 columns]"
     },
     "execution_count": 37,
     "metadata": {},
     "output_type": "execute_result"
    }
   ],
   "source": [
    "df_slopeunit_sub=df_slopeunit\n"
   ]
  },
  {
   "cell_type": "code",
   "execution_count": 39,
   "metadata": {},
   "outputs": [],
   "source": []
  },
  {
   "cell_type": "code",
   "execution_count": 41,
   "metadata": {},
   "outputs": [
    {
     "data": {
      "text/html": "<div>\n<style scoped>\n    .dataframe tbody tr th:only-of-type {\n        vertical-align: middle;\n    }\n\n    .dataframe tbody tr th {\n        vertical-align: top;\n    }\n\n    .dataframe thead th {\n        text-align: right;\n    }\n</style>\n<table border=\"1\" class=\"dataframe\">\n  <thead>\n    <tr style=\"text-align: right;\">\n      <th></th>\n      <th>Area</th>\n      <th>cat</th>\n      <th>geometry</th>\n      <th>area_slopeunit</th>\n      <th>landslide</th>\n      <th>area_inventory</th>\n      <th>number_landslide</th>\n      <th>area_density</th>\n    </tr>\n  </thead>\n  <tbody>\n    <tr>\n      <th>130</th>\n      <td>670920.625</td>\n      <td>306108</td>\n      <td>POLYGON ((489569.989 3047790.125, 489584.881 3...</td>\n      <td>6.704184e+05</td>\n      <td>1</td>\n      <td>7927.753158</td>\n      <td>1.0</td>\n      <td>1.182508</td>\n    </tr>\n    <tr>\n      <th>423</th>\n      <td>2783107.801</td>\n      <td>333450</td>\n      <td>POLYGON ((580289.788 3023415.144, 580305.174 3...</td>\n      <td>2.781231e+06</td>\n      <td>1</td>\n      <td>501689.009675</td>\n      <td>8.0</td>\n      <td>18.038378</td>\n    </tr>\n    <tr>\n      <th>614</th>\n      <td>1982436.676</td>\n      <td>333866</td>\n      <td>POLYGON ((575879.900 3022200.000, 575879.902 3...</td>\n      <td>1.981290e+06</td>\n      <td>1</td>\n      <td>17570.597082</td>\n      <td>1.0</td>\n      <td>0.886826</td>\n    </tr>\n    <tr>\n      <th>618</th>\n      <td>379580.919</td>\n      <td>199681</td>\n      <td>POLYGON ((290009.876 3127199.795, 290024.764 3...</td>\n      <td>3.797988e+05</td>\n      <td>1</td>\n      <td>25446.262486</td>\n      <td>1.0</td>\n      <td>6.699933</td>\n    </tr>\n    <tr>\n      <th>731</th>\n      <td>509786.566</td>\n      <td>325220</td>\n      <td>POLYGON ((458339.938 3029820.000, 458354.827 3...</td>\n      <td>5.093908e+05</td>\n      <td>1</td>\n      <td>337.771702</td>\n      <td>1.0</td>\n      <td>0.066309</td>\n    </tr>\n    <tr>\n      <th>...</th>\n      <td>...</td>\n      <td>...</td>\n      <td>...</td>\n      <td>...</td>\n      <td>...</td>\n      <td>...</td>\n      <td>...</td>\n      <td>...</td>\n    </tr>\n    <tr>\n      <th>57362</th>\n      <td>1137623.648</td>\n      <td>199267</td>\n      <td>POLYGON ((310679.838 3126899.978, 310695.228 3...</td>\n      <td>1.137700e+06</td>\n      <td>1</td>\n      <td>16229.873560</td>\n      <td>1.0</td>\n      <td>1.426551</td>\n    </tr>\n    <tr>\n      <th>57454</th>\n      <td>739735.243</td>\n      <td>199357</td>\n      <td>POLYGON ((309270.106 3127529.883, 309270.105 3...</td>\n      <td>7.397870e+05</td>\n      <td>1</td>\n      <td>2380.876225</td>\n      <td>1.0</td>\n      <td>0.321833</td>\n    </tr>\n    <tr>\n      <th>57599</th>\n      <td>690611.993</td>\n      <td>365574</td>\n      <td>POLYGON ((469230.125 2978909.776, 469245.019 2...</td>\n      <td>6.899061e+05</td>\n      <td>1</td>\n      <td>7547.614057</td>\n      <td>1.0</td>\n      <td>1.094006</td>\n    </tr>\n    <tr>\n      <th>57676</th>\n      <td>585834.162</td>\n      <td>239666</td>\n      <td>POLYGON ((329609.973 3099599.798, 329624.860 3...</td>\n      <td>5.858193e+05</td>\n      <td>1</td>\n      <td>6191.908228</td>\n      <td>1.0</td>\n      <td>1.056966</td>\n    </tr>\n    <tr>\n      <th>57683</th>\n      <td>3938656.773</td>\n      <td>336948</td>\n      <td>POLYGON ((418560.148 3014760.179, 418560.154 3...</td>\n      <td>3.936108e+06</td>\n      <td>1</td>\n      <td>2161.857703</td>\n      <td>1.0</td>\n      <td>0.054924</td>\n    </tr>\n  </tbody>\n</table>\n<p>446 rows × 8 columns</p>\n</div>",
      "text/plain": "              Area     cat                                           geometry  \\\n130     670920.625  306108  POLYGON ((489569.989 3047790.125, 489584.881 3...   \n423    2783107.801  333450  POLYGON ((580289.788 3023415.144, 580305.174 3...   \n614    1982436.676  333866  POLYGON ((575879.900 3022200.000, 575879.902 3...   \n618     379580.919  199681  POLYGON ((290009.876 3127199.795, 290024.764 3...   \n731     509786.566  325220  POLYGON ((458339.938 3029820.000, 458354.827 3...   \n...            ...     ...                                                ...   \n57362  1137623.648  199267  POLYGON ((310679.838 3126899.978, 310695.228 3...   \n57454   739735.243  199357  POLYGON ((309270.106 3127529.883, 309270.105 3...   \n57599   690611.993  365574  POLYGON ((469230.125 2978909.776, 469245.019 2...   \n57676   585834.162  239666  POLYGON ((329609.973 3099599.798, 329624.860 3...   \n57683  3938656.773  336948  POLYGON ((418560.148 3014760.179, 418560.154 3...   \n\n       area_slopeunit  landslide  area_inventory  number_landslide  \\\n130      6.704184e+05          1     7927.753158               1.0   \n423      2.781231e+06          1   501689.009675               8.0   \n614      1.981290e+06          1    17570.597082               1.0   \n618      3.797988e+05          1    25446.262486               1.0   \n731      5.093908e+05          1      337.771702               1.0   \n...               ...        ...             ...               ...   \n57362    1.137700e+06          1    16229.873560               1.0   \n57454    7.397870e+05          1     2380.876225               1.0   \n57599    6.899061e+05          1     7547.614057               1.0   \n57676    5.858193e+05          1     6191.908228               1.0   \n57683    3.936108e+06          1     2161.857703               1.0   \n\n       area_density  \n130        1.182508  \n423       18.038378  \n614        0.886826  \n618        6.699933  \n731        0.066309  \n...             ...  \n57362      1.426551  \n57454      0.321833  \n57599      1.094006  \n57676      1.056966  \n57683      0.054924  \n\n[446 rows x 8 columns]"
     },
     "execution_count": 41,
     "metadata": {},
     "output_type": "execute_result"
    }
   ],
   "source": [
    "df_slopeunit_sub[df_slopeunit_sub.area_density>0]"
   ]
  },
  {
   "cell_type": "markdown",
   "metadata": {},
   "source": [
    "# create Graphs"
   ]
  },
  {
   "cell_type": "code",
   "execution_count": 299,
   "metadata": {},
   "outputs": [
    {
     "data": {
      "application/vnd.jupyter.widget-view+json": {
       "model_id": "ca30836a1e5349268bcd50932c746035",
       "version_major": 2,
       "version_minor": 0
      },
      "text/plain": [
       "  0%|          | 0/31 [00:00<?, ?it/s]"
      ]
     },
     "metadata": {},
     "output_type": "display_data"
    }
   ],
   "source": [
    "graphs=[]\n",
    "nodes=pd.read_csv('Data/node_matrix.csv',index_col=0)\n",
    "nodes['source']=nodes['source'].astype(int)\n",
    "for i in tqdm(range(31)):\n",
    "    features_file=f'Data/covars_{str(1988+i)}.csv'\n",
    "    features_data=pd.read_csv(f'Data/Covars_yearly/covars_{str(1988+i)}.csv',index_col=0).set_index('Cat')\n",
    "    graph = StellarGraph(features_data,nodes)\n",
    "    graphs.append(graph)"
   ]
  },
  {
   "cell_type": "code",
   "execution_count": 300,
   "metadata": {},
   "outputs": [
    {
     "data": {
      "text/plain": [
       "'StellarGraph: Undirected multigraph\\n Nodes: 58052, Edges: 341753\\n\\n Node types:\\n  default: [58052]\\n    Features: float32 vector, length 17\\n    Edge types: default-default->default\\n\\n Edge types:\\n    default-default->default: [341753]\\n        Weights: range=[25.4536, 7685.69], mean=1176.85, std=631.384\\n        Features: none'"
      ]
     },
     "execution_count": 300,
     "metadata": {},
     "output_type": "execute_result"
    }
   ],
   "source": [
    "graphs[0].info()"
   ]
  },
  {
   "cell_type": "code",
   "execution_count": 301,
   "metadata": {},
   "outputs": [
    {
     "data": {
      "text/html": [
       "<div>\n",
       "<style scoped>\n",
       "    .dataframe tbody tr th:only-of-type {\n",
       "        vertical-align: middle;\n",
       "    }\n",
       "\n",
       "    .dataframe tbody tr th {\n",
       "        vertical-align: top;\n",
       "    }\n",
       "\n",
       "    .dataframe thead th {\n",
       "        text-align: right;\n",
       "    }\n",
       "</style>\n",
       "<table border=\"1\" class=\"dataframe\">\n",
       "  <thead>\n",
       "    <tr style=\"text-align: right;\">\n",
       "      <th></th>\n",
       "      <th>clay</th>\n",
       "      <th>organic</th>\n",
       "      <th>HorizontalCurvature_mean</th>\n",
       "      <th>HorizontalCurvature_stdDev</th>\n",
       "      <th>VerticalCurvature_mean</th>\n",
       "      <th>VerticalCurvature_stdDev</th>\n",
       "      <th>aspect_mean</th>\n",
       "      <th>aspect_stdDev</th>\n",
       "      <th>elevation_mean</th>\n",
       "      <th>elevation_stdDev</th>\n",
       "      <th>slope_mean</th>\n",
       "      <th>slope_stdDev</th>\n",
       "      <th>30_NdMx_mean</th>\n",
       "      <th>30_NdMx_stdDev</th>\n",
       "      <th>b31_PMx</th>\n",
       "      <th>b31_PMe</th>\n",
       "      <th>b31_PSt</th>\n",
       "    </tr>\n",
       "    <tr>\n",
       "      <th>Cat</th>\n",
       "      <th></th>\n",
       "      <th></th>\n",
       "      <th></th>\n",
       "      <th></th>\n",
       "      <th></th>\n",
       "      <th></th>\n",
       "      <th></th>\n",
       "      <th></th>\n",
       "      <th></th>\n",
       "      <th></th>\n",
       "      <th></th>\n",
       "      <th></th>\n",
       "      <th></th>\n",
       "      <th></th>\n",
       "      <th></th>\n",
       "      <th></th>\n",
       "      <th></th>\n",
       "    </tr>\n",
       "  </thead>\n",
       "  <tbody>\n",
       "    <tr>\n",
       "      <th>330938</th>\n",
       "      <td>13.804274</td>\n",
       "      <td>2.814837</td>\n",
       "      <td>0.000041</td>\n",
       "      <td>0.000407</td>\n",
       "      <td>-0.000105</td>\n",
       "      <td>0.000636</td>\n",
       "      <td>235.653516</td>\n",
       "      <td>80.420060</td>\n",
       "      <td>225.068661</td>\n",
       "      <td>7.989450</td>\n",
       "      <td>3.070058</td>\n",
       "      <td>1.971146</td>\n",
       "      <td>0.681430</td>\n",
       "      <td>0.015650</td>\n",
       "      <td>48.221889</td>\n",
       "      <td>4.967041</td>\n",
       "      <td>9.871718</td>\n",
       "    </tr>\n",
       "    <tr>\n",
       "      <th>332460</th>\n",
       "      <td>12.649948</td>\n",
       "      <td>2.509876</td>\n",
       "      <td>0.000017</td>\n",
       "      <td>0.000312</td>\n",
       "      <td>-0.000004</td>\n",
       "      <td>0.000369</td>\n",
       "      <td>221.416476</td>\n",
       "      <td>58.947243</td>\n",
       "      <td>361.711077</td>\n",
       "      <td>19.873541</td>\n",
       "      <td>2.296744</td>\n",
       "      <td>1.377863</td>\n",
       "      <td>0.648912</td>\n",
       "      <td>0.048879</td>\n",
       "      <td>65.372414</td>\n",
       "      <td>5.016054</td>\n",
       "      <td>10.206280</td>\n",
       "    </tr>\n",
       "    <tr>\n",
       "      <th>329268</th>\n",
       "      <td>14.714447</td>\n",
       "      <td>2.672427</td>\n",
       "      <td>-0.000107</td>\n",
       "      <td>0.002005</td>\n",
       "      <td>-0.000067</td>\n",
       "      <td>0.000993</td>\n",
       "      <td>170.238349</td>\n",
       "      <td>52.932861</td>\n",
       "      <td>536.215113</td>\n",
       "      <td>39.208104</td>\n",
       "      <td>9.380708</td>\n",
       "      <td>3.080571</td>\n",
       "      <td>0.547350</td>\n",
       "      <td>0.040670</td>\n",
       "      <td>72.739525</td>\n",
       "      <td>5.088988</td>\n",
       "      <td>11.147287</td>\n",
       "    </tr>\n",
       "    <tr>\n",
       "      <th>322762</th>\n",
       "      <td>15.926574</td>\n",
       "      <td>3.225687</td>\n",
       "      <td>0.000108</td>\n",
       "      <td>0.001296</td>\n",
       "      <td>0.000864</td>\n",
       "      <td>0.001609</td>\n",
       "      <td>215.525700</td>\n",
       "      <td>92.256204</td>\n",
       "      <td>459.530459</td>\n",
       "      <td>22.963471</td>\n",
       "      <td>5.706772</td>\n",
       "      <td>3.802420</td>\n",
       "      <td>0.683454</td>\n",
       "      <td>0.011223</td>\n",
       "      <td>79.915848</td>\n",
       "      <td>5.111228</td>\n",
       "      <td>11.053352</td>\n",
       "    </tr>\n",
       "    <tr>\n",
       "      <th>300883</th>\n",
       "      <td>14.673804</td>\n",
       "      <td>2.723728</td>\n",
       "      <td>0.000079</td>\n",
       "      <td>0.002673</td>\n",
       "      <td>-0.000049</td>\n",
       "      <td>0.001786</td>\n",
       "      <td>245.884936</td>\n",
       "      <td>49.092416</td>\n",
       "      <td>606.852486</td>\n",
       "      <td>160.803574</td>\n",
       "      <td>20.977737</td>\n",
       "      <td>8.728044</td>\n",
       "      <td>0.639748</td>\n",
       "      <td>0.076018</td>\n",
       "      <td>89.450447</td>\n",
       "      <td>5.157235</td>\n",
       "      <td>10.898296</td>\n",
       "    </tr>\n",
       "    <tr>\n",
       "      <th>...</th>\n",
       "      <td>...</td>\n",
       "      <td>...</td>\n",
       "      <td>...</td>\n",
       "      <td>...</td>\n",
       "      <td>...</td>\n",
       "      <td>...</td>\n",
       "      <td>...</td>\n",
       "      <td>...</td>\n",
       "      <td>...</td>\n",
       "      <td>...</td>\n",
       "      <td>...</td>\n",
       "      <td>...</td>\n",
       "      <td>...</td>\n",
       "      <td>...</td>\n",
       "      <td>...</td>\n",
       "      <td>...</td>\n",
       "      <td>...</td>\n",
       "    </tr>\n",
       "    <tr>\n",
       "      <th>251087</th>\n",
       "      <td>14.481656</td>\n",
       "      <td>5.373497</td>\n",
       "      <td>-0.000038</td>\n",
       "      <td>0.000450</td>\n",
       "      <td>-0.000268</td>\n",
       "      <td>0.000688</td>\n",
       "      <td>75.516247</td>\n",
       "      <td>79.430815</td>\n",
       "      <td>4572.506878</td>\n",
       "      <td>18.360539</td>\n",
       "      <td>5.531359</td>\n",
       "      <td>3.849466</td>\n",
       "      <td>0.371008</td>\n",
       "      <td>0.109263</td>\n",
       "      <td>54.664452</td>\n",
       "      <td>3.639956</td>\n",
       "      <td>8.720836</td>\n",
       "    </tr>\n",
       "    <tr>\n",
       "      <th>245589</th>\n",
       "      <td>12.910275</td>\n",
       "      <td>5.519663</td>\n",
       "      <td>0.000054</td>\n",
       "      <td>0.001118</td>\n",
       "      <td>-0.000145</td>\n",
       "      <td>0.001021</td>\n",
       "      <td>112.875184</td>\n",
       "      <td>67.618628</td>\n",
       "      <td>5016.070500</td>\n",
       "      <td>67.911834</td>\n",
       "      <td>8.127049</td>\n",
       "      <td>3.511709</td>\n",
       "      <td>0.195880</td>\n",
       "      <td>0.049551</td>\n",
       "      <td>43.528488</td>\n",
       "      <td>3.315684</td>\n",
       "      <td>8.145844</td>\n",
       "    </tr>\n",
       "    <tr>\n",
       "      <th>251122</th>\n",
       "      <td>11.563867</td>\n",
       "      <td>5.689320</td>\n",
       "      <td>-0.001868</td>\n",
       "      <td>0.002157</td>\n",
       "      <td>-0.000302</td>\n",
       "      <td>0.001140</td>\n",
       "      <td>209.513123</td>\n",
       "      <td>19.575896</td>\n",
       "      <td>5736.096591</td>\n",
       "      <td>107.709969</td>\n",
       "      <td>51.861079</td>\n",
       "      <td>10.205617</td>\n",
       "      <td>0.336029</td>\n",
       "      <td>0.002939</td>\n",
       "      <td>72.271957</td>\n",
       "      <td>4.020911</td>\n",
       "      <td>9.855270</td>\n",
       "    </tr>\n",
       "    <tr>\n",
       "      <th>239982</th>\n",
       "      <td>12.566677</td>\n",
       "      <td>5.864379</td>\n",
       "      <td>0.000370</td>\n",
       "      <td>0.001435</td>\n",
       "      <td>-0.000444</td>\n",
       "      <td>0.001927</td>\n",
       "      <td>88.078033</td>\n",
       "      <td>43.854230</td>\n",
       "      <td>5201.269331</td>\n",
       "      <td>102.822797</td>\n",
       "      <td>17.236736</td>\n",
       "      <td>8.008776</td>\n",
       "      <td>0.157791</td>\n",
       "      <td>0.072663</td>\n",
       "      <td>63.011543</td>\n",
       "      <td>4.319623</td>\n",
       "      <td>11.250703</td>\n",
       "    </tr>\n",
       "    <tr>\n",
       "      <th>231844</th>\n",
       "      <td>10.316800</td>\n",
       "      <td>5.281063</td>\n",
       "      <td>-0.000922</td>\n",
       "      <td>0.002618</td>\n",
       "      <td>-0.000279</td>\n",
       "      <td>0.001503</td>\n",
       "      <td>255.151339</td>\n",
       "      <td>15.964746</td>\n",
       "      <td>6400.820220</td>\n",
       "      <td>325.357261</td>\n",
       "      <td>54.325806</td>\n",
       "      <td>6.942736</td>\n",
       "      <td>0.240551</td>\n",
       "      <td>0.024451</td>\n",
       "      <td>62.049690</td>\n",
       "      <td>4.215568</td>\n",
       "      <td>10.666126</td>\n",
       "    </tr>\n",
       "  </tbody>\n",
       "</table>\n",
       "<p>58052 rows × 17 columns</p>\n",
       "</div>"
      ],
      "text/plain": [
       "             clay   organic  HorizontalCurvature_mean  \\\n",
       "Cat                                                     \n",
       "330938  13.804274  2.814837                  0.000041   \n",
       "332460  12.649948  2.509876                  0.000017   \n",
       "329268  14.714447  2.672427                 -0.000107   \n",
       "322762  15.926574  3.225687                  0.000108   \n",
       "300883  14.673804  2.723728                  0.000079   \n",
       "...           ...       ...                       ...   \n",
       "251087  14.481656  5.373497                 -0.000038   \n",
       "245589  12.910275  5.519663                  0.000054   \n",
       "251122  11.563867  5.689320                 -0.001868   \n",
       "239982  12.566677  5.864379                  0.000370   \n",
       "231844  10.316800  5.281063                 -0.000922   \n",
       "\n",
       "        HorizontalCurvature_stdDev  VerticalCurvature_mean  \\\n",
       "Cat                                                          \n",
       "330938                    0.000407               -0.000105   \n",
       "332460                    0.000312               -0.000004   \n",
       "329268                    0.002005               -0.000067   \n",
       "322762                    0.001296                0.000864   \n",
       "300883                    0.002673               -0.000049   \n",
       "...                            ...                     ...   \n",
       "251087                    0.000450               -0.000268   \n",
       "245589                    0.001118               -0.000145   \n",
       "251122                    0.002157               -0.000302   \n",
       "239982                    0.001435               -0.000444   \n",
       "231844                    0.002618               -0.000279   \n",
       "\n",
       "        VerticalCurvature_stdDev  aspect_mean  aspect_stdDev  elevation_mean  \\\n",
       "Cat                                                                            \n",
       "330938                  0.000636   235.653516      80.420060      225.068661   \n",
       "332460                  0.000369   221.416476      58.947243      361.711077   \n",
       "329268                  0.000993   170.238349      52.932861      536.215113   \n",
       "322762                  0.001609   215.525700      92.256204      459.530459   \n",
       "300883                  0.001786   245.884936      49.092416      606.852486   \n",
       "...                          ...          ...            ...             ...   \n",
       "251087                  0.000688    75.516247      79.430815     4572.506878   \n",
       "245589                  0.001021   112.875184      67.618628     5016.070500   \n",
       "251122                  0.001140   209.513123      19.575896     5736.096591   \n",
       "239982                  0.001927    88.078033      43.854230     5201.269331   \n",
       "231844                  0.001503   255.151339      15.964746     6400.820220   \n",
       "\n",
       "        elevation_stdDev  slope_mean  slope_stdDev  30_NdMx_mean  \\\n",
       "Cat                                                                \n",
       "330938          7.989450    3.070058      1.971146      0.681430   \n",
       "332460         19.873541    2.296744      1.377863      0.648912   \n",
       "329268         39.208104    9.380708      3.080571      0.547350   \n",
       "322762         22.963471    5.706772      3.802420      0.683454   \n",
       "300883        160.803574   20.977737      8.728044      0.639748   \n",
       "...                  ...         ...           ...           ...   \n",
       "251087         18.360539    5.531359      3.849466      0.371008   \n",
       "245589         67.911834    8.127049      3.511709      0.195880   \n",
       "251122        107.709969   51.861079     10.205617      0.336029   \n",
       "239982        102.822797   17.236736      8.008776      0.157791   \n",
       "231844        325.357261   54.325806      6.942736      0.240551   \n",
       "\n",
       "        30_NdMx_stdDev    b31_PMx   b31_PMe    b31_PSt  \n",
       "Cat                                                     \n",
       "330938        0.015650  48.221889  4.967041   9.871718  \n",
       "332460        0.048879  65.372414  5.016054  10.206280  \n",
       "329268        0.040670  72.739525  5.088988  11.147287  \n",
       "322762        0.011223  79.915848  5.111228  11.053352  \n",
       "300883        0.076018  89.450447  5.157235  10.898296  \n",
       "...                ...        ...       ...        ...  \n",
       "251087        0.109263  54.664452  3.639956   8.720836  \n",
       "245589        0.049551  43.528488  3.315684   8.145844  \n",
       "251122        0.002939  72.271957  4.020911   9.855270  \n",
       "239982        0.072663  63.011543  4.319623  11.250703  \n",
       "231844        0.024451  62.049690  4.215568  10.666126  \n",
       "\n",
       "[58052 rows x 17 columns]"
      ]
     },
     "execution_count": 301,
     "metadata": {},
     "output_type": "execute_result"
    }
   ],
   "source": [
    "features_data"
   ]
  },
  {
   "cell_type": "code",
   "execution_count": null,
   "metadata": {},
   "outputs": [],
   "source": []
  }
 ],
 "metadata": {
  "kernelspec": {
   "display_name": "Python 3.7.11 64-bit ('python_work': conda)",
   "name": "python3711jvsc74a57bd098a7dcf7e75f59e29fa101a2b7c10138d708f43257d382cf5a5caa55c25b4898"
  },
  "language_info": {
   "name": "python",
   "version": ""
  },
  "metadata": {
   "interpreter": {
    "hash": "98a7dcf7e75f59e29fa101a2b7c10138d708f43257d382cf5a5caa55c25b4898"
   }
  }
 },
 "nbformat": 4,
 "nbformat_minor": 5
}