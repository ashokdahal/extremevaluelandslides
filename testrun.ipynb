{
 "cells": [
  {
   "attachments": {},
   "cell_type": "markdown",
   "metadata": {},
   "source": [
    "# Train the model by preparing the dataset"
   ]
  },
  {
   "cell_type": "code",
   "execution_count": 1,
   "metadata": {},
   "outputs": [
    {
     "name": "stderr",
     "output_type": "stream",
     "text": [
      "2023-01-19 19:34:37.851451: I tensorflow/core/platform/cpu_feature_guard.cc:193] This TensorFlow binary is optimized with oneAPI Deep Neural Network Library (oneDNN) to use the following CPU instructions in performance-critical operations:  AVX2 AVX512F FMA\n",
      "To enable them in other operations, rebuild TensorFlow with the appropriate compiler flags.\n",
      "2023-01-19 19:34:38.040513: E tensorflow/stream_executor/cuda/cuda_blas.cc:2981] Unable to register cuBLAS factory: Attempting to register factory for plugin cuBLAS when one has already been registered\n",
      "2023-01-19 19:34:40.329061: W tensorflow/stream_executor/platform/default/dso_loader.cc:64] Could not load dynamic library 'libnvinfer.so.7'; dlerror: libnvinfer.so.7: cannot open shared object file: No such file or directory; LD_LIBRARY_PATH: :/home/dahala/miniconda3/envs/dlashok/lib/\n",
      "2023-01-19 19:34:40.330099: W tensorflow/stream_executor/platform/default/dso_loader.cc:64] Could not load dynamic library 'libnvinfer_plugin.so.7'; dlerror: libnvinfer_plugin.so.7: cannot open shared object file: No such file or directory; LD_LIBRARY_PATH: :/home/dahala/miniconda3/envs/dlashok/lib/\n",
      "2023-01-19 19:34:40.330112: W tensorflow/compiler/tf2tensorrt/utils/py_utils.cc:38] TF-TRT Warning: Cannot dlopen some TensorRT libraries. If you would like to use Nvidia GPU with TensorRT, please make sure the missing libraries mentioned above are installed properly.\n",
      "\u001b[34m\u001b[1mwandb\u001b[0m: Currently logged in as: \u001b[33mdahal\u001b[0m. Use \u001b[1m`wandb login --relogin`\u001b[0m to force relogin\n"
     ]
    },
    {
     "data": {
      "text/html": [
       "wandb version 0.13.9 is available!  To upgrade, please run:\n",
       " $ pip install wandb --upgrade"
      ],
      "text/plain": [
       "<IPython.core.display.HTML object>"
      ]
     },
     "metadata": {},
     "output_type": "display_data"
    },
    {
     "data": {
      "text/html": [
       "Tracking run with wandb version 0.13.7"
      ],
      "text/plain": [
       "<IPython.core.display.HTML object>"
      ]
     },
     "metadata": {},
     "output_type": "display_data"
    },
    {
     "data": {
      "text/html": [
       "Run data is saved locally in <code>/home/dahala/extremevaluelandslides/wandb/run-20230119_193449-164yi38q</code>"
      ],
      "text/plain": [
       "<IPython.core.display.HTML object>"
      ]
     },
     "metadata": {},
     "output_type": "display_data"
    },
    {
     "data": {
      "text/html": [
       "Syncing run <strong><a href=\"https://wandb.ai/dahal/Extreme%20Value/runs/164yi38q\" target=\"_blank\">lemon-dragon-20</a></strong> to <a href=\"https://wandb.ai/dahal/Extreme%20Value\" target=\"_blank\">Weights & Biases</a> (<a href=\"https://wandb.me/run\" target=\"_blank\">docs</a>)<br/>"
      ],
      "text/plain": [
       "<IPython.core.display.HTML object>"
      ]
     },
     "metadata": {},
     "output_type": "display_data"
    },
    {
     "name": "stdout",
     "output_type": "stream",
     "text": [
      "2.10.1\n",
      "[PhysicalDevice(name='/physical_device:CPU:0', device_type='CPU'), PhysicalDevice(name='/physical_device:GPU:0', device_type='GPU')]\n"
     ]
    }
   ],
   "source": [
    "%load_ext autoreload\n",
    "%autoreload 2\n",
    "import tensorflow as tf\n",
    "import json\n",
    "from src import preparedata\n",
    "from src import modelarea\n",
    "from src import trainarea\n",
    "\n",
    "print(tf.__version__)\n",
    "print(tf.config.list_physical_devices(\n",
    "    device_type=None\n",
    "))\n",
    "\n",
    "params=json.load(open('params/params.json','r'))"
   ]
  },
  {
   "cell_type": "code",
   "execution_count": 2,
   "metadata": {},
   "outputs": [
    {
     "data": {
      "application/vnd.jupyter.widget-view+json": {
       "model_id": "af5a4e898ed843b780648a2b881ef646",
       "version_major": 2,
       "version_minor": 0
      },
      "text/plain": [
       "  0%|          | 0/31 [00:00<?, ?it/s]"
      ]
     },
     "metadata": {},
     "output_type": "display_data"
    }
   ],
   "source": [
    "#prepare data\n",
    "dataset=preparedata.readGPDData(params['dataprepinargs'])\n",
    "dataset.preparedata()"
   ]
  },
  {
   "cell_type": "code",
   "execution_count": 3,
   "metadata": {},
   "outputs": [
    {
     "name": "stderr",
     "output_type": "stream",
     "text": [
      "2023-01-19 19:36:04.300825: I tensorflow/core/platform/cpu_feature_guard.cc:193] This TensorFlow binary is optimized with oneAPI Deep Neural Network Library (oneDNN) to use the following CPU instructions in performance-critical operations:  AVX2 AVX512F FMA\n",
      "To enable them in other operations, rebuild TensorFlow with the appropriate compiler flags.\n",
      "2023-01-19 19:36:04.946424: I tensorflow/core/common_runtime/gpu/gpu_device.cc:1616] Created device /job:localhost/replica:0/task:0/device:GPU:0 with 10404 MB memory:  -> device: 0, name: NVIDIA GeForce GTX 1080 Ti, pci bus id: 0000:b1:00.0, compute capability: 6.1\n"
     ]
    }
   ],
   "source": [
    "#prepare model\n",
    "landslidehazard=modelarea.lhmodel(params['modelparam'])\n",
    "landslidehazard.preparemodel()"
   ]
  },
  {
   "cell_type": "code",
   "execution_count": 4,
   "metadata": {},
   "outputs": [
    {
     "name": "stdout",
     "output_type": "stream",
     "text": [
      "Epoch 1/100\n",
      "222/223 [============================>.] - ETA: 0s - loss: 1.4178 - gpdmetric: 0.4953\n",
      "Epoch 1: val_loss improved from inf to 1.05094, saving model to checkpoints/\n",
      "INFO:tensorflow:Assets written to: checkpoints/assets\n",
      "223/223 [==============================] - 28s 89ms/step - loss: 1.4175 - gpdmetric: 0.4956 - val_loss: 1.0509 - val_gpdmetric: 0.5377\n",
      "Epoch 2/100\n",
      "221/223 [============================>.] - ETA: 0s - loss: 1.2407 - gpdmetric: 0.6091\n",
      "Epoch 2: val_loss improved from 1.05094 to 0.97718, saving model to checkpoints/\n",
      "INFO:tensorflow:Assets written to: checkpoints/assets\n",
      "223/223 [==============================] - 19s 85ms/step - loss: 1.2399 - gpdmetric: 0.6096 - val_loss: 0.9772 - val_gpdmetric: 0.6201\n",
      "Epoch 3/100\n",
      "222/223 [============================>.] - ETA: 0s - loss: 1.1536 - gpdmetric: 0.6821\n",
      "Epoch 3: val_loss improved from 0.97718 to 0.93639, saving model to checkpoints/\n",
      "INFO:tensorflow:Assets written to: checkpoints/assets\n",
      "223/223 [==============================] - 19s 84ms/step - loss: 1.1530 - gpdmetric: 0.6823 - val_loss: 0.9364 - val_gpdmetric: 0.6969\n",
      "Epoch 4/100\n",
      "223/223 [==============================] - ETA: 0s - loss: 1.1035 - gpdmetric: 0.7233\n",
      "Epoch 4: val_loss improved from 0.93639 to 0.92415, saving model to checkpoints/\n",
      "INFO:tensorflow:Assets written to: checkpoints/assets\n",
      "223/223 [==============================] - 19s 86ms/step - loss: 1.1035 - gpdmetric: 0.7233 - val_loss: 0.9241 - val_gpdmetric: 0.7303\n",
      "Epoch 5/100\n",
      "222/223 [============================>.] - ETA: 0s - loss: 1.0815 - gpdmetric: 0.7358\n",
      "Epoch 5: val_loss improved from 0.92415 to 0.91984, saving model to checkpoints/\n",
      "INFO:tensorflow:Assets written to: checkpoints/assets\n",
      "223/223 [==============================] - 19s 85ms/step - loss: 1.0815 - gpdmetric: 0.7365 - val_loss: 0.9198 - val_gpdmetric: 0.7556\n",
      "Epoch 6/100\n",
      "223/223 [==============================] - ETA: 0s - loss: 1.0576 - gpdmetric: 0.7423\n",
      "Epoch 6: val_loss improved from 0.91984 to 0.91820, saving model to checkpoints/\n",
      "INFO:tensorflow:Assets written to: checkpoints/assets\n",
      "223/223 [==============================] - 19s 84ms/step - loss: 1.0576 - gpdmetric: 0.7423 - val_loss: 0.9182 - val_gpdmetric: 0.7615\n",
      "Epoch 7/100\n",
      "223/223 [==============================] - ETA: 0s - loss: 1.0365 - gpdmetric: 0.7517\n",
      "Epoch 7: val_loss improved from 0.91820 to 0.91752, saving model to checkpoints/\n",
      "INFO:tensorflow:Assets written to: checkpoints/assets\n",
      "223/223 [==============================] - 19s 84ms/step - loss: 1.0365 - gpdmetric: 0.7517 - val_loss: 0.9175 - val_gpdmetric: 0.7626\n",
      "Epoch 8/100\n",
      "222/223 [============================>.] - ETA: 0s - loss: 1.0235 - gpdmetric: 0.7489\n",
      "Epoch 8: val_loss improved from 0.91752 to 0.91733, saving model to checkpoints/\n",
      "INFO:tensorflow:Assets written to: checkpoints/assets\n",
      "223/223 [==============================] - 19s 85ms/step - loss: 1.0234 - gpdmetric: 0.7486 - val_loss: 0.9173 - val_gpdmetric: 0.7668\n",
      "Epoch 9/100\n",
      "221/223 [============================>.] - ETA: 0s - loss: 1.0065 - gpdmetric: 0.7528\n",
      "Epoch 9: val_loss improved from 0.91733 to 0.91726, saving model to checkpoints/\n",
      "INFO:tensorflow:Assets written to: checkpoints/assets\n",
      "223/223 [==============================] - 19s 84ms/step - loss: 1.0070 - gpdmetric: 0.7528 - val_loss: 0.9173 - val_gpdmetric: 0.7616\n",
      "Epoch 10/100\n",
      "223/223 [==============================] - ETA: 0s - loss: 0.9977 - gpdmetric: 0.7536\n",
      "Epoch 10: val_loss improved from 0.91726 to 0.91715, saving model to checkpoints/\n",
      "INFO:tensorflow:Assets written to: checkpoints/assets\n",
      "223/223 [==============================] - 19s 86ms/step - loss: 0.9977 - gpdmetric: 0.7536 - val_loss: 0.9171 - val_gpdmetric: 0.7639\n",
      "Epoch 11/100\n",
      "223/223 [==============================] - ETA: 0s - loss: 0.9856 - gpdmetric: 0.7525\n",
      "Epoch 11: val_loss did not improve from 0.91715\n",
      "223/223 [==============================] - 5s 24ms/step - loss: 0.9856 - gpdmetric: 0.7525 - val_loss: 0.9172 - val_gpdmetric: 0.7702\n",
      "Epoch 12/100\n",
      "221/223 [============================>.] - ETA: 0s - loss: 0.9752 - gpdmetric: 0.7567\n",
      "Epoch 12: val_loss did not improve from 0.91715\n",
      "223/223 [==============================] - 5s 24ms/step - loss: 0.9758 - gpdmetric: 0.7572 - val_loss: 0.9172 - val_gpdmetric: 0.7716\n",
      "Epoch 13/100\n",
      "222/223 [============================>.] - ETA: 0s - loss: 0.9674 - gpdmetric: 0.7574\n",
      "Epoch 13: val_loss did not improve from 0.91715\n",
      "223/223 [==============================] - 5s 24ms/step - loss: 0.9679 - gpdmetric: 0.7573 - val_loss: 0.9172 - val_gpdmetric: 0.7701\n",
      "Epoch 14/100\n",
      "223/223 [==============================] - ETA: 0s - loss: 0.9611 - gpdmetric: 0.7570\n",
      "Epoch 14: val_loss improved from 0.91715 to 0.91714, saving model to checkpoints/\n",
      "INFO:tensorflow:Assets written to: checkpoints/assets\n",
      "223/223 [==============================] - 19s 85ms/step - loss: 0.9611 - gpdmetric: 0.7570 - val_loss: 0.9171 - val_gpdmetric: 0.7684\n",
      "Epoch 15/100\n",
      "221/223 [============================>.] - ETA: 0s - loss: 0.9546 - gpdmetric: 0.7574\n",
      "Epoch 15: val_loss improved from 0.91714 to 0.91714, saving model to checkpoints/\n",
      "INFO:tensorflow:Assets written to: checkpoints/assets\n",
      "223/223 [==============================] - 19s 84ms/step - loss: 0.9535 - gpdmetric: 0.7584 - val_loss: 0.9171 - val_gpdmetric: 0.7628\n",
      "Epoch 16/100\n",
      "223/223 [==============================] - ETA: 0s - loss: 0.9489 - gpdmetric: 0.7564\n",
      "Epoch 16: val_loss did not improve from 0.91714\n",
      "223/223 [==============================] - 5s 24ms/step - loss: 0.9489 - gpdmetric: 0.7564 - val_loss: 0.9172 - val_gpdmetric: 0.7674\n",
      "Epoch 17/100\n",
      "222/223 [============================>.] - ETA: 0s - loss: 0.9439 - gpdmetric: 0.7564\n",
      "Epoch 17: val_loss improved from 0.91714 to 0.91714, saving model to checkpoints/\n",
      "INFO:tensorflow:Assets written to: checkpoints/assets\n",
      "223/223 [==============================] - 19s 85ms/step - loss: 0.9436 - gpdmetric: 0.7564 - val_loss: 0.9171 - val_gpdmetric: 0.7649\n",
      "Epoch 18/100\n",
      "223/223 [==============================] - ETA: 0s - loss: 0.9391 - gpdmetric: 0.7560\n",
      "Epoch 18: val_loss did not improve from 0.91714\n",
      "223/223 [==============================] - 5s 24ms/step - loss: 0.9391 - gpdmetric: 0.7560 - val_loss: 0.9172 - val_gpdmetric: 0.7695\n",
      "Epoch 19/100\n",
      "223/223 [==============================] - ETA: 0s - loss: 0.9343 - gpdmetric: 0.7599\n",
      "Epoch 19: val_loss did not improve from 0.91714\n",
      "223/223 [==============================] - 5s 24ms/step - loss: 0.9343 - gpdmetric: 0.7599 - val_loss: 0.9172 - val_gpdmetric: 0.7686\n",
      "Epoch 20/100\n",
      "223/223 [==============================] - ETA: 0s - loss: 0.9292 - gpdmetric: 0.7583\n",
      "Epoch 20: val_loss did not improve from 0.91714\n",
      "223/223 [==============================] - 5s 24ms/step - loss: 0.9292 - gpdmetric: 0.7583 - val_loss: 0.9173 - val_gpdmetric: 0.7653\n",
      "Epoch 21/100\n",
      "223/223 [==============================] - ETA: 0s - loss: 0.9267 - gpdmetric: 0.7583\n",
      "Epoch 21: val_loss did not improve from 0.91714\n",
      "223/223 [==============================] - 5s 24ms/step - loss: 0.9267 - gpdmetric: 0.7583 - val_loss: 0.9173 - val_gpdmetric: 0.7693\n",
      "Epoch 22/100\n",
      "223/223 [==============================] - ETA: 0s - loss: 0.9236 - gpdmetric: 0.7583\n",
      "Epoch 22: val_loss did not improve from 0.91714\n",
      "223/223 [==============================] - 5s 24ms/step - loss: 0.9236 - gpdmetric: 0.7583 - val_loss: 0.9172 - val_gpdmetric: 0.7665\n",
      "Epoch 23/100\n",
      "223/223 [==============================] - ETA: 0s - loss: 0.9206 - gpdmetric: 0.7564\n",
      "Epoch 23: val_loss did not improve from 0.91714\n",
      "223/223 [==============================] - 5s 24ms/step - loss: 0.9206 - gpdmetric: 0.7564 - val_loss: 0.9172 - val_gpdmetric: 0.7702\n",
      "Epoch 24/100\n",
      "222/223 [============================>.] - ETA: 0s - loss: 0.9189 - gpdmetric: 0.7599\n",
      "Epoch 24: val_loss did not improve from 0.91714\n",
      "223/223 [==============================] - 5s 24ms/step - loss: 0.9191 - gpdmetric: 0.7599 - val_loss: 0.9173 - val_gpdmetric: 0.7667\n",
      "Epoch 25/100\n",
      "223/223 [==============================] - ETA: 0s - loss: 0.9168 - gpdmetric: 0.7557\n",
      "Epoch 25: val_loss did not improve from 0.91714\n",
      "223/223 [==============================] - 5s 24ms/step - loss: 0.9168 - gpdmetric: 0.7557 - val_loss: 0.9172 - val_gpdmetric: 0.7680\n",
      "Epoch 26/100\n",
      "221/223 [============================>.] - ETA: 0s - loss: 0.9131 - gpdmetric: 0.7593\n",
      "Epoch 26: val_loss did not improve from 0.91714\n",
      "223/223 [==============================] - 5s 24ms/step - loss: 0.9150 - gpdmetric: 0.7588 - val_loss: 0.9172 - val_gpdmetric: 0.7683\n",
      "Epoch 27/100\n",
      "222/223 [============================>.] - ETA: 0s - loss: 0.9120 - gpdmetric: 0.7607\n",
      "Epoch 27: val_loss did not improve from 0.91714\n",
      "223/223 [==============================] - 5s 24ms/step - loss: 0.9133 - gpdmetric: 0.7600 - val_loss: 0.9173 - val_gpdmetric: 0.7664\n",
      "Epoch 28/100\n",
      "222/223 [============================>.] - ETA: 0s - loss: 0.9116 - gpdmetric: 0.7558\n",
      "Epoch 28: val_loss did not improve from 0.91714\n",
      "223/223 [==============================] - 5s 24ms/step - loss: 0.9116 - gpdmetric: 0.7558 - val_loss: 0.9173 - val_gpdmetric: 0.7676\n",
      "Epoch 29/100\n",
      "221/223 [============================>.] - ETA: 0s - loss: 0.9096 - gpdmetric: 0.7602\n",
      "Epoch 29: val_loss did not improve from 0.91714\n",
      "223/223 [==============================] - 5s 24ms/step - loss: 0.9102 - gpdmetric: 0.7594 - val_loss: 0.9172 - val_gpdmetric: 0.7638\n",
      "Epoch 30/100\n",
      "221/223 [============================>.] - ETA: 0s - loss: 0.9075 - gpdmetric: 0.7589\n",
      "Epoch 30: val_loss did not improve from 0.91714\n",
      "223/223 [==============================] - 5s 23ms/step - loss: 0.9094 - gpdmetric: 0.7579 - val_loss: 0.9172 - val_gpdmetric: 0.7674\n",
      "Epoch 31/100\n",
      "223/223 [==============================] - ETA: 0s - loss: 0.9077 - gpdmetric: 0.7610\n",
      "Epoch 31: val_loss did not improve from 0.91714\n",
      "223/223 [==============================] - 5s 24ms/step - loss: 0.9077 - gpdmetric: 0.7610 - val_loss: 0.9172 - val_gpdmetric: 0.7672\n",
      "Epoch 32/100\n",
      "223/223 [==============================] - ETA: 0s - loss: 0.9072 - gpdmetric: 0.7597\n",
      "Epoch 32: val_loss improved from 0.91714 to 0.91712, saving model to checkpoints/\n",
      "INFO:tensorflow:Assets written to: checkpoints/assets\n",
      "223/223 [==============================] - 19s 84ms/step - loss: 0.9072 - gpdmetric: 0.7597 - val_loss: 0.9171 - val_gpdmetric: 0.7658\n",
      "Epoch 33/100\n",
      "223/223 [==============================] - ETA: 0s - loss: 0.9061 - gpdmetric: 0.7620\n",
      "Epoch 33: val_loss did not improve from 0.91712\n",
      "223/223 [==============================] - 5s 24ms/step - loss: 0.9061 - gpdmetric: 0.7620 - val_loss: 0.9171 - val_gpdmetric: 0.7633\n",
      "Epoch 34/100\n",
      "222/223 [============================>.] - ETA: 0s - loss: 0.9062 - gpdmetric: 0.7587\n",
      "Epoch 34: val_loss improved from 0.91712 to 0.91710, saving model to checkpoints/\n",
      "INFO:tensorflow:Assets written to: checkpoints/assets\n",
      "223/223 [==============================] - 19s 84ms/step - loss: 0.9055 - gpdmetric: 0.7592 - val_loss: 0.9171 - val_gpdmetric: 0.7657\n",
      "Epoch 35/100\n",
      "223/223 [==============================] - ETA: 0s - loss: 0.9049 - gpdmetric: 0.7609\n",
      "Epoch 35: val_loss did not improve from 0.91710\n",
      "223/223 [==============================] - 5s 24ms/step - loss: 0.9049 - gpdmetric: 0.7609 - val_loss: 0.9171 - val_gpdmetric: 0.7682\n",
      "Epoch 36/100\n",
      "222/223 [============================>.] - ETA: 0s - loss: 0.9054 - gpdmetric: 0.7614\n",
      "Epoch 36: val_loss improved from 0.91710 to 0.91706, saving model to checkpoints/\n",
      "INFO:tensorflow:Assets written to: checkpoints/assets\n",
      "223/223 [==============================] - 19s 84ms/step - loss: 0.9044 - gpdmetric: 0.7621 - val_loss: 0.9171 - val_gpdmetric: 0.7634\n",
      "Epoch 37/100\n",
      "221/223 [============================>.] - ETA: 0s - loss: 0.9030 - gpdmetric: 0.7620\n",
      "Epoch 37: val_loss improved from 0.91706 to 0.91702, saving model to checkpoints/\n",
      "INFO:tensorflow:Assets written to: checkpoints/assets\n",
      "223/223 [==============================] - 18s 83ms/step - loss: 0.9034 - gpdmetric: 0.7619 - val_loss: 0.9170 - val_gpdmetric: 0.7653\n",
      "Epoch 38/100\n",
      "222/223 [============================>.] - ETA: 0s - loss: 0.9031 - gpdmetric: 0.7605\n",
      "Epoch 38: val_loss did not improve from 0.91702\n",
      "223/223 [==============================] - 5s 24ms/step - loss: 0.9029 - gpdmetric: 0.7614 - val_loss: 0.9171 - val_gpdmetric: 0.7651\n",
      "Epoch 39/100\n",
      "223/223 [==============================] - ETA: 0s - loss: 0.9023 - gpdmetric: 0.7619\n",
      "Epoch 39: val_loss did not improve from 0.91702\n",
      "223/223 [==============================] - 5s 24ms/step - loss: 0.9023 - gpdmetric: 0.7619 - val_loss: 0.9170 - val_gpdmetric: 0.7658\n",
      "Epoch 40/100\n",
      "223/223 [==============================] - ETA: 0s - loss: 0.9019 - gpdmetric: 0.7630\n",
      "Epoch 40: val_loss did not improve from 0.91702\n",
      "223/223 [==============================] - 5s 24ms/step - loss: 0.9019 - gpdmetric: 0.7630 - val_loss: 0.9170 - val_gpdmetric: 0.7644\n",
      "Epoch 41/100\n",
      "221/223 [============================>.] - ETA: 0s - loss: 0.8987 - gpdmetric: 0.7638\n",
      "Epoch 41: val_loss improved from 0.91702 to 0.91702, saving model to checkpoints/\n",
      "INFO:tensorflow:Assets written to: checkpoints/assets\n",
      "223/223 [==============================] - 19s 85ms/step - loss: 0.9015 - gpdmetric: 0.7633 - val_loss: 0.9170 - val_gpdmetric: 0.7640\n",
      "Epoch 42/100\n",
      "221/223 [============================>.] - ETA: 0s - loss: 0.8993 - gpdmetric: 0.7638\n",
      "Epoch 42: val_loss improved from 0.91702 to 0.91700, saving model to checkpoints/\n",
      "INFO:tensorflow:Assets written to: checkpoints/assets\n",
      "223/223 [==============================] - 19s 83ms/step - loss: 0.9009 - gpdmetric: 0.7627 - val_loss: 0.9170 - val_gpdmetric: 0.7639\n",
      "Epoch 43/100\n",
      "223/223 [==============================] - ETA: 0s - loss: 0.9008 - gpdmetric: 0.7645\n",
      "Epoch 43: val_loss improved from 0.91700 to 0.91699, saving model to checkpoints/\n",
      "INFO:tensorflow:Assets written to: checkpoints/assets\n",
      "223/223 [==============================] - 18s 82ms/step - loss: 0.9008 - gpdmetric: 0.7645 - val_loss: 0.9170 - val_gpdmetric: 0.7629\n",
      "Epoch 44/100\n",
      "223/223 [==============================] - ETA: 0s - loss: 0.8999 - gpdmetric: 0.7624\n",
      "Epoch 44: val_loss did not improve from 0.91699\n",
      "223/223 [==============================] - 5s 24ms/step - loss: 0.8999 - gpdmetric: 0.7624 - val_loss: 0.9170 - val_gpdmetric: 0.7650\n",
      "Epoch 45/100\n",
      "223/223 [==============================] - ETA: 0s - loss: 0.8997 - gpdmetric: 0.7670\n",
      "Epoch 45: val_loss improved from 0.91699 to 0.91698, saving model to checkpoints/\n",
      "INFO:tensorflow:Assets written to: checkpoints/assets\n",
      "223/223 [==============================] - 19s 84ms/step - loss: 0.8997 - gpdmetric: 0.7670 - val_loss: 0.9170 - val_gpdmetric: 0.7620\n",
      "Epoch 46/100\n",
      "222/223 [============================>.] - ETA: 0s - loss: 0.8994 - gpdmetric: 0.7654\n",
      "Epoch 46: val_loss did not improve from 0.91698\n",
      "223/223 [==============================] - 5s 24ms/step - loss: 0.8994 - gpdmetric: 0.7652 - val_loss: 0.9170 - val_gpdmetric: 0.7630\n",
      "Epoch 47/100\n",
      "223/223 [==============================] - ETA: 0s - loss: 0.8993 - gpdmetric: 0.7649\n",
      "Epoch 47: val_loss did not improve from 0.91698\n",
      "223/223 [==============================] - 5s 24ms/step - loss: 0.8993 - gpdmetric: 0.7649 - val_loss: 0.9170 - val_gpdmetric: 0.7630\n",
      "Epoch 48/100\n",
      "223/223 [==============================] - ETA: 0s - loss: 0.8991 - gpdmetric: 0.7679\n",
      "Epoch 48: val_loss did not improve from 0.91698\n",
      "223/223 [==============================] - 5s 24ms/step - loss: 0.8991 - gpdmetric: 0.7679 - val_loss: 0.9170 - val_gpdmetric: 0.7600\n",
      "Epoch 49/100\n",
      "222/223 [============================>.] - ETA: 0s - loss: 0.8985 - gpdmetric: 0.7635\n",
      "Epoch 49: val_loss did not improve from 0.91698\n",
      "223/223 [==============================] - 5s 24ms/step - loss: 0.8986 - gpdmetric: 0.7637 - val_loss: 0.9170 - val_gpdmetric: 0.7637\n",
      "Epoch 50/100\n",
      "221/223 [============================>.] - ETA: 0s - loss: 0.8990 - gpdmetric: 0.7646\n",
      "Epoch 50: val_loss did not improve from 0.91698\n",
      "223/223 [==============================] - 5s 24ms/step - loss: 0.8987 - gpdmetric: 0.7644 - val_loss: 0.9170 - val_gpdmetric: 0.7646\n",
      "Epoch 51/100\n",
      "222/223 [============================>.] - ETA: 0s - loss: 0.8985 - gpdmetric: 0.7679\n",
      "Epoch 51: val_loss did not improve from 0.91698\n",
      "223/223 [==============================] - 5s 24ms/step - loss: 0.8981 - gpdmetric: 0.7681 - val_loss: 0.9170 - val_gpdmetric: 0.7649\n",
      "Epoch 52/100\n",
      "222/223 [============================>.] - ETA: 0s - loss: 0.8994 - gpdmetric: 0.7650\n",
      "Epoch 52: val_loss improved from 0.91698 to 0.91697, saving model to checkpoints/\n",
      "INFO:tensorflow:Assets written to: checkpoints/assets\n",
      "223/223 [==============================] - 19s 84ms/step - loss: 0.8981 - gpdmetric: 0.7662 - val_loss: 0.9170 - val_gpdmetric: 0.7638\n",
      "Epoch 53/100\n",
      "223/223 [==============================] - ETA: 0s - loss: 0.8979 - gpdmetric: 0.7682\n",
      "Epoch 53: val_loss did not improve from 0.91697\n",
      "223/223 [==============================] - 5s 24ms/step - loss: 0.8979 - gpdmetric: 0.7682 - val_loss: 0.9170 - val_gpdmetric: 0.7633\n",
      "Epoch 54/100\n",
      "223/223 [==============================] - ETA: 0s - loss: 0.8976 - gpdmetric: 0.7681\n",
      "Epoch 54: val_loss improved from 0.91697 to 0.91696, saving model to checkpoints/\n",
      "INFO:tensorflow:Assets written to: checkpoints/assets\n",
      "223/223 [==============================] - 18s 82ms/step - loss: 0.8976 - gpdmetric: 0.7681 - val_loss: 0.9170 - val_gpdmetric: 0.7609\n",
      "Epoch 55/100\n",
      "223/223 [==============================] - ETA: 0s - loss: 0.8974 - gpdmetric: 0.7660\n",
      "Epoch 55: val_loss did not improve from 0.91696\n",
      "223/223 [==============================] - 5s 24ms/step - loss: 0.8974 - gpdmetric: 0.7660 - val_loss: 0.9170 - val_gpdmetric: 0.7626\n",
      "Epoch 56/100\n",
      "221/223 [============================>.] - ETA: 0s - loss: 0.8977 - gpdmetric: 0.7674\n",
      "Epoch 56: val_loss did not improve from 0.91696\n",
      "223/223 [==============================] - 5s 24ms/step - loss: 0.8972 - gpdmetric: 0.7679 - val_loss: 0.9170 - val_gpdmetric: 0.7630\n",
      "Epoch 57/100\n",
      "223/223 [==============================] - ETA: 0s - loss: 0.8973 - gpdmetric: 0.7665\n",
      "Epoch 57: val_loss did not improve from 0.91696\n",
      "223/223 [==============================] - 5s 24ms/step - loss: 0.8973 - gpdmetric: 0.7665 - val_loss: 0.9170 - val_gpdmetric: 0.7631\n",
      "Epoch 58/100\n",
      "223/223 [==============================] - ETA: 0s - loss: 0.8969 - gpdmetric: 0.7700\n",
      "Epoch 58: val_loss did not improve from 0.91696\n",
      "223/223 [==============================] - 5s 24ms/step - loss: 0.8969 - gpdmetric: 0.7700 - val_loss: 0.9170 - val_gpdmetric: 0.7621\n",
      "Epoch 59/100\n",
      "223/223 [==============================] - ETA: 0s - loss: 0.8968 - gpdmetric: 0.7667\n",
      "Epoch 59: val_loss did not improve from 0.91696\n",
      "223/223 [==============================] - 5s 24ms/step - loss: 0.8968 - gpdmetric: 0.7667 - val_loss: 0.9170 - val_gpdmetric: 0.7654\n",
      "Epoch 60/100\n",
      "222/223 [============================>.] - ETA: 0s - loss: 0.8956 - gpdmetric: 0.7721\n",
      "Epoch 60: val_loss did not improve from 0.91696\n",
      "223/223 [==============================] - 5s 24ms/step - loss: 0.8964 - gpdmetric: 0.7715 - val_loss: 0.9170 - val_gpdmetric: 0.7634\n",
      "Epoch 61/100\n",
      "223/223 [==============================] - ETA: 0s - loss: 0.8964 - gpdmetric: 0.7686\n",
      "Epoch 61: val_loss did not improve from 0.91696\n",
      "223/223 [==============================] - 5s 24ms/step - loss: 0.8964 - gpdmetric: 0.7686 - val_loss: 0.9170 - val_gpdmetric: 0.7627\n",
      "Epoch 62/100\n",
      "222/223 [============================>.] - ETA: 0s - loss: 0.8958 - gpdmetric: 0.7692\n",
      "Epoch 62: val_loss did not improve from 0.91696\n",
      "223/223 [==============================] - 5s 24ms/step - loss: 0.8965 - gpdmetric: 0.7685 - val_loss: 0.9170 - val_gpdmetric: 0.7651\n",
      "Epoch 63/100\n",
      "223/223 [==============================] - ETA: 0s - loss: 0.8961 - gpdmetric: 0.7688\n",
      "Epoch 63: val_loss did not improve from 0.91696\n",
      "223/223 [==============================] - 5s 23ms/step - loss: 0.8961 - gpdmetric: 0.7688 - val_loss: 0.9170 - val_gpdmetric: 0.7664\n",
      "Epoch 64/100\n",
      "222/223 [============================>.] - ETA: 0s - loss: 0.8969 - gpdmetric: 0.7727\n",
      "Epoch 64: val_loss did not improve from 0.91696\n",
      "223/223 [==============================] - 5s 24ms/step - loss: 0.8960 - gpdmetric: 0.7725 - val_loss: 0.9170 - val_gpdmetric: 0.7632\n",
      "Epoch 65/100\n",
      "222/223 [============================>.] - ETA: 0s - loss: 0.8965 - gpdmetric: 0.7700\n",
      "Epoch 65: val_loss did not improve from 0.91696\n",
      "223/223 [==============================] - 5s 24ms/step - loss: 0.8959 - gpdmetric: 0.7706 - val_loss: 0.9170 - val_gpdmetric: 0.7632\n",
      "Epoch 66/100\n",
      "223/223 [==============================] - ETA: 0s - loss: 0.8959 - gpdmetric: 0.7694\n",
      "Epoch 66: val_loss did not improve from 0.91696\n",
      "223/223 [==============================] - 5s 23ms/step - loss: 0.8959 - gpdmetric: 0.7694 - val_loss: 0.9170 - val_gpdmetric: 0.7658\n",
      "Epoch 67/100\n",
      "222/223 [============================>.] - ETA: 0s - loss: 0.8955 - gpdmetric: 0.7698\n",
      "Epoch 67: val_loss did not improve from 0.91696\n",
      "223/223 [==============================] - 5s 24ms/step - loss: 0.8958 - gpdmetric: 0.7698 - val_loss: 0.9170 - val_gpdmetric: 0.7647\n",
      "Epoch 68/100\n",
      "223/223 [==============================] - ETA: 0s - loss: 0.8956 - gpdmetric: 0.7694\n",
      "Epoch 68: val_loss did not improve from 0.91696\n",
      "223/223 [==============================] - 5s 24ms/step - loss: 0.8956 - gpdmetric: 0.7694 - val_loss: 0.9170 - val_gpdmetric: 0.7653\n",
      "Epoch 69/100\n",
      "223/223 [==============================] - ETA: 0s - loss: 0.8956 - gpdmetric: 0.7736\n",
      "Epoch 69: val_loss did not improve from 0.91696\n",
      "223/223 [==============================] - 5s 23ms/step - loss: 0.8956 - gpdmetric: 0.7736 - val_loss: 0.9170 - val_gpdmetric: 0.7618\n",
      "Epoch 70/100\n",
      "223/223 [==============================] - ETA: 0s - loss: 0.8954 - gpdmetric: 0.7727\n",
      "Epoch 70: val_loss did not improve from 0.91696\n",
      "223/223 [==============================] - 5s 24ms/step - loss: 0.8954 - gpdmetric: 0.7727 - val_loss: 0.9170 - val_gpdmetric: 0.7576\n",
      "Epoch 71/100\n",
      "223/223 [==============================] - ETA: 0s - loss: 0.8954 - gpdmetric: 0.7672\n",
      "Epoch 71: val_loss did not improve from 0.91696\n",
      "223/223 [==============================] - 5s 24ms/step - loss: 0.8954 - gpdmetric: 0.7672 - val_loss: 0.9170 - val_gpdmetric: 0.7658\n",
      "Epoch 72/100\n",
      "222/223 [============================>.] - ETA: 0s - loss: 0.8950 - gpdmetric: 0.7731\n",
      "Epoch 72: val_loss did not improve from 0.91696\n",
      "223/223 [==============================] - 5s 23ms/step - loss: 0.8953 - gpdmetric: 0.7728 - val_loss: 0.9170 - val_gpdmetric: 0.7641\n",
      "Epoch 73/100\n",
      "221/223 [============================>.] - ETA: 0s - loss: 0.8953 - gpdmetric: 0.7722\n",
      "Epoch 73: val_loss did not improve from 0.91696\n",
      "223/223 [==============================] - 5s 24ms/step - loss: 0.8953 - gpdmetric: 0.7723 - val_loss: 0.9170 - val_gpdmetric: 0.7611\n",
      "Epoch 74/100\n",
      "222/223 [============================>.] - ETA: 0s - loss: 0.8955 - gpdmetric: 0.7721\n",
      "Epoch 74: val_loss did not improve from 0.91696\n",
      "223/223 [==============================] - 5s 23ms/step - loss: 0.8951 - gpdmetric: 0.7720 - val_loss: 0.9170 - val_gpdmetric: 0.7597\n",
      "Epoch 75/100\n",
      "223/223 [==============================] - ETA: 0s - loss: 0.8953 - gpdmetric: 0.7693\n",
      "Epoch 75: val_loss did not improve from 0.91696\n",
      "223/223 [==============================] - 5s 23ms/step - loss: 0.8953 - gpdmetric: 0.7693 - val_loss: 0.9170 - val_gpdmetric: 0.7671\n",
      "Epoch 76/100\n",
      "223/223 [==============================] - ETA: 0s - loss: 0.8950 - gpdmetric: 0.7720\n",
      "Epoch 76: val_loss did not improve from 0.91696\n",
      "223/223 [==============================] - 5s 24ms/step - loss: 0.8950 - gpdmetric: 0.7720 - val_loss: 0.9170 - val_gpdmetric: 0.7650\n",
      "Epoch 77/100\n",
      "223/223 [==============================] - ETA: 0s - loss: 0.8951 - gpdmetric: 0.7714\n",
      "Epoch 77: val_loss did not improve from 0.91696\n",
      "223/223 [==============================] - 5s 24ms/step - loss: 0.8951 - gpdmetric: 0.7714 - val_loss: 0.9170 - val_gpdmetric: 0.7668\n",
      "Epoch 78/100\n",
      "222/223 [============================>.] - ETA: 0s - loss: 0.8956 - gpdmetric: 0.7712\n",
      "Epoch 78: val_loss did not improve from 0.91696\n",
      "223/223 [==============================] - 5s 24ms/step - loss: 0.8950 - gpdmetric: 0.7714 - val_loss: 0.9170 - val_gpdmetric: 0.7671\n",
      "Epoch 79/100\n",
      "222/223 [============================>.] - ETA: 0s - loss: 0.8949 - gpdmetric: 0.7729\n",
      "Epoch 79: val_loss did not improve from 0.91696\n",
      "223/223 [==============================] - 5s 24ms/step - loss: 0.8950 - gpdmetric: 0.7728 - val_loss: 0.9170 - val_gpdmetric: 0.7650\n",
      "Epoch 80/100\n",
      "223/223 [==============================] - ETA: 0s - loss: 0.8947 - gpdmetric: 0.7726\n",
      "Epoch 80: val_loss did not improve from 0.91696\n",
      "223/223 [==============================] - 5s 24ms/step - loss: 0.8947 - gpdmetric: 0.7726 - val_loss: 0.9170 - val_gpdmetric: 0.7658\n",
      "Epoch 81/100\n",
      "223/223 [==============================] - ETA: 0s - loss: 0.8949 - gpdmetric: 0.7739\n",
      "Epoch 81: val_loss did not improve from 0.91696\n",
      "223/223 [==============================] - 5s 23ms/step - loss: 0.8949 - gpdmetric: 0.7739 - val_loss: 0.9170 - val_gpdmetric: 0.7635\n",
      "Epoch 82/100\n",
      "222/223 [============================>.] - ETA: 0s - loss: 0.8949 - gpdmetric: 0.7719\n",
      "Epoch 82: val_loss did not improve from 0.91696\n",
      "223/223 [==============================] - 5s 24ms/step - loss: 0.8947 - gpdmetric: 0.7720 - val_loss: 0.9170 - val_gpdmetric: 0.7651\n",
      "Epoch 83/100\n",
      "223/223 [==============================] - ETA: 0s - loss: 0.8947 - gpdmetric: 0.7727\n",
      "Epoch 83: val_loss did not improve from 0.91696\n",
      "223/223 [==============================] - 5s 24ms/step - loss: 0.8947 - gpdmetric: 0.7727 - val_loss: 0.9170 - val_gpdmetric: 0.7642\n",
      "Epoch 84/100\n",
      "223/223 [==============================] - ETA: 0s - loss: 0.8946 - gpdmetric: 0.7723\n",
      "Epoch 84: val_loss did not improve from 0.91696\n",
      "223/223 [==============================] - 5s 24ms/step - loss: 0.8946 - gpdmetric: 0.7723 - val_loss: 0.9170 - val_gpdmetric: 0.7655\n",
      "Epoch 85/100\n",
      "223/223 [==============================] - ETA: 0s - loss: 0.8945 - gpdmetric: 0.7750\n",
      "Epoch 85: val_loss did not improve from 0.91696\n",
      "223/223 [==============================] - 5s 23ms/step - loss: 0.8945 - gpdmetric: 0.7750 - val_loss: 0.9170 - val_gpdmetric: 0.7619\n",
      "Epoch 86/100\n",
      "222/223 [============================>.] - ETA: 0s - loss: 0.8956 - gpdmetric: 0.7697\n",
      "Epoch 86: val_loss did not improve from 0.91696\n",
      "223/223 [==============================] - 5s 23ms/step - loss: 0.8945 - gpdmetric: 0.7702 - val_loss: 0.9170 - val_gpdmetric: 0.7678\n",
      "Epoch 87/100\n",
      "223/223 [==============================] - ETA: 0s - loss: 0.8945 - gpdmetric: 0.7753\n",
      "Epoch 87: val_loss did not improve from 0.91696\n",
      "223/223 [==============================] - 5s 23ms/step - loss: 0.8945 - gpdmetric: 0.7753 - val_loss: 0.9170 - val_gpdmetric: 0.7648\n",
      "Epoch 88/100\n",
      "222/223 [============================>.] - ETA: 0s - loss: 0.8951 - gpdmetric: 0.7715\n",
      "Epoch 88: val_loss did not improve from 0.91696\n",
      "223/223 [==============================] - 5s 24ms/step - loss: 0.8945 - gpdmetric: 0.7716 - val_loss: 0.9170 - val_gpdmetric: 0.7655\n",
      "Epoch 89/100\n",
      "223/223 [==============================] - ETA: 0s - loss: 0.8944 - gpdmetric: 0.7752\n",
      "Epoch 89: val_loss did not improve from 0.91696\n",
      "223/223 [==============================] - 5s 23ms/step - loss: 0.8944 - gpdmetric: 0.7752 - val_loss: 0.9170 - val_gpdmetric: 0.7614\n",
      "Epoch 90/100\n",
      "223/223 [==============================] - ETA: 0s - loss: 0.8944 - gpdmetric: 0.7726\n",
      "Epoch 90: val_loss did not improve from 0.91696\n",
      "223/223 [==============================] - 5s 23ms/step - loss: 0.8944 - gpdmetric: 0.7726 - val_loss: 0.9170 - val_gpdmetric: 0.7641\n",
      "Epoch 91/100\n",
      "223/223 [==============================] - ETA: 0s - loss: 0.8944 - gpdmetric: 0.7747\n",
      "Epoch 91: val_loss did not improve from 0.91696\n",
      "223/223 [==============================] - 5s 24ms/step - loss: 0.8944 - gpdmetric: 0.7747 - val_loss: 0.9170 - val_gpdmetric: 0.7627\n",
      "Epoch 92/100\n",
      "223/223 [==============================] - ETA: 0s - loss: 0.8944 - gpdmetric: 0.7731\n",
      "Epoch 92: val_loss did not improve from 0.91696\n",
      "223/223 [==============================] - 5s 23ms/step - loss: 0.8944 - gpdmetric: 0.7731 - val_loss: 0.9170 - val_gpdmetric: 0.7632\n",
      "Epoch 93/100\n",
      "223/223 [==============================] - ETA: 0s - loss: 0.8942 - gpdmetric: 0.7714\n",
      "Epoch 93: val_loss did not improve from 0.91696\n",
      "223/223 [==============================] - 5s 23ms/step - loss: 0.8942 - gpdmetric: 0.7714 - val_loss: 0.9170 - val_gpdmetric: 0.7655\n",
      "Epoch 94/100\n",
      "222/223 [============================>.] - ETA: 0s - loss: 0.8945 - gpdmetric: 0.7766\n",
      "Epoch 94: val_loss did not improve from 0.91696\n",
      "223/223 [==============================] - 5s 23ms/step - loss: 0.8941 - gpdmetric: 0.7770 - val_loss: 0.9170 - val_gpdmetric: 0.7628\n",
      "Epoch 95/100\n",
      "223/223 [==============================] - ETA: 0s - loss: 0.8942 - gpdmetric: 0.7725\n",
      "Epoch 95: val_loss did not improve from 0.91696\n",
      "223/223 [==============================] - 5s 23ms/step - loss: 0.8942 - gpdmetric: 0.7725 - val_loss: 0.9170 - val_gpdmetric: 0.7651\n",
      "Epoch 96/100\n",
      "223/223 [==============================] - ETA: 0s - loss: 0.8942 - gpdmetric: 0.7745\n",
      "Epoch 96: val_loss did not improve from 0.91696\n",
      "223/223 [==============================] - 5s 24ms/step - loss: 0.8942 - gpdmetric: 0.7745 - val_loss: 0.9170 - val_gpdmetric: 0.7675\n",
      "Epoch 97/100\n",
      "222/223 [============================>.] - ETA: 0s - loss: 0.8946 - gpdmetric: 0.7741\n",
      "Epoch 97: val_loss did not improve from 0.91696\n",
      "223/223 [==============================] - 5s 24ms/step - loss: 0.8941 - gpdmetric: 0.7743 - val_loss: 0.9170 - val_gpdmetric: 0.7657\n",
      "Epoch 98/100\n",
      "223/223 [==============================] - ETA: 0s - loss: 0.8941 - gpdmetric: 0.7731\n",
      "Epoch 98: val_loss did not improve from 0.91696\n",
      "223/223 [==============================] - 5s 24ms/step - loss: 0.8941 - gpdmetric: 0.7731 - val_loss: 0.9170 - val_gpdmetric: 0.7665\n",
      "Epoch 99/100\n",
      "223/223 [==============================] - ETA: 0s - loss: 0.8940 - gpdmetric: 0.7739\n",
      "Epoch 99: val_loss did not improve from 0.91696\n",
      "223/223 [==============================] - 5s 24ms/step - loss: 0.8940 - gpdmetric: 0.7739 - val_loss: 0.9170 - val_gpdmetric: 0.7682\n",
      "Epoch 100/100\n",
      "221/223 [============================>.] - ETA: 0s - loss: 0.8914 - gpdmetric: 0.7773\n",
      "Epoch 100: val_loss did not improve from 0.91696\n",
      "223/223 [==============================] - 5s 24ms/step - loss: 0.8941 - gpdmetric: 0.7766 - val_loss: 0.9170 - val_gpdmetric: 0.7641\n"
     ]
    },
    {
     "ename": "NameError",
     "evalue": "name 'model' is not defined",
     "output_type": "error",
     "traceback": [
      "\u001b[0;31m---------------------------------------------------------------------------\u001b[0m",
      "\u001b[0;31mNameError\u001b[0m                                 Traceback (most recent call last)",
      "Cell \u001b[0;32mIn[4], line 2\u001b[0m\n\u001b[1;32m      1\u001b[0m trainarea\u001b[39m.\u001b[39mtrainmodel(landslidehazard\u001b[39m.\u001b[39mmodel,dataset\u001b[39m.\u001b[39mX_train,dataset\u001b[39m.\u001b[39mY_train,params[\u001b[39m'\u001b[39m\u001b[39mtrainparam\u001b[39m\u001b[39m'\u001b[39m])\n\u001b[0;32m----> 2\u001b[0m model\u001b[39m.\u001b[39msave_weights(\u001b[39m'\u001b[39m\u001b[39msavedweights/final_model.h5\u001b[39m\u001b[39m'\u001b[39m)\n",
      "\u001b[0;31mNameError\u001b[0m: name 'model' is not defined"
     ]
    }
   ],
   "source": [
    "trainarea.trainmodel(landslidehazard.model,dataset.X_train,dataset.Y_train,params['trainparam'])\n",
    "landslidehazard.model.save_weights('savedweights/final_model.h5')"
   ]
  },
  {
   "cell_type": "code",
   "execution_count": 5,
   "metadata": {},
   "outputs": [],
   "source": [
    "landslidehazard.model.save_weights('savedweights/final_model.h5')"
   ]
  },
  {
   "attachments": {},
   "cell_type": "markdown",
   "metadata": {},
   "source": [
    "# Perform inference by calculating landslide hazrd"
   ]
  },
  {
   "cell_type": "code",
   "execution_count": 13,
   "metadata": {},
   "outputs": [
    {
     "name": "stdout",
     "output_type": "stream",
     "text": [
      "The autoreload extension is already loaded. To reload it, use:\n",
      "  %reload_ext autoreload\n",
      "2.10.1\n",
      "[PhysicalDevice(name='/physical_device:CPU:0', device_type='CPU'), PhysicalDevice(name='/physical_device:GPU:0', device_type='GPU')]\n"
     ]
    }
   ],
   "source": [
    "%load_ext autoreload\n",
    "%autoreload 2\n",
    "import tensorflow as tf\n",
    "import json\n",
    "from src import preparedata\n",
    "from src import modelarea\n",
    "from src import inference\n",
    "from src import savehazard\n",
    "\n",
    "print(tf.__version__)\n",
    "print(tf.config.list_physical_devices(\n",
    "    device_type=None\n",
    "))\n",
    "params=json.load(open('params/params.json','r'))"
   ]
  },
  {
   "cell_type": "code",
   "execution_count": 7,
   "metadata": {},
   "outputs": [
    {
     "data": {
      "application/vnd.jupyter.widget-view+json": {
       "model_id": "6bac8cfa2cb94765a9b74fbe36025ed1",
       "version_major": 2,
       "version_minor": 0
      },
      "text/plain": [
       "  0%|          | 0/31 [00:00<?, ?it/s]"
      ]
     },
     "metadata": {},
     "output_type": "display_data"
    }
   ],
   "source": [
    "rp=10\n",
    "dataset=preparedata.readGPDData(params['dataprepinargs'])\n",
    "dataset.preparedatainference(rp)"
   ]
  },
  {
   "cell_type": "code",
   "execution_count": 8,
   "metadata": {},
   "outputs": [
    {
     "name": "stdout",
     "output_type": "stream",
     "text": [
      "2219/2219 [==============================] - 8s 3ms/step\n"
     ]
    }
   ],
   "source": [
    "landslidehazard=modelarea.lhmodel(params['modelparam'])\n",
    "landslidehazard.preparemodel()\n",
    "haz=inference.inferenceLH(model=landslidehazard.model,model_weights='savedweights/final_model.h5',xdata=dataset.Xinference,rp=rp)"
   ]
  },
  {
   "cell_type": "code",
   "execution_count": 14,
   "metadata": {},
   "outputs": [],
   "source": [
    "savehazard.save_predicted_Haz(ids=dataset.InferenceID,prediction=haz,hazcol='haz_10rp',sufile='Data/SlopeUnits/SlopeUnits_V3.shp',outfile='Data/Results/LsHaz10.shp')"
   ]
  },
  {
   "cell_type": "code",
   "execution_count": null,
   "metadata": {},
   "outputs": [],
   "source": []
  }
 ],
 "metadata": {
  "kernelspec": {
   "display_name": "Python 3 (ipykernel)",
   "language": "python",
   "name": "python3"
  },
  "language_info": {
   "codemirror_mode": {
    "name": "ipython",
    "version": 3
   },
   "file_extension": ".py",
   "mimetype": "text/x-python",
   "name": "python",
   "nbconvert_exporter": "python",
   "pygments_lexer": "ipython3",
   "version": "3.9.15"
  }
 },
 "nbformat": 4,
 "nbformat_minor": 2
}
