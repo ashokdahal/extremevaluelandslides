{
 "cells": [
  {
   "cell_type": "code",
   "execution_count": 8,
   "metadata": {},
   "outputs": [],
   "source": [
    "import rasterio\n",
    "import numpy as np\n",
    "import seaborn as sns\n",
    "import geopandas as gpd"
   ]
  },
  {
   "cell_type": "code",
   "execution_count": 2,
   "metadata": {},
   "outputs": [],
   "source": [
    "maxprecep=rasterio.open(\"Data/PrecipitationHistory/CHRIPS_Max_NP_40.tif\").read()\n",
    "meanprecep=rasterio.open(\"Data/PrecipitationHistory/CHRIPS_Mean_NP_40.tif\").read()\n",
    "stdprecep=rasterio.open(\"Data/PrecipitationHistory/CHRIPS_STD_NP_40.tif\").read()\n",
    "arg_sorted=np.argsort(maxprecep,axis=0)[::-1]\n",
    "maxprecep_sorted=np.take_along_axis(maxprecep, arg_sorted, 0)\n",
    "meanprecep_sorted=np.take_along_axis(meanprecep, arg_sorted, 0)\n",
    "stdprecep_sorted=np.take_along_axis(stdprecep, arg_sorted, 0)"
   ]
  },
  {
   "cell_type": "code",
   "execution_count": 3,
   "metadata": {},
   "outputs": [],
   "source": [
    "# for given 40 years of data the following ranks should represent the return periods of 5, 10, 15, 20 years\n",
    "five_return=round(41/5)\n",
    "ten_return=round(41/10)\n",
    "fifteen_return=round(41/15)\n",
    "twenty_return=round(41/20)"
   ]
  },
  {
   "cell_type": "code",
   "execution_count": 4,
   "metadata": {},
   "outputs": [],
   "source": [
    "src=rasterio.open(\"Data/PrecipitationHistory/CHRIPS_Max_NP_40.tif\")\n",
    "def savefile(array,filename):\n",
    "    with rasterio.Env():\n",
    "        profile = src.profile\n",
    "        profile.update(\n",
    "            dtype=rasterio.float32,\n",
    "            count=1,\n",
    "            compress='lzw')\n",
    "        with rasterio.open(filename, 'w', **profile) as dst:\n",
    "            dst.write(array, 1)"
   ]
  },
  {
   "cell_type": "code",
   "execution_count": 5,
   "metadata": {},
   "outputs": [],
   "source": [
    "def save_rp_data(rp):\n",
    "    return_rank=round(41/rp)\n",
    "    print(return_rank)\n",
    "    mx_design=maxprecep_sorted[return_rank]\n",
    "    me_design=meanprecep_sorted[return_rank]\n",
    "    st_design=stdprecep_sorted[return_rank]\n",
    "    savefile(mx_design,f\"Data/DesignRainfall/mx_design_{rp}.tif\")\n",
    "    savefile(me_design,f\"Data/DesignRainfall/me_design_{rp}.tif\")\n",
    "    savefile(st_design,f\"Data/DesignRainfall/st_design_{rp}.tif\")\n",
    "    "
   ]
  },
  {
   "cell_type": "code",
   "execution_count": 9,
   "metadata": {},
   "outputs": [
    {
     "name": "stderr",
     "output_type": "stream",
     "text": [
      "/tmp/ipykernel_107877/2822982207.py:2: UserWarning: Geometry is in a geographic CRS. Results from 'centroid' are likely incorrect. Use 'GeoSeries.to_crs()' to re-project geometries to a projected CRS before this operation.\n",
      "\n",
      "  coord_list = [(x,y) for x,y in zip(slopeunits['geometry'].centroid.x , slopeunits['geometry'].centroid.y)]\n",
      "/tmp/ipykernel_107877/2822982207.py:2: UserWarning: Geometry is in a geographic CRS. Results from 'centroid' are likely incorrect. Use 'GeoSeries.to_crs()' to re-project geometries to a projected CRS before this operation.\n",
      "\n",
      "  coord_list = [(x,y) for x,y in zip(slopeunits['geometry'].centroid.x , slopeunits['geometry'].centroid.y)]\n"
     ]
    }
   ],
   "source": [
    "slopeunits=gpd.read_file('Data/SlopeUnits/SlopeUnits_V3.shp')\n",
    "coord_list = [(x,y) for x,y in zip(slopeunits['geometry'].centroid.x , slopeunits['geometry'].centroid.y)]"
   ]
  },
  {
   "cell_type": "code",
   "execution_count": 11,
   "metadata": {},
   "outputs": [],
   "source": [
    "\n",
    "def readDesign(rp):\n",
    "    mx_design=rasterio.open(f\"Data/DesignRainfall/mx_design_{rp}.tif\")\n",
    "    mx_design_d=[x[0] for x in mx_design.sample(coord_list)]\n",
    "    me_design=rasterio.open(f\"Data/DesignRainfall/me_design_{rp}.tif\")\n",
    "    me_design_d=[x[0] for x in me_design.sample(coord_list)]\n",
    "    st_design=rasterio.open(f\"Data/DesignRainfall/st_design_{rp}.tif\")\n",
    "    st_design_d=[x[0] for x in st_design.sample(coord_list)]\n",
    "    return mx_design_d,me_design_d,st_design_d\n",
    "\n",
    "def extractRp(rps=[5,10,15,20]):\n",
    "    for rp in rps:\n",
    "        maxprecep, meanprecep, stdprecep=readDesign(rp)\n",
    "        slopeunits[f'mx_design_{rp}']=np.array(maxprecep)\n",
    "        slopeunits[f'me_design_{rp}']=np.array(meanprecep)\n",
    "        slopeunits[f'st_design_{rp}']=np.array(stdprecep)\n",
    "extractRp()"
   ]
  },
  {
   "cell_type": "code",
   "execution_count": 14,
   "metadata": {},
   "outputs": [],
   "source": [
    "slopeunits.drop('geometry',axis=1).to_csv('Data/DesignRainfall/ExtractedDesignRainfall.csv')"
   ]
  },
  {
   "cell_type": "code",
   "execution_count": null,
   "metadata": {},
   "outputs": [],
   "source": []
  }
 ],
 "metadata": {
  "kernelspec": {
   "display_name": "Python 3 (ipykernel)",
   "language": "python",
   "name": "python3"
  },
  "language_info": {
   "codemirror_mode": {
    "name": "ipython",
    "version": 3
   },
   "file_extension": ".py",
   "mimetype": "text/x-python",
   "name": "python",
   "nbconvert_exporter": "python",
   "pygments_lexer": "ipython3",
   "version": "3.9.15"
  },
  "orig_nbformat": 4
 },
 "nbformat": 4,
 "nbformat_minor": 2
}
