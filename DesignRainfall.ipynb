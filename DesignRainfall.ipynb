{
 "cells": [
  {
   "cell_type": "code",
   "execution_count": 45,
   "metadata": {},
   "outputs": [],
   "source": [
    "import rasterio\n",
    "import numpy as np\n",
    "import seaborn as sns"
   ]
  },
  {
   "cell_type": "code",
   "execution_count": 46,
   "metadata": {},
   "outputs": [],
   "source": [
    "maxprecep=rasterio.open(\"Data/PrecipitationHistory/CHRIPS_Max_NP_40.tif\").read()\n",
    "meanprecep=rasterio.open(\"Data/PrecipitationHistory/CHRIPS_Mean_NP_40.tif\").read()\n",
    "stdprecep=rasterio.open(\"Data/PrecipitationHistory/CHRIPS_STD_NP_40.tif\").read()\n",
    "arg_sorted=np.argsort(maxprecep,axis=0)[::-1]\n",
    "maxprecep_sorted=np.take_along_axis(maxprecep, arg_sorted, 0)\n",
    "meanprecep_sorted=np.take_along_axis(maxprecep, arg_sorted, 0)\n",
    "stdprecep_sorted=np.take_along_axis(maxprecep, arg_sorted, 0)"
   ]
  },
  {
   "cell_type": "code",
   "execution_count": 47,
   "metadata": {},
   "outputs": [],
   "source": [
    "# for given 40 years of data the following ranks should represent the return periods of 5, 10, 15, 20 years\n",
    "five_return=round(41/5)\n",
    "ten_return=round(41/10)\n",
    "fifteen_return=round(41/15)\n",
    "twenty_return=round(41/20)"
   ]
  },
  {
   "cell_type": "code",
   "execution_count": 66,
   "metadata": {},
   "outputs": [],
   "source": [
    "src=rasterio.open(\"Data/PrecipitationHistory/CHRIPS_Max_NP_40.tif\")\n",
    "def savefile(array,filename):\n",
    "    with rasterio.Env():\n",
    "        profile = src.profile\n",
    "        profile.update(\n",
    "            dtype=rasterio.float32,\n",
    "            count=1,\n",
    "            compress='lzw')\n",
    "        with rasterio.open(filename, 'w', **profile) as dst:\n",
    "            dst.write(array, 1)"
   ]
  },
  {
   "cell_type": "code",
   "execution_count": 67,
   "metadata": {},
   "outputs": [],
   "source": [
    "def save_rp_data(rp):\n",
    "    return_rank=round(41/rp)\n",
    "    print(return_rank)\n",
    "    mx_design=maxprecep_sorted[return_rank]\n",
    "    me_design=meanprecep_sorted[return_rank]\n",
    "    st_design=stdprecep_sorted[return_rank]\n",
    "    savefile(mx_design,f\"Data/DesignRainfall/mx_design_{rp}.tif\")\n",
    "    savefile(me_design,f\"Data/DesignRainfall/me_design_{rp}.tif\")\n",
    "    savefile(st_design,f\"Data/DesignRainfall/st_design_{rp}.tif\")\n",
    "    "
   ]
  },
  {
   "cell_type": "code",
   "execution_count": 68,
   "metadata": {},
   "outputs": [
    {
     "name": "stdout",
     "output_type": "stream",
     "text": [
      "8\n",
      "4\n",
      "3\n",
      "2\n"
     ]
    }
   ],
   "source": [
    "for rp in [5,10,15,20]:\n",
    "    save_rp_data(rp)"
   ]
  },
  {
   "cell_type": "code",
   "execution_count": null,
   "metadata": {},
   "outputs": [],
   "source": []
  }
 ],
 "metadata": {
  "kernelspec": {
   "display_name": "Python 3 (ipykernel)",
   "language": "python",
   "name": "python3"
  },
  "language_info": {
   "codemirror_mode": {
    "name": "ipython",
    "version": 3
   },
   "file_extension": ".py",
   "mimetype": "text/x-python",
   "name": "python",
   "nbconvert_exporter": "python",
   "pygments_lexer": "ipython3",
   "version": "3.9.15"
  },
  "orig_nbformat": 4
 },
 "nbformat": 4,
 "nbformat_minor": 2
}
