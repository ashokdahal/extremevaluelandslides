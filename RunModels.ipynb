{
 "cells": [
  {
   "attachments": {},
   "cell_type": "markdown",
   "metadata": {},
   "source": [
    "# Train the model by preparing the dataset"
   ]
  },
  {
   "cell_type": "code",
   "execution_count": 1,
   "metadata": {},
   "outputs": [
    {
     "name": "stderr",
     "output_type": "stream",
     "text": [
      "2023-02-22 11:48:35.449805: I tensorflow/core/platform/cpu_feature_guard.cc:193] This TensorFlow binary is optimized with oneAPI Deep Neural Network Library (oneDNN) to use the following CPU instructions in performance-critical operations:  AVX2 AVX512F AVX512_VNNI FMA\n",
      "To enable them in other operations, rebuild TensorFlow with the appropriate compiler flags.\n",
      "2023-02-22 11:48:36.298828: I tensorflow/core/util/util.cc:169] oneDNN custom operations are on. You may see slightly different numerical results due to floating-point round-off errors from different computation orders. To turn them off, set the environment variable `TF_ENABLE_ONEDNN_OPTS=0`.\n",
      "2023-02-22 11:48:36.814033: E tensorflow/stream_executor/cuda/cuda_blas.cc:2981] Unable to register cuBLAS factory: Attempting to register factory for plugin cuBLAS when one has already been registered\n",
      "2023-02-22 11:48:41.486945: W tensorflow/stream_executor/platform/default/dso_loader.cc:64] Could not load dynamic library 'libnvinfer.so.7'; dlerror: libnvinfer.so.7: cannot open shared object file: No such file or directory; LD_LIBRARY_PATH: :/home/dahala/miniconda3/envs/dlashok/lib/\n",
      "2023-02-22 11:48:41.488888: W tensorflow/stream_executor/platform/default/dso_loader.cc:64] Could not load dynamic library 'libnvinfer_plugin.so.7'; dlerror: libnvinfer_plugin.so.7: cannot open shared object file: No such file or directory; LD_LIBRARY_PATH: :/home/dahala/miniconda3/envs/dlashok/lib/\n",
      "2023-02-22 11:48:41.488908: W tensorflow/compiler/tf2tensorrt/utils/py_utils.cc:38] TF-TRT Warning: Cannot dlopen some TensorRT libraries. If you would like to use Nvidia GPU with TensorRT, please make sure the missing libraries mentioned above are installed properly.\n",
      "\u001b[34m\u001b[1mwandb\u001b[0m: Currently logged in as: \u001b[33mdahal\u001b[0m. Use \u001b[1m`wandb login --relogin`\u001b[0m to force relogin\n"
     ]
    },
    {
     "data": {
      "text/html": [
       "wandb version 0.13.10 is available!  To upgrade, please run:\n",
       " $ pip install wandb --upgrade"
      ],
      "text/plain": [
       "<IPython.core.display.HTML object>"
      ]
     },
     "metadata": {},
     "output_type": "display_data"
    },
    {
     "data": {
      "text/html": [
       "Tracking run with wandb version 0.13.7"
      ],
      "text/plain": [
       "<IPython.core.display.HTML object>"
      ]
     },
     "metadata": {},
     "output_type": "display_data"
    },
    {
     "data": {
      "text/html": [
       "Run data is saved locally in <code>/home/dahala/extremevaluelandslides/wandb/run-20230222_114902-2tjwxlat</code>"
      ],
      "text/plain": [
       "<IPython.core.display.HTML object>"
      ]
     },
     "metadata": {},
     "output_type": "display_data"
    },
    {
     "data": {
      "text/html": [
       "Syncing run <strong><a href=\"https://wandb.ai/dahal/Extreme%20Value/runs/2tjwxlat\" target=\"_blank\">dainty-armadillo-34</a></strong> to <a href=\"https://wandb.ai/dahal/Extreme%20Value\" target=\"_blank\">Weights & Biases</a> (<a href=\"https://wandb.me/run\" target=\"_blank\">docs</a>)<br/>"
      ],
      "text/plain": [
       "<IPython.core.display.HTML object>"
      ]
     },
     "metadata": {},
     "output_type": "display_data"
    },
    {
     "name": "stdout",
     "output_type": "stream",
     "text": [
      "2.10.1\n",
      "[PhysicalDevice(name='/physical_device:CPU:0', device_type='CPU')]\n"
     ]
    },
    {
     "name": "stderr",
     "output_type": "stream",
     "text": [
      "2023-02-22 11:49:20.534963: E tensorflow/stream_executor/cuda/cuda_driver.cc:265] failed call to cuInit: CUDA_ERROR_NO_DEVICE: no CUDA-capable device is detected\n",
      "2023-02-22 11:49:20.535056: I tensorflow/stream_executor/cuda/cuda_diagnostics.cc:156] kernel driver does not appear to be running on this host (login510-27): /proc/driver/nvidia/version does not exist\n"
     ]
    }
   ],
   "source": [
    "%load_ext autoreload\n",
    "%autoreload 2\n",
    "import tensorflow as tf\n",
    "import json\n",
    "from src import preparedata\n",
    "from src import modelarea\n",
    "from src import trainarea\n",
    "\n",
    "print(tf.__version__)\n",
    "print(tf.config.list_physical_devices(\n",
    "    device_type=None\n",
    "))\n",
    "\n",
    "params=json.load(open('params/params.json','r'))"
   ]
  },
  {
   "cell_type": "code",
   "execution_count": 2,
   "metadata": {},
   "outputs": [
    {
     "data": {
      "application/vnd.jupyter.widget-view+json": {
       "model_id": "50ba5fcd70dc45dd96794abab66ae772",
       "version_major": 2,
       "version_minor": 0
      },
      "text/plain": [
       "  0%|          | 0/31 [00:00<?, ?it/s]"
      ]
     },
     "metadata": {},
     "output_type": "display_data"
    }
   ],
   "source": [
    "#prepare data\n",
    "dataset=preparedata.readGPDData(params['dataprepinargs'])\n",
    "dataset.preparedata()"
   ]
  },
  {
   "cell_type": "code",
   "execution_count": 17,
   "metadata": {},
   "outputs": [],
   "source": [
    "#prepare model\n",
    "landslidehazard=modelarea.lhmodel(params['modelparam'])\n",
    "landslidehazard.preparemodel()"
   ]
  },
  {
   "cell_type": "code",
   "execution_count": 18,
   "metadata": {},
   "outputs": [
    {
     "name": "stdout",
     "output_type": "stream",
     "text": [
      "Epoch 1/100\n",
      "21/24 [=========================>....] - ETA: 0s - loss: 28032202.0000 - gpdmetric: 596388.5000\n",
      "Epoch 1: val_loss improved from inf to 17138754.00000, saving model to checkpoints/\n",
      "INFO:tensorflow:Assets written to: checkpoints/assets\n",
      "24/24 [==============================] - 7s 193ms/step - loss: 28134904.0000 - gpdmetric: 570710.3125 - val_loss: 17138754.0000 - val_gpdmetric: 430378.0000\n",
      "Epoch 2/100\n",
      "21/24 [=========================>....] - ETA: 0s - loss: 27071658.0000 - gpdmetric: 586392.1875\n",
      "Epoch 2: val_loss improved from 17138754.00000 to 15876295.00000, saving model to checkpoints/\n",
      "INFO:tensorflow:Assets written to: checkpoints/assets\n",
      "24/24 [==============================] - 4s 166ms/step - loss: 27168814.0000 - gpdmetric: 560443.6875 - val_loss: 15876295.0000 - val_gpdmetric: 481289.6250\n",
      "Epoch 3/100\n",
      "21/24 [=========================>....] - ETA: 0s - loss: 26583996.0000 - gpdmetric: 585065.1250\n",
      "Epoch 3: val_loss improved from 15876295.00000 to 15502240.00000, saving model to checkpoints/\n",
      "INFO:tensorflow:Assets written to: checkpoints/assets\n",
      "24/24 [==============================] - 4s 179ms/step - loss: 26515242.0000 - gpdmetric: 560953.1875 - val_loss: 15502240.0000 - val_gpdmetric: 462487.8438\n",
      "Epoch 4/100\n",
      "21/24 [=========================>....] - ETA: 0s - loss: 25916420.0000 - gpdmetric: 582991.5000\n",
      "Epoch 4: val_loss did not improve from 15502240.00000\n",
      "24/24 [==============================] - 1s 23ms/step - loss: 26071130.0000 - gpdmetric: 557834.8750 - val_loss: 15523860.0000 - val_gpdmetric: 462218.5312\n",
      "Epoch 5/100\n",
      "22/24 [==========================>...] - ETA: 0s - loss: 25602124.0000 - gpdmetric: 580655.0000\n",
      "Epoch 5: val_loss did not improve from 15502240.00000\n",
      "24/24 [==============================] - 1s 22ms/step - loss: 25488762.0000 - gpdmetric: 557415.3750 - val_loss: 15614894.0000 - val_gpdmetric: 466506.4062\n",
      "Epoch 6/100\n",
      "21/24 [=========================>....] - ETA: 0s - loss: 24912838.0000 - gpdmetric: 578353.8750\n",
      "Epoch 6: val_loss did not improve from 15502240.00000\n",
      "24/24 [==============================] - 1s 22ms/step - loss: 24903518.0000 - gpdmetric: 555193.0000 - val_loss: 15655338.0000 - val_gpdmetric: 468253.2500\n",
      "Epoch 7/100\n",
      "22/24 [==========================>...] - ETA: 0s - loss: 24564942.0000 - gpdmetric: 585917.2500\n",
      "Epoch 7: val_loss did not improve from 15502240.00000\n",
      "24/24 [==============================] - 1s 22ms/step - loss: 24702290.0000 - gpdmetric: 560608.6875 - val_loss: 15672033.0000 - val_gpdmetric: 471471.6562\n",
      "Epoch 8/100\n",
      "22/24 [==========================>...] - ETA: 0s - loss: 24031960.0000 - gpdmetric: 581922.0625\n",
      "Epoch 8: val_loss did not improve from 15502240.00000\n",
      "24/24 [==============================] - 1s 23ms/step - loss: 24123008.0000 - gpdmetric: 557147.3125 - val_loss: 15618245.0000 - val_gpdmetric: 473104.2500\n",
      "Epoch 9/100\n",
      "21/24 [=========================>....] - ETA: 0s - loss: 24019510.0000 - gpdmetric: 589619.2500\n",
      "Epoch 9: val_loss did not improve from 15502240.00000\n",
      "24/24 [==============================] - 1s 24ms/step - loss: 23976958.0000 - gpdmetric: 566257.1250 - val_loss: 15514917.0000 - val_gpdmetric: 472311.7500\n",
      "Epoch 10/100\n",
      "21/24 [=========================>....] - ETA: 0s - loss: 23268492.0000 - gpdmetric: 591321.5000\n",
      "Epoch 10: val_loss improved from 15502240.00000 to 15384686.00000, saving model to checkpoints/\n",
      "INFO:tensorflow:Assets written to: checkpoints/assets\n",
      "24/24 [==============================] - 4s 185ms/step - loss: 23328282.0000 - gpdmetric: 565026.1875 - val_loss: 15384686.0000 - val_gpdmetric: 470767.3438\n",
      "Epoch 11/100\n",
      "24/24 [==============================] - ETA: 0s - loss: 23101890.0000 - gpdmetric: 569933.5625\n",
      "Epoch 11: val_loss improved from 15384686.00000 to 15263965.00000, saving model to checkpoints/\n",
      "INFO:tensorflow:Assets written to: checkpoints/assets\n",
      "24/24 [==============================] - 4s 175ms/step - loss: 23101890.0000 - gpdmetric: 569933.5625 - val_loss: 15263965.0000 - val_gpdmetric: 475059.8750\n",
      "Epoch 12/100\n",
      "22/24 [==========================>...] - ETA: 0s - loss: 22877538.0000 - gpdmetric: 599716.0625\n",
      "Epoch 12: val_loss improved from 15263965.00000 to 15142358.00000, saving model to checkpoints/\n",
      "INFO:tensorflow:Assets written to: checkpoints/assets\n",
      "24/24 [==============================] - 4s 189ms/step - loss: 22850252.0000 - gpdmetric: 575213.5625 - val_loss: 15142358.0000 - val_gpdmetric: 476943.7188\n",
      "Epoch 13/100\n",
      "21/24 [=========================>....] - ETA: 0s - loss: 22430160.0000 - gpdmetric: 610108.1250\n",
      "Epoch 13: val_loss improved from 15142358.00000 to 14873798.00000, saving model to checkpoints/\n",
      "INFO:tensorflow:Assets written to: checkpoints/assets\n",
      "24/24 [==============================] - 4s 168ms/step - loss: 22418282.0000 - gpdmetric: 583694.3125 - val_loss: 14873798.0000 - val_gpdmetric: 483507.3438\n",
      "Epoch 14/100\n",
      "22/24 [==========================>...] - ETA: 0s - loss: 22339366.0000 - gpdmetric: 610093.3125\n",
      "Epoch 14: val_loss improved from 14873798.00000 to 14647485.00000, saving model to checkpoints/\n",
      "INFO:tensorflow:Assets written to: checkpoints/assets\n",
      "24/24 [==============================] - 4s 179ms/step - loss: 22296574.0000 - gpdmetric: 585685.0625 - val_loss: 14647485.0000 - val_gpdmetric: 491645.5938\n",
      "Epoch 15/100\n",
      "21/24 [=========================>....] - ETA: 0s - loss: 21942054.0000 - gpdmetric: 612205.0000\n",
      "Epoch 15: val_loss improved from 14647485.00000 to 14415143.00000, saving model to checkpoints/\n",
      "INFO:tensorflow:Assets written to: checkpoints/assets\n",
      "24/24 [==============================] - 4s 157ms/step - loss: 21910368.0000 - gpdmetric: 587611.5625 - val_loss: 14415143.0000 - val_gpdmetric: 497130.1562\n",
      "Epoch 16/100\n",
      "22/24 [==========================>...] - ETA: 0s - loss: 21701202.0000 - gpdmetric: 621865.0000\n",
      "Epoch 16: val_loss improved from 14415143.00000 to 14267560.00000, saving model to checkpoints/\n",
      "INFO:tensorflow:Assets written to: checkpoints/assets\n",
      "24/24 [==============================] - 4s 194ms/step - loss: 21700184.0000 - gpdmetric: 597174.5625 - val_loss: 14267560.0000 - val_gpdmetric: 503391.2188\n",
      "Epoch 17/100\n",
      "21/24 [=========================>....] - ETA: 0s - loss: 21323514.0000 - gpdmetric: 628685.4375\n",
      "Epoch 17: val_loss improved from 14267560.00000 to 14154793.00000, saving model to checkpoints/\n",
      "INFO:tensorflow:Assets written to: checkpoints/assets\n",
      "24/24 [==============================] - 4s 170ms/step - loss: 21410086.0000 - gpdmetric: 603134.8750 - val_loss: 14154793.0000 - val_gpdmetric: 506237.7500\n",
      "Epoch 18/100\n",
      "23/24 [===========================>..] - ETA: 0s - loss: 21181098.0000 - gpdmetric: 635229.8125\n",
      "Epoch 18: val_loss improved from 14154793.00000 to 14028281.00000, saving model to checkpoints/\n",
      "INFO:tensorflow:Assets written to: checkpoints/assets\n",
      "24/24 [==============================] - 4s 173ms/step - loss: 21179300.0000 - gpdmetric: 608762.0000 - val_loss: 14028281.0000 - val_gpdmetric: 512357.7188\n",
      "Epoch 19/100\n",
      "21/24 [=========================>....] - ETA: 0s - loss: 20922218.0000 - gpdmetric: 642017.1875\n",
      "Epoch 19: val_loss improved from 14028281.00000 to 13909978.00000, saving model to checkpoints/\n",
      "INFO:tensorflow:Assets written to: checkpoints/assets\n",
      "24/24 [==============================] - 4s 191ms/step - loss: 20968036.0000 - gpdmetric: 615468.1875 - val_loss: 13909978.0000 - val_gpdmetric: 520334.7188\n",
      "Epoch 20/100\n",
      "23/24 [===========================>..] - ETA: 0s - loss: 20713804.0000 - gpdmetric: 650372.1875\n",
      "Epoch 20: val_loss improved from 13909978.00000 to 13848659.00000, saving model to checkpoints/\n",
      "INFO:tensorflow:Assets written to: checkpoints/assets\n",
      "24/24 [==============================] - 4s 181ms/step - loss: 20712044.0000 - gpdmetric: 623273.4375 - val_loss: 13848659.0000 - val_gpdmetric: 525285.5625\n",
      "Epoch 21/100\n",
      "21/24 [=========================>....] - ETA: 0s - loss: 20610000.0000 - gpdmetric: 653306.8750\n",
      "Epoch 21: val_loss improved from 13848659.00000 to 13759828.00000, saving model to checkpoints/\n",
      "INFO:tensorflow:Assets written to: checkpoints/assets\n",
      "24/24 [==============================] - 4s 168ms/step - loss: 20588768.0000 - gpdmetric: 627628.8125 - val_loss: 13759828.0000 - val_gpdmetric: 536836.5000\n",
      "Epoch 22/100\n",
      "21/24 [=========================>....] - ETA: 0s - loss: 20348988.0000 - gpdmetric: 666833.7500\n",
      "Epoch 22: val_loss improved from 13759828.00000 to 13687579.00000, saving model to checkpoints/\n",
      "INFO:tensorflow:Assets written to: checkpoints/assets\n",
      "24/24 [==============================] - 5s 200ms/step - loss: 20353640.0000 - gpdmetric: 638625.3750 - val_loss: 13687579.0000 - val_gpdmetric: 546109.7500\n",
      "Epoch 23/100\n",
      "21/24 [=========================>....] - ETA: 0s - loss: 20198844.0000 - gpdmetric: 669563.2500\n",
      "Epoch 23: val_loss improved from 13687579.00000 to 13650175.00000, saving model to checkpoints/\n",
      "INFO:tensorflow:Assets written to: checkpoints/assets\n",
      "24/24 [==============================] - 4s 162ms/step - loss: 20158270.0000 - gpdmetric: 643533.8125 - val_loss: 13650175.0000 - val_gpdmetric: 552275.5000\n",
      "Epoch 24/100\n",
      "22/24 [==========================>...] - ETA: 0s - loss: 20055736.0000 - gpdmetric: 679296.9375\n",
      "Epoch 24: val_loss improved from 13650175.00000 to 13609464.00000, saving model to checkpoints/\n",
      "INFO:tensorflow:Assets written to: checkpoints/assets\n",
      "24/24 [==============================] - 4s 184ms/step - loss: 19978292.0000 - gpdmetric: 652271.5000 - val_loss: 13609464.0000 - val_gpdmetric: 559476.1250\n",
      "Epoch 25/100\n",
      "21/24 [=========================>....] - ETA: 0s - loss: 19824304.0000 - gpdmetric: 682309.6875\n",
      "Epoch 25: val_loss improved from 13609464.00000 to 13572179.00000, saving model to checkpoints/\n",
      "INFO:tensorflow:Assets written to: checkpoints/assets\n",
      "24/24 [==============================] - 4s 184ms/step - loss: 19768842.0000 - gpdmetric: 654951.0625 - val_loss: 13572179.0000 - val_gpdmetric: 566991.6250\n",
      "Epoch 26/100\n",
      "21/24 [=========================>....] - ETA: 0s - loss: 19506524.0000 - gpdmetric: 694694.1250\n",
      "Epoch 26: val_loss improved from 13572179.00000 to 13540390.00000, saving model to checkpoints/\n",
      "INFO:tensorflow:Assets written to: checkpoints/assets\n",
      "24/24 [==============================] - 4s 166ms/step - loss: 19561238.0000 - gpdmetric: 664782.4375 - val_loss: 13540390.0000 - val_gpdmetric: 574537.7500\n",
      "Epoch 27/100\n",
      "21/24 [=========================>....] - ETA: 0s - loss: 19561062.0000 - gpdmetric: 696517.2500\n",
      "Epoch 27: val_loss improved from 13540390.00000 to 13524385.00000, saving model to checkpoints/\n",
      "INFO:tensorflow:Assets written to: checkpoints/assets\n",
      "24/24 [==============================] - 4s 184ms/step - loss: 19469256.0000 - gpdmetric: 670559.9375 - val_loss: 13524385.0000 - val_gpdmetric: 580733.4375\n",
      "Epoch 28/100\n",
      "21/24 [=========================>....] - ETA: 0s - loss: 19513680.0000 - gpdmetric: 708636.3750\n",
      "Epoch 28: val_loss improved from 13524385.00000 to 13512620.00000, saving model to checkpoints/\n",
      "INFO:tensorflow:Assets written to: checkpoints/assets\n",
      "24/24 [==============================] - 4s 177ms/step - loss: 19395208.0000 - gpdmetric: 681218.7500 - val_loss: 13512620.0000 - val_gpdmetric: 586553.6875\n",
      "Epoch 29/100\n",
      "21/24 [=========================>....] - ETA: 0s - loss: 19235500.0000 - gpdmetric: 715679.5625\n",
      "Epoch 29: val_loss improved from 13512620.00000 to 13499075.00000, saving model to checkpoints/\n",
      "INFO:tensorflow:Assets written to: checkpoints/assets\n",
      "24/24 [==============================] - 4s 183ms/step - loss: 19254668.0000 - gpdmetric: 685597.5625 - val_loss: 13499075.0000 - val_gpdmetric: 592109.8125\n",
      "Epoch 30/100\n",
      "21/24 [=========================>....] - ETA: 0s - loss: 19082294.0000 - gpdmetric: 721319.0625\n",
      "Epoch 30: val_loss improved from 13499075.00000 to 13485033.00000, saving model to checkpoints/\n",
      "INFO:tensorflow:Assets written to: checkpoints/assets\n",
      "24/24 [==============================] - 4s 175ms/step - loss: 19105688.0000 - gpdmetric: 690281.3125 - val_loss: 13485033.0000 - val_gpdmetric: 596892.0000\n",
      "Epoch 31/100\n",
      "21/24 [=========================>....] - ETA: 0s - loss: 18885922.0000 - gpdmetric: 725724.6875\n",
      "Epoch 31: val_loss improved from 13485033.00000 to 13475657.00000, saving model to checkpoints/\n",
      "INFO:tensorflow:Assets written to: checkpoints/assets\n",
      "24/24 [==============================] - 4s 166ms/step - loss: 19012908.0000 - gpdmetric: 694706.6875 - val_loss: 13475657.0000 - val_gpdmetric: 601597.8125\n",
      "Epoch 32/100\n",
      "22/24 [==========================>...] - ETA: 0s - loss: 18884616.0000 - gpdmetric: 728963.8125\n",
      "Epoch 32: val_loss improved from 13475657.00000 to 13470855.00000, saving model to checkpoints/\n",
      "INFO:tensorflow:Assets written to: checkpoints/assets\n",
      "24/24 [==============================] - 4s 178ms/step - loss: 18865658.0000 - gpdmetric: 699546.5625 - val_loss: 13470855.0000 - val_gpdmetric: 607602.0000\n",
      "Epoch 33/100\n",
      "23/24 [===========================>..] - ETA: 0s - loss: 18768436.0000 - gpdmetric: 737996.1875\n",
      "Epoch 33: val_loss improved from 13470855.00000 to 13465827.00000, saving model to checkpoints/\n",
      "INFO:tensorflow:Assets written to: checkpoints/assets\n",
      "24/24 [==============================] - 4s 181ms/step - loss: 18766844.0000 - gpdmetric: 707246.4375 - val_loss: 13465827.0000 - val_gpdmetric: 614137.3125\n",
      "Epoch 34/100\n",
      "21/24 [=========================>....] - ETA: 0s - loss: 18747510.0000 - gpdmetric: 734880.3125\n",
      "Epoch 34: val_loss improved from 13465827.00000 to 13453562.00000, saving model to checkpoints/\n",
      "INFO:tensorflow:Assets written to: checkpoints/assets\n",
      "24/24 [==============================] - 4s 164ms/step - loss: 18680324.0000 - gpdmetric: 705099.9375 - val_loss: 13453562.0000 - val_gpdmetric: 616261.5625\n",
      "Epoch 35/100\n",
      "21/24 [=========================>....] - ETA: 0s - loss: 18699390.0000 - gpdmetric: 741294.5000\n",
      "Epoch 35: val_loss improved from 13453562.00000 to 13447055.00000, saving model to checkpoints/\n",
      "INFO:tensorflow:Assets written to: checkpoints/assets\n",
      "24/24 [==============================] - 4s 182ms/step - loss: 18605986.0000 - gpdmetric: 712038.6875 - val_loss: 13447055.0000 - val_gpdmetric: 619243.4375\n",
      "Epoch 36/100\n",
      "21/24 [=========================>....] - ETA: 0s - loss: 18506288.0000 - gpdmetric: 748330.6875\n",
      "Epoch 36: val_loss improved from 13447055.00000 to 13441317.00000, saving model to checkpoints/\n",
      "INFO:tensorflow:Assets written to: checkpoints/assets\n",
      "24/24 [==============================] - 4s 155ms/step - loss: 18510608.0000 - gpdmetric: 717576.0625 - val_loss: 13441317.0000 - val_gpdmetric: 622070.0625\n",
      "Epoch 37/100\n",
      "21/24 [=========================>....] - ETA: 0s - loss: 18467680.0000 - gpdmetric: 750356.8750\n",
      "Epoch 37: val_loss improved from 13441317.00000 to 13438466.00000, saving model to checkpoints/\n",
      "INFO:tensorflow:Assets written to: checkpoints/assets\n",
      "24/24 [==============================] - 4s 174ms/step - loss: 18440164.0000 - gpdmetric: 718272.5000 - val_loss: 13438466.0000 - val_gpdmetric: 623717.6875\n",
      "Epoch 38/100\n",
      "21/24 [=========================>....] - ETA: 0s - loss: 18346134.0000 - gpdmetric: 754685.9375\n",
      "Epoch 38: val_loss improved from 13438466.00000 to 13437737.00000, saving model to checkpoints/\n",
      "INFO:tensorflow:Assets written to: checkpoints/assets\n",
      "24/24 [==============================] - 4s 185ms/step - loss: 18339342.0000 - gpdmetric: 723680.5000 - val_loss: 13437737.0000 - val_gpdmetric: 627707.3750\n",
      "Epoch 39/100\n",
      "21/24 [=========================>....] - ETA: 0s - loss: 18283140.0000 - gpdmetric: 757224.7500\n",
      "Epoch 39: val_loss improved from 13437737.00000 to 13437238.00000, saving model to checkpoints/\n",
      "INFO:tensorflow:Assets written to: checkpoints/assets\n",
      "24/24 [==============================] - 4s 157ms/step - loss: 18325878.0000 - gpdmetric: 726134.8125 - val_loss: 13437238.0000 - val_gpdmetric: 629952.1875\n",
      "Epoch 40/100\n",
      "23/24 [===========================>..] - ETA: 0s - loss: 18236720.0000 - gpdmetric: 762040.8125\n",
      "Epoch 40: val_loss did not improve from 13437238.00000\n",
      "24/24 [==============================] - 1s 24ms/step - loss: 18235170.0000 - gpdmetric: 730289.2500 - val_loss: 13440517.0000 - val_gpdmetric: 631874.4375\n",
      "Epoch 41/100\n",
      "21/24 [=========================>....] - ETA: 0s - loss: 18227974.0000 - gpdmetric: 763243.3750\n",
      "Epoch 41: val_loss did not improve from 13437238.00000\n",
      "24/24 [==============================] - 1s 23ms/step - loss: 18192842.0000 - gpdmetric: 731013.9375 - val_loss: 13443537.0000 - val_gpdmetric: 632902.5000\n",
      "Epoch 42/100\n",
      "22/24 [==========================>...] - ETA: 0s - loss: 18113982.0000 - gpdmetric: 764835.2500\n",
      "Epoch 42: val_loss did not improve from 13437238.00000\n",
      "24/24 [==============================] - 1s 23ms/step - loss: 18088030.0000 - gpdmetric: 732917.3125 - val_loss: 13443693.0000 - val_gpdmetric: 634501.6875\n",
      "Epoch 43/100\n",
      "21/24 [=========================>....] - ETA: 0s - loss: 18046408.0000 - gpdmetric: 768857.1250\n",
      "Epoch 43: val_loss did not improve from 13437238.00000\n",
      "24/24 [==============================] - 1s 24ms/step - loss: 18018524.0000 - gpdmetric: 737583.5625 - val_loss: 13442479.0000 - val_gpdmetric: 635901.9375\n",
      "Epoch 44/100\n",
      "21/24 [=========================>....] - ETA: 0s - loss: 18052192.0000 - gpdmetric: 769342.5000\n",
      "Epoch 44: val_loss did not improve from 13437238.00000\n",
      "24/24 [==============================] - 1s 25ms/step - loss: 17971742.0000 - gpdmetric: 740228.1875 - val_loss: 13440778.0000 - val_gpdmetric: 637620.7500\n",
      "Epoch 45/100\n",
      "22/24 [==========================>...] - ETA: 0s - loss: 17971576.0000 - gpdmetric: 773730.2500\n",
      "Epoch 45: val_loss improved from 13437238.00000 to 13432444.00000, saving model to checkpoints/\n",
      "INFO:tensorflow:Assets written to: checkpoints/assets\n",
      "24/24 [==============================] - 4s 180ms/step - loss: 17973030.0000 - gpdmetric: 741226.5000 - val_loss: 13432444.0000 - val_gpdmetric: 640082.2500\n",
      "Epoch 46/100\n",
      "21/24 [=========================>....] - ETA: 0s - loss: 17996090.0000 - gpdmetric: 774404.1875\n",
      "Epoch 46: val_loss improved from 13432444.00000 to 13428104.00000, saving model to checkpoints/\n",
      "INFO:tensorflow:Assets written to: checkpoints/assets\n",
      "24/24 [==============================] - 4s 158ms/step - loss: 17869986.0000 - gpdmetric: 743806.8125 - val_loss: 13428104.0000 - val_gpdmetric: 640876.1250\n",
      "Epoch 47/100\n",
      "23/24 [===========================>..] - ETA: 0s - loss: 17875052.0000 - gpdmetric: 777756.6250\n",
      "Epoch 47: val_loss did not improve from 13428104.00000\n",
      "24/24 [==============================] - 1s 25ms/step - loss: 17873534.0000 - gpdmetric: 745350.2500 - val_loss: 13434814.0000 - val_gpdmetric: 642712.0625\n",
      "Epoch 48/100\n",
      "22/24 [==========================>...] - ETA: 0s - loss: 17775816.0000 - gpdmetric: 780376.1875\n",
      "Epoch 48: val_loss did not improve from 13428104.00000\n",
      "24/24 [==============================] - 1s 23ms/step - loss: 17808524.0000 - gpdmetric: 746949.5625 - val_loss: 13433121.0000 - val_gpdmetric: 641296.4375\n",
      "Epoch 49/100\n",
      "22/24 [==========================>...] - ETA: 0s - loss: 17857742.0000 - gpdmetric: 777624.0000\n",
      "Epoch 49: val_loss improved from 13428104.00000 to 13425163.00000, saving model to checkpoints/\n",
      "INFO:tensorflow:Assets written to: checkpoints/assets\n",
      "24/24 [==============================] - 4s 187ms/step - loss: 17753852.0000 - gpdmetric: 746412.2500 - val_loss: 13425163.0000 - val_gpdmetric: 643792.7500\n",
      "Epoch 50/100\n",
      "21/24 [=========================>....] - ETA: 0s - loss: 17679658.0000 - gpdmetric: 784552.2500\n",
      "Epoch 50: val_loss improved from 13425163.00000 to 13424565.00000, saving model to checkpoints/\n",
      "INFO:tensorflow:Assets written to: checkpoints/assets\n",
      "24/24 [==============================] - 4s 176ms/step - loss: 17769512.0000 - gpdmetric: 749553.9375 - val_loss: 13424565.0000 - val_gpdmetric: 645914.2500\n",
      "Epoch 51/100\n",
      "21/24 [=========================>....] - ETA: 0s - loss: 17654260.0000 - gpdmetric: 782757.6875\n",
      "Epoch 51: val_loss improved from 13424565.00000 to 13415799.00000, saving model to checkpoints/\n",
      "INFO:tensorflow:Assets written to: checkpoints/assets\n",
      "24/24 [==============================] - 4s 173ms/step - loss: 17668668.0000 - gpdmetric: 750595.3125 - val_loss: 13415799.0000 - val_gpdmetric: 648605.6875\n",
      "Epoch 52/100\n",
      "22/24 [==========================>...] - ETA: 0s - loss: 17713504.0000 - gpdmetric: 781801.0625\n",
      "Epoch 52: val_loss improved from 13415799.00000 to 13396561.00000, saving model to checkpoints/\n",
      "INFO:tensorflow:Assets written to: checkpoints/assets\n",
      "24/24 [==============================] - 4s 182ms/step - loss: 17672612.0000 - gpdmetric: 750128.6875 - val_loss: 13396561.0000 - val_gpdmetric: 649824.7500\n",
      "Epoch 53/100\n",
      "23/24 [===========================>..] - ETA: 0s - loss: 17606604.0000 - gpdmetric: 785711.3125\n",
      "Epoch 53: val_loss did not improve from 13396561.00000\n",
      "24/24 [==============================] - 1s 24ms/step - loss: 17605108.0000 - gpdmetric: 752973.5000 - val_loss: 13411786.0000 - val_gpdmetric: 649489.2500\n",
      "Epoch 54/100\n",
      "21/24 [=========================>....] - ETA: 0s - loss: 17520080.0000 - gpdmetric: 786941.1250\n",
      "Epoch 54: val_loss did not improve from 13396561.00000\n",
      "24/24 [==============================] - 1s 23ms/step - loss: 17583278.0000 - gpdmetric: 752452.0625 - val_loss: 13407528.0000 - val_gpdmetric: 650666.7500\n",
      "Epoch 55/100\n",
      "21/24 [=========================>....] - ETA: 0s - loss: 17510936.0000 - gpdmetric: 786298.6250\n",
      "Epoch 55: val_loss did not improve from 13396561.00000\n",
      "24/24 [==============================] - 1s 23ms/step - loss: 17579284.0000 - gpdmetric: 753190.1875 - val_loss: 13402717.0000 - val_gpdmetric: 651275.1875\n",
      "Epoch 56/100\n",
      "22/24 [==========================>...] - ETA: 0s - loss: 17534020.0000 - gpdmetric: 789072.4375\n",
      "Epoch 56: val_loss did not improve from 13396561.00000\n",
      "24/24 [==============================] - 1s 23ms/step - loss: 17526198.0000 - gpdmetric: 755789.4375 - val_loss: 13400865.0000 - val_gpdmetric: 652296.2500\n",
      "Epoch 57/100\n",
      "21/24 [=========================>....] - ETA: 0s - loss: 17440502.0000 - gpdmetric: 791629.8750\n",
      "Epoch 57: val_loss improved from 13396561.00000 to 13391870.00000, saving model to checkpoints/\n",
      "INFO:tensorflow:Assets written to: checkpoints/assets\n",
      "24/24 [==============================] - 4s 161ms/step - loss: 17500590.0000 - gpdmetric: 757076.7500 - val_loss: 13391870.0000 - val_gpdmetric: 653433.7500\n",
      "Epoch 58/100\n",
      "22/24 [==========================>...] - ETA: 0s - loss: 17421746.0000 - gpdmetric: 793010.0625\n",
      "Epoch 58: val_loss did not improve from 13391870.00000\n",
      "24/24 [==============================] - 1s 23ms/step - loss: 17509770.0000 - gpdmetric: 758106.7500 - val_loss: 13395502.0000 - val_gpdmetric: 652711.1875\n",
      "Epoch 59/100\n",
      "21/24 [=========================>....] - ETA: 0s - loss: 17467062.0000 - gpdmetric: 790405.1250\n",
      "Epoch 59: val_loss did not improve from 13391870.00000\n",
      "24/24 [==============================] - 1s 22ms/step - loss: 17448052.0000 - gpdmetric: 757643.4375 - val_loss: 13408358.0000 - val_gpdmetric: 649293.7500\n",
      "Epoch 60/100\n",
      "22/24 [==========================>...] - ETA: 0s - loss: 17455482.0000 - gpdmetric: 790922.1875\n",
      "Epoch 60: val_loss did not improve from 13391870.00000\n",
      "24/24 [==============================] - 1s 22ms/step - loss: 17423656.0000 - gpdmetric: 758627.9375 - val_loss: 13407999.0000 - val_gpdmetric: 650573.1875\n",
      "Epoch 61/100\n",
      "22/24 [==========================>...] - ETA: 0s - loss: 17355362.0000 - gpdmetric: 790984.2500\n",
      "Epoch 61: val_loss did not improve from 13391870.00000\n",
      "24/24 [==============================] - 1s 22ms/step - loss: 17366956.0000 - gpdmetric: 757778.6875 - val_loss: 13404392.0000 - val_gpdmetric: 650878.3750\n",
      "Epoch 62/100\n",
      "22/24 [==========================>...] - ETA: 0s - loss: 17358108.0000 - gpdmetric: 792690.7500\n",
      "Epoch 62: val_loss did not improve from 13391870.00000\n",
      "24/24 [==============================] - 1s 21ms/step - loss: 17364036.0000 - gpdmetric: 758722.9375 - val_loss: 13404173.0000 - val_gpdmetric: 650979.6875\n",
      "Epoch 63/100\n",
      "22/24 [==========================>...] - ETA: 0s - loss: 17246342.0000 - gpdmetric: 793212.6250\n",
      "Epoch 63: val_loss did not improve from 13391870.00000\n",
      "24/24 [==============================] - 1s 22ms/step - loss: 17333120.0000 - gpdmetric: 759115.0625 - val_loss: 13431177.0000 - val_gpdmetric: 650111.3125\n",
      "Epoch 64/100\n",
      "22/24 [==========================>...] - ETA: 0s - loss: 17342184.0000 - gpdmetric: 793172.1875\n",
      "Epoch 64: val_loss did not improve from 13391870.00000\n",
      "24/24 [==============================] - 1s 22ms/step - loss: 17317676.0000 - gpdmetric: 761018.7500 - val_loss: 13440459.0000 - val_gpdmetric: 649881.1250\n",
      "Epoch 65/100\n",
      "22/24 [==========================>...] - ETA: 0s - loss: 17250070.0000 - gpdmetric: 793714.4375\n",
      "Epoch 65: val_loss did not improve from 13391870.00000\n",
      "24/24 [==============================] - 1s 22ms/step - loss: 17282458.0000 - gpdmetric: 759694.3125 - val_loss: 13436280.0000 - val_gpdmetric: 648025.6875\n",
      "Epoch 66/100\n",
      "22/24 [==========================>...] - ETA: 0s - loss: 17300046.0000 - gpdmetric: 793417.3750\n",
      "Epoch 66: val_loss did not improve from 13391870.00000\n",
      "24/24 [==============================] - 1s 23ms/step - loss: 17257992.0000 - gpdmetric: 760744.2500 - val_loss: 13444862.0000 - val_gpdmetric: 648649.3750\n",
      "Epoch 67/100\n",
      "21/24 [=========================>....] - ETA: 0s - loss: 17286104.0000 - gpdmetric: 795549.2500\n",
      "Epoch 67: val_loss did not improve from 13391870.00000\n",
      "24/24 [==============================] - 1s 23ms/step - loss: 17259056.0000 - gpdmetric: 762947.2500 - val_loss: 13439361.0000 - val_gpdmetric: 649138.1250\n",
      "Epoch 68/100\n",
      "21/24 [=========================>....] - ETA: 0s - loss: 17255082.0000 - gpdmetric: 796924.0000\n",
      "Epoch 68: val_loss did not improve from 13391870.00000\n",
      "24/24 [==============================] - 1s 22ms/step - loss: 17270270.0000 - gpdmetric: 762721.1875 - val_loss: 13415248.0000 - val_gpdmetric: 650561.4375\n",
      "Epoch 69/100\n",
      "22/24 [==========================>...] - ETA: 0s - loss: 17149206.0000 - gpdmetric: 794820.9375\n",
      "Epoch 69: val_loss improved from 13391870.00000 to 13391241.00000, saving model to checkpoints/\n",
      "INFO:tensorflow:Assets written to: checkpoints/assets\n",
      "24/24 [==============================] - 4s 183ms/step - loss: 17191552.0000 - gpdmetric: 760813.9375 - val_loss: 13391241.0000 - val_gpdmetric: 651174.1875\n",
      "Epoch 70/100\n",
      "22/24 [==========================>...] - ETA: 0s - loss: 17229468.0000 - gpdmetric: 794695.7500\n",
      "Epoch 70: val_loss did not improve from 13391241.00000\n",
      "24/24 [==============================] - 1s 23ms/step - loss: 17158322.0000 - gpdmetric: 762927.1875 - val_loss: 13448955.0000 - val_gpdmetric: 648388.5000\n",
      "Epoch 71/100\n",
      "22/24 [==========================>...] - ETA: 0s - loss: 17185240.0000 - gpdmetric: 794101.5625\n",
      "Epoch 71: val_loss did not improve from 13391241.00000\n",
      "24/24 [==============================] - 1s 23ms/step - loss: 17166010.0000 - gpdmetric: 761347.0625 - val_loss: 13458211.0000 - val_gpdmetric: 648867.4375\n",
      "Epoch 72/100\n",
      "22/24 [==========================>...] - ETA: 0s - loss: 17170260.0000 - gpdmetric: 798920.4375\n",
      "Epoch 72: val_loss did not improve from 13391241.00000\n",
      "24/24 [==============================] - 1s 22ms/step - loss: 17173016.0000 - gpdmetric: 764700.0000 - val_loss: 13463923.0000 - val_gpdmetric: 650298.4375\n",
      "Epoch 73/100\n",
      "23/24 [===========================>..] - ETA: 0s - loss: 17134142.0000 - gpdmetric: 796035.5000\n",
      "Epoch 73: val_loss did not improve from 13391241.00000\n",
      "24/24 [==============================] - 1s 23ms/step - loss: 17132686.0000 - gpdmetric: 762867.5625 - val_loss: 13460315.0000 - val_gpdmetric: 648968.2500\n",
      "Epoch 74/100\n",
      "22/24 [==========================>...] - ETA: 0s - loss: 17135896.0000 - gpdmetric: 799639.8125\n",
      "Epoch 74: val_loss did not improve from 13391241.00000\n",
      "24/24 [==============================] - 1s 23ms/step - loss: 17127114.0000 - gpdmetric: 766249.4375 - val_loss: 13470168.0000 - val_gpdmetric: 648698.8125\n",
      "Epoch 75/100\n",
      "21/24 [=========================>....] - ETA: 0s - loss: 16973846.0000 - gpdmetric: 800243.6875\n",
      "Epoch 75: val_loss did not improve from 13391241.00000\n",
      "24/24 [==============================] - 1s 23ms/step - loss: 17091006.0000 - gpdmetric: 765015.5000 - val_loss: 13455865.0000 - val_gpdmetric: 649295.6875\n",
      "Epoch 76/100\n",
      "22/24 [==========================>...] - ETA: 0s - loss: 17087458.0000 - gpdmetric: 800638.7500\n",
      "Epoch 76: val_loss did not improve from 13391241.00000\n",
      "24/24 [==============================] - 1s 23ms/step - loss: 17130216.0000 - gpdmetric: 766707.9375 - val_loss: 13435812.0000 - val_gpdmetric: 648936.8125\n",
      "Epoch 77/100\n",
      "21/24 [=========================>....] - ETA: 0s - loss: 17114804.0000 - gpdmetric: 797735.8750\n",
      "Epoch 77: val_loss did not improve from 13391241.00000\n",
      "24/24 [==============================] - 1s 24ms/step - loss: 17096080.0000 - gpdmetric: 764369.0625 - val_loss: 13429615.0000 - val_gpdmetric: 648881.1250\n",
      "Epoch 78/100\n",
      "22/24 [==========================>...] - ETA: 0s - loss: 17087756.0000 - gpdmetric: 799316.9375\n",
      "Epoch 78: val_loss did not improve from 13391241.00000\n",
      "24/24 [==============================] - 1s 22ms/step - loss: 17119494.0000 - gpdmetric: 765844.0625 - val_loss: 13401366.0000 - val_gpdmetric: 649980.5625\n",
      "Epoch 79/100\n",
      "22/24 [==========================>...] - ETA: 0s - loss: 17043610.0000 - gpdmetric: 800956.3750\n",
      "Epoch 79: val_loss did not improve from 13391241.00000\n",
      "24/24 [==============================] - 1s 23ms/step - loss: 17074966.0000 - gpdmetric: 767392.9375 - val_loss: 13426702.0000 - val_gpdmetric: 650576.1875\n",
      "Epoch 80/100\n",
      "22/24 [==========================>...] - ETA: 0s - loss: 17049326.0000 - gpdmetric: 797796.1875\n",
      "Epoch 80: val_loss did not improve from 13391241.00000\n",
      "24/24 [==============================] - 1s 24ms/step - loss: 17060802.0000 - gpdmetric: 765471.5000 - val_loss: 13425208.0000 - val_gpdmetric: 649281.5625\n",
      "Epoch 81/100\n",
      "24/24 [==============================] - ETA: 0s - loss: 17039054.0000 - gpdmetric: 766089.7500\n",
      "Epoch 81: val_loss did not improve from 13391241.00000\n",
      "24/24 [==============================] - 1s 25ms/step - loss: 17039054.0000 - gpdmetric: 766089.7500 - val_loss: 13411163.0000 - val_gpdmetric: 649133.0625\n",
      "Epoch 82/100\n",
      "22/24 [==========================>...] - ETA: 0s - loss: 17003360.0000 - gpdmetric: 801835.3750\n",
      "Epoch 82: val_loss improved from 13391241.00000 to 13367185.00000, saving model to checkpoints/\n",
      "INFO:tensorflow:Assets written to: checkpoints/assets\n",
      "24/24 [==============================] - 4s 191ms/step - loss: 17032988.0000 - gpdmetric: 766879.3125 - val_loss: 13367185.0000 - val_gpdmetric: 650100.2500\n",
      "Epoch 83/100\n",
      "21/24 [=========================>....] - ETA: 0s - loss: 16988926.0000 - gpdmetric: 801240.0000\n",
      "Epoch 83: val_loss did not improve from 13367185.00000\n",
      "24/24 [==============================] - 1s 24ms/step - loss: 17038714.0000 - gpdmetric: 767540.1875 - val_loss: 13440904.0000 - val_gpdmetric: 649568.8125\n",
      "Epoch 84/100\n",
      "24/24 [==============================] - ETA: 0s - loss: 17055520.0000 - gpdmetric: 768331.6875\n",
      "Epoch 84: val_loss did not improve from 13367185.00000\n",
      "24/24 [==============================] - 1s 25ms/step - loss: 17055520.0000 - gpdmetric: 768331.6875 - val_loss: 13563109.0000 - val_gpdmetric: 646755.2500\n",
      "Epoch 85/100\n",
      "23/24 [===========================>..] - ETA: 0s - loss: 17006188.0000 - gpdmetric: 800870.1875\n",
      "Epoch 85: val_loss did not improve from 13367185.00000\n",
      "24/24 [==============================] - 1s 23ms/step - loss: 17004744.0000 - gpdmetric: 767500.7500 - val_loss: 13523082.0000 - val_gpdmetric: 646471.1875\n",
      "Epoch 86/100\n",
      "21/24 [=========================>....] - ETA: 0s - loss: 16921468.0000 - gpdmetric: 801314.7500\n",
      "Epoch 86: val_loss did not improve from 13367185.00000\n",
      "24/24 [==============================] - 1s 24ms/step - loss: 16942320.0000 - gpdmetric: 768696.0000 - val_loss: 13449186.0000 - val_gpdmetric: 647146.1875\n",
      "Epoch 87/100\n",
      "21/24 [=========================>....] - ETA: 0s - loss: 17025460.0000 - gpdmetric: 803782.1250\n",
      "Epoch 87: val_loss did not improve from 13367185.00000\n",
      "24/24 [==============================] - 1s 24ms/step - loss: 16983112.0000 - gpdmetric: 769521.6875 - val_loss: 13429437.0000 - val_gpdmetric: 646337.2500\n",
      "Epoch 88/100\n",
      "24/24 [==============================] - ETA: 0s - loss: 16935586.0000 - gpdmetric: 770333.5625\n",
      "Epoch 88: val_loss did not improve from 13367185.00000\n",
      "24/24 [==============================] - 1s 23ms/step - loss: 16935586.0000 - gpdmetric: 770333.5625 - val_loss: 13395736.0000 - val_gpdmetric: 646505.3125\n",
      "Epoch 89/100\n",
      "22/24 [==========================>...] - ETA: 0s - loss: 17022126.0000 - gpdmetric: 800984.0000\n",
      "Epoch 89: val_loss did not improve from 13367185.00000\n",
      "24/24 [==============================] - 1s 22ms/step - loss: 16976486.0000 - gpdmetric: 769029.1875 - val_loss: 13367395.0000 - val_gpdmetric: 647399.2500\n",
      "Epoch 90/100\n",
      "22/24 [==========================>...] - ETA: 0s - loss: 16914398.0000 - gpdmetric: 800884.1875\n",
      "Epoch 90: val_loss improved from 13367185.00000 to 13358214.00000, saving model to checkpoints/\n",
      "INFO:tensorflow:Assets written to: checkpoints/assets\n",
      "24/24 [==============================] - 4s 167ms/step - loss: 16909296.0000 - gpdmetric: 767222.7500 - val_loss: 13358214.0000 - val_gpdmetric: 648304.0625\n",
      "Epoch 91/100\n",
      "22/24 [==========================>...] - ETA: 0s - loss: 16956600.0000 - gpdmetric: 801931.8125\n",
      "Epoch 91: val_loss improved from 13358214.00000 to 13357568.00000, saving model to checkpoints/\n",
      "INFO:tensorflow:Assets written to: checkpoints/assets\n",
      "24/24 [==============================] - 4s 186ms/step - loss: 16959776.0000 - gpdmetric: 768942.2500 - val_loss: 13357568.0000 - val_gpdmetric: 646686.7500\n",
      "Epoch 92/100\n",
      "21/24 [=========================>....] - ETA: 0s - loss: 16998320.0000 - gpdmetric: 798578.0625\n",
      "Epoch 92: val_loss did not improve from 13357568.00000\n",
      "24/24 [==============================] - 1s 23ms/step - loss: 16928780.0000 - gpdmetric: 767032.9375 - val_loss: 13363981.0000 - val_gpdmetric: 645918.8125\n",
      "Epoch 93/100\n",
      "22/24 [==========================>...] - ETA: 0s - loss: 16945112.0000 - gpdmetric: 801012.1875\n",
      "Epoch 93: val_loss did not improve from 13357568.00000\n",
      "24/24 [==============================] - 1s 22ms/step - loss: 16897252.0000 - gpdmetric: 768413.5000 - val_loss: 13366403.0000 - val_gpdmetric: 644974.2500\n",
      "Epoch 94/100\n",
      "22/24 [==========================>...] - ETA: 0s - loss: 16891582.0000 - gpdmetric: 803540.0625\n",
      "Epoch 94: val_loss did not improve from 13357568.00000\n",
      "24/24 [==============================] - 1s 22ms/step - loss: 16912940.0000 - gpdmetric: 769128.2500 - val_loss: 13377733.0000 - val_gpdmetric: 645447.9375\n",
      "Epoch 95/100\n",
      "21/24 [=========================>....] - ETA: 0s - loss: 17050132.0000 - gpdmetric: 799991.0625\n",
      "Epoch 95: val_loss did not improve from 13357568.00000\n",
      "24/24 [==============================] - 1s 23ms/step - loss: 16910784.0000 - gpdmetric: 769042.3125 - val_loss: 13370776.0000 - val_gpdmetric: 645249.3125\n",
      "Epoch 96/100\n",
      "22/24 [==========================>...] - ETA: 0s - loss: 16878498.0000 - gpdmetric: 801151.9375\n",
      "Epoch 96: val_loss did not improve from 13357568.00000\n",
      "24/24 [==============================] - 1s 22ms/step - loss: 16875868.0000 - gpdmetric: 768090.5625 - val_loss: 13359433.0000 - val_gpdmetric: 645321.3750\n",
      "Epoch 97/100\n",
      "22/24 [==========================>...] - ETA: 0s - loss: 16812898.0000 - gpdmetric: 800899.1875\n",
      "Epoch 97: val_loss did not improve from 13357568.00000\n",
      "24/24 [==============================] - 1s 22ms/step - loss: 16866034.0000 - gpdmetric: 766888.4375 - val_loss: 13359214.0000 - val_gpdmetric: 646251.3125\n",
      "Epoch 98/100\n",
      "22/24 [==========================>...] - ETA: 0s - loss: 16862434.0000 - gpdmetric: 802865.0625\n",
      "Epoch 98: val_loss improved from 13357568.00000 to 13356344.00000, saving model to checkpoints/\n",
      "INFO:tensorflow:Assets written to: checkpoints/assets\n",
      "24/24 [==============================] - 4s 156ms/step - loss: 16871766.0000 - gpdmetric: 769008.7500 - val_loss: 13356344.0000 - val_gpdmetric: 646264.7500\n",
      "Epoch 99/100\n",
      "21/24 [=========================>....] - ETA: 0s - loss: 16921466.0000 - gpdmetric: 802615.4375\n",
      "Epoch 99: val_loss improved from 13356344.00000 to 13356160.00000, saving model to checkpoints/\n",
      "INFO:tensorflow:Assets written to: checkpoints/assets\n",
      "24/24 [==============================] - 4s 183ms/step - loss: 16855408.0000 - gpdmetric: 770236.3125 - val_loss: 13356160.0000 - val_gpdmetric: 646373.5625\n",
      "Epoch 100/100\n",
      "21/24 [=========================>....] - ETA: 0s - loss: 16878962.0000 - gpdmetric: 803957.0625\n",
      "Epoch 100: val_loss did not improve from 13356160.00000\n",
      "24/24 [==============================] - 1s 23ms/step - loss: 16864060.0000 - gpdmetric: 769583.5625 - val_loss: 13369604.0000 - val_gpdmetric: 646392.8125\n"
     ]
    }
   ],
   "source": [
    "trainarea.trainmodel(landslidehazard.model,dataset.X_train,dataset.Y_train,params['trainparam'])\n",
    "landslidehazard.model.save_weights('savedweights/final_modelfull_datav2.h5')"
   ]
  },
  {
   "cell_type": "code",
   "execution_count": 5,
   "metadata": {},
   "outputs": [],
   "source": [
    "landslidehazard.model.save_weights('savedweights/final_modelfull_datav2.h5')"
   ]
  },
  {
   "cell_type": "code",
   "execution_count": 29,
   "metadata": {},
   "outputs": [
    {
     "ename": "AttributeError",
     "evalue": "'readGPDData' object has no attribute 'X_train'",
     "output_type": "error",
     "traceback": [
      "\u001b[0;31m---------------------------------------------------------------------------\u001b[0m",
      "\u001b[0;31mAttributeError\u001b[0m                            Traceback (most recent call last)",
      "Cell \u001b[0;32mIn[29], line 1\u001b[0m\n\u001b[0;32m----> 1\u001b[0m landslidehazard\u001b[39m.\u001b[39mmodel\u001b[39m.\u001b[39mpredict(dataset\u001b[39m.\u001b[39;49mX_train[:\u001b[39m10\u001b[39m,\u001b[39m0\u001b[39m])\n",
      "\u001b[0;31mAttributeError\u001b[0m: 'readGPDData' object has no attribute 'X_train'"
     ]
    }
   ],
   "source": [
    "landslidehazard.model.predict(dataset.X_train[:10,0])"
   ]
  },
  {
   "attachments": {},
   "cell_type": "markdown",
   "metadata": {},
   "source": [
    "# validate by using QQ plot"
   ]
  },
  {
   "cell_type": "code",
   "execution_count": 4,
   "metadata": {},
   "outputs": [
    {
     "name": "stdout",
     "output_type": "stream",
     "text": [
      "The autoreload extension is already loaded. To reload it, use:\n",
      "  %reload_ext autoreload\n",
      "2.10.1\n",
      "[PhysicalDevice(name='/physical_device:CPU:0', device_type='CPU')]\n"
     ]
    }
   ],
   "source": [
    "%load_ext autoreload\n",
    "%autoreload 2\n",
    "import tensorflow as tf\n",
    "import json\n",
    "from src import preparedata\n",
    "from src import modelarea\n",
    "from src import trainarea\n",
    "import tensorflow_probability as tfp\n",
    "print(tf.__version__)\n",
    "print(tf.config.list_physical_devices(\n",
    "    device_type=None\n",
    "))\n",
    "\n",
    "params=json.load(open('params/params.json','r'))"
   ]
  },
  {
   "cell_type": "code",
   "execution_count": 37,
   "metadata": {},
   "outputs": [
    {
     "data": {
      "application/vnd.jupyter.widget-view+json": {
       "model_id": "4d7d169a0a674a1b8f3e8369e65db3c5",
       "version_major": 2,
       "version_minor": 0
      },
      "text/plain": [
       "  0%|          | 0/31 [00:00<?, ?it/s]"
      ]
     },
     "metadata": {},
     "output_type": "display_data"
    },
    {
     "name": "stdout",
     "output_type": "stream",
     "text": [
      "4545/4545 [==============================] - 6s 1ms/step\n"
     ]
    }
   ],
   "source": [
    "#prepare data\n",
    "dataset=preparedata.readGPDData(params['dataprepinargs'])\n",
    "dataset.preparedata()\n",
    "landslidehazard=modelarea.lhmodel(params['modelparam'])\n",
    "landslidehazard.preparemodel()\n",
    "landslidehazard.model.load_weights('savedweights/final_modelfull_datav2.h5')\n",
    "trained_model=landslidehazard.model\n",
    "gpd_params=trained_model.predict(dataset.X_test)\n",
    "loc=0.0\n",
    "scale=tf.math.exp(gpd_params[:,0])\n",
    "conc=tf.nn.relu(gpd_params[:,1])\n",
    "dists=tfp.distributions.GeneralizedPareto(loc=0,scale=scale,concentration=conc,validate_args=False,allow_nan_stats=False,name='GeneralizedExtremeValue') "
   ]
  },
  {
   "cell_type": "code",
   "execution_count": 38,
   "metadata": {},
   "outputs": [],
   "source": [
    "#calculate theoritical quantiles\n",
    "gpto=tfp.distributions.GeneralizedPareto(loc=0.,scale=0.5039473874727983,concentration=0.5856400905176868)\n",
    "tquantiles=gpto.quantile(dataset.Y_test)\n",
    "quantiles=dists.quantile(dataset.Y_test)"
   ]
  },
  {
   "cell_type": "code",
   "execution_count": 45,
   "metadata": {},
   "outputs": [
    {
     "data": {
      "text/plain": [
       "array([0.11096881, 0.08046314, 0.11292028, ..., 0.11843046, 0.10594723,\n",
       "       0.1157641 ], dtype=float32)"
      ]
     },
     "execution_count": 45,
     "metadata": {},
     "output_type": "execute_result"
    }
   ],
   "source": [
    "import numpy as np\n",
    "(dists.prob(dataset.Y_test).numpy()*np.log(dists.prob(dataset.Y_test)/gpto.prob(dataset.Y_test)))"
   ]
  },
  {
   "cell_type": "code",
   "execution_count": 40,
   "metadata": {},
   "outputs": [
    {
     "data": {
      "text/plain": [
       "<tf.Tensor: shape=(), dtype=float32, numpy=0.60591143>"
      ]
     },
     "execution_count": 40,
     "metadata": {},
     "output_type": "execute_result"
    }
   ],
   "source": [
    "dists[0].concentration"
   ]
  },
  {
   "cell_type": "code",
   "execution_count": 33,
   "metadata": {},
   "outputs": [
    {
     "data": {
      "image/png": "[encoded data removed]",
      "text/plain": [
       "<Figure size 640x480 with 1 Axes>"
      ]
     },
     "metadata": {},
     "output_type": "display_data"
    }
   ],
   "source": [
    "import matplotlib.pyplot as plt\n",
    "for i in range(145427):\n",
    "    plt.plot(np.arange(0.1,60,0.1),dists[i].prob(np.arange(0.1,60,0.1)))"
   ]
  },
  {
   "cell_type": "code",
   "execution_count": 46,
   "metadata": {},
   "outputs": [
    {
     "ename": "KeyboardInterrupt",
     "evalue": "",
     "output_type": "error",
     "traceback": [
      "\u001b[0;31m---------------------------------------------------------------------------\u001b[0m",
      "\u001b[0;31mKeyboardInterrupt\u001b[0m                         Traceback (most recent call last)",
      "Cell \u001b[0;32mIn[46], line 3\u001b[0m\n\u001b[1;32m      1\u001b[0m \u001b[39mimport\u001b[39;00m \u001b[39mnumpy\u001b[39;00m \u001b[39mas\u001b[39;00m \u001b[39mnp\u001b[39;00m\n\u001b[1;32m      2\u001b[0m a\u001b[39m=\u001b[39mdataset\u001b[39m.\u001b[39mY_train\n\u001b[0;32m----> 3\u001b[0m ttquantiles\u001b[39m=\u001b[39mnp\u001b[39m.\u001b[39marray([np\u001b[39m.\u001b[39mcount_nonzero(a\u001b[39m<\u001b[39mx) \u001b[39m/\u001b[39m a\u001b[39m.\u001b[39msize \u001b[39mfor\u001b[39;00m x \u001b[39min\u001b[39;00m a])\u001b[39m*\u001b[39m\u001b[39m100\u001b[39m\n",
      "Cell \u001b[0;32mIn[46], line 3\u001b[0m, in \u001b[0;36m<listcomp>\u001b[0;34m(.0)\u001b[0m\n\u001b[1;32m      1\u001b[0m \u001b[39mimport\u001b[39;00m \u001b[39mnumpy\u001b[39;00m \u001b[39mas\u001b[39;00m \u001b[39mnp\u001b[39;00m\n\u001b[1;32m      2\u001b[0m a\u001b[39m=\u001b[39mdataset\u001b[39m.\u001b[39mY_train\n\u001b[0;32m----> 3\u001b[0m ttquantiles\u001b[39m=\u001b[39mnp\u001b[39m.\u001b[39marray([np\u001b[39m.\u001b[39mcount_nonzero(a\u001b[39m<\u001b[39;49mx) \u001b[39m/\u001b[39m a\u001b[39m.\u001b[39msize \u001b[39mfor\u001b[39;00m x \u001b[39min\u001b[39;00m a])\u001b[39m*\u001b[39m\u001b[39m100\u001b[39m\n",
      "\u001b[0;31mKeyboardInterrupt\u001b[0m: "
     ]
    }
   ],
   "source": [
    "import numpy as np\n",
    "a=dataset.Y_train\n",
    "ttquantiles=np.array([np.count_nonzero(a<x) / a.size for x in a])*100"
   ]
  },
  {
   "cell_type": "code",
   "execution_count": null,
   "metadata": {},
   "outputs": [
    {
     "data": {
      "image/png": "[encoded data removed]",
      "text/plain": [
       "<Figure size 640x480 with 1 Axes>"
      ]
     },
     "metadata": {},
     "output_type": "display_data"
    }
   ],
   "source": [
    "import matplotlib.pyplot as plt \n",
    "import seaborn as sns \n",
    "plt.scatter(ttquantile,tquantiles)\n",
    "plt.xlim(0,20)\n",
    "plt.ylim(0,20)\n",
    "plt.axline((0, 0), (1, 1), linewidth=1, color='r')\n",
    "plt.xlabel('Predicted Quantiles')\n",
    "plt.ylabel('Sample Quantiles')\n",
    "plt.savefig('Data/Plots/qq.pdf',dpi=300)"
   ]
  },
  {
   "attachments": {},
   "cell_type": "markdown",
   "metadata": {},
   "source": [
    "# validate using CRPS"
   ]
  },
  {
   "cell_type": "code",
   "execution_count": 7,
   "metadata": {},
   "outputs": [],
   "source": [
    "import properscoring"
   ]
  },
  {
   "cell_type": "code",
   "execution_count": 49,
   "metadata": {},
   "outputs": [
    {
     "data": {
      "application/vnd.jupyter.widget-view+json": {
       "model_id": "5f9c284e776844979446ae1327280c37",
       "version_major": 2,
       "version_minor": 0
      },
      "text/plain": [
       "  0%|          | 0/31 [00:00<?, ?it/s]"
      ]
     },
     "metadata": {},
     "output_type": "display_data"
    },
    {
     "ename": "FileNotFoundError",
     "evalue": "[Errno 2] Unable to open file (unable to open file: name = 'savedweights/savedweights/final_modelfull_datav2.h5', errno = 2, error message = 'No such file or directory', flags = 0, o_flags = 0)",
     "output_type": "error",
     "traceback": [
      "\u001b[0;31m---------------------------------------------------------------------------\u001b[0m",
      "\u001b[0;31mFileNotFoundError\u001b[0m                         Traceback (most recent call last)",
      "Cell \u001b[0;32mIn[49], line 6\u001b[0m\n\u001b[1;32m      4\u001b[0m landslidehazard\u001b[39m=\u001b[39mmodelarea\u001b[39m.\u001b[39mlhmodel(params[\u001b[39m'\u001b[39m\u001b[39mmodelparam\u001b[39m\u001b[39m'\u001b[39m])\n\u001b[1;32m      5\u001b[0m landslidehazard\u001b[39m.\u001b[39mpreparemodel()\n\u001b[0;32m----> 6\u001b[0m landslidehazard\u001b[39m.\u001b[39;49mmodel\u001b[39m.\u001b[39;49mload_weights(\u001b[39m'\u001b[39;49m\u001b[39msavedweights/savedweights/final_modelfull_datav2.h5\u001b[39;49m\u001b[39m'\u001b[39;49m)\n\u001b[1;32m      7\u001b[0m trained_model\u001b[39m=\u001b[39mlandslidehazard\u001b[39m.\u001b[39mmodel\n\u001b[1;32m      8\u001b[0m gpd_params\u001b[39m=\u001b[39mtrained_model\u001b[39m.\u001b[39mpredict(dataset\u001b[39m.\u001b[39mX_train)\n",
      "File \u001b[0;32m~/miniconda3/envs/dlashok/lib/python3.9/site-packages/keras/utils/traceback_utils.py:70\u001b[0m, in \u001b[0;36mfilter_traceback.<locals>.error_handler\u001b[0;34m(*args, **kwargs)\u001b[0m\n\u001b[1;32m     67\u001b[0m     filtered_tb \u001b[39m=\u001b[39m _process_traceback_frames(e\u001b[39m.\u001b[39m__traceback__)\n\u001b[1;32m     68\u001b[0m     \u001b[39m# To get the full stack trace, call:\u001b[39;00m\n\u001b[1;32m     69\u001b[0m     \u001b[39m# `tf.debugging.disable_traceback_filtering()`\u001b[39;00m\n\u001b[0;32m---> 70\u001b[0m     \u001b[39mraise\u001b[39;00m e\u001b[39m.\u001b[39mwith_traceback(filtered_tb) \u001b[39mfrom\u001b[39;00m \u001b[39mNone\u001b[39m\n\u001b[1;32m     71\u001b[0m \u001b[39mfinally\u001b[39;00m:\n\u001b[1;32m     72\u001b[0m     \u001b[39mdel\u001b[39;00m filtered_tb\n",
      "File \u001b[0;32m~/miniconda3/envs/dlashok/lib/python3.9/site-packages/h5py/_hl/files.py:533\u001b[0m, in \u001b[0;36mFile.__init__\u001b[0;34m(self, name, mode, driver, libver, userblock_size, swmr, rdcc_nslots, rdcc_nbytes, rdcc_w0, track_order, fs_strategy, fs_persist, fs_threshold, fs_page_size, page_buf_size, min_meta_keep, min_raw_keep, locking, alignment_threshold, alignment_interval, **kwds)\u001b[0m\n\u001b[1;32m    525\u001b[0m     fapl \u001b[39m=\u001b[39m make_fapl(driver, libver, rdcc_nslots, rdcc_nbytes, rdcc_w0,\n\u001b[1;32m    526\u001b[0m                      locking, page_buf_size, min_meta_keep, min_raw_keep,\n\u001b[1;32m    527\u001b[0m                      alignment_threshold\u001b[39m=\u001b[39malignment_threshold,\n\u001b[1;32m    528\u001b[0m                      alignment_interval\u001b[39m=\u001b[39malignment_interval,\n\u001b[1;32m    529\u001b[0m                      \u001b[39m*\u001b[39m\u001b[39m*\u001b[39mkwds)\n\u001b[1;32m    530\u001b[0m     fcpl \u001b[39m=\u001b[39m make_fcpl(track_order\u001b[39m=\u001b[39mtrack_order, fs_strategy\u001b[39m=\u001b[39mfs_strategy,\n\u001b[1;32m    531\u001b[0m                      fs_persist\u001b[39m=\u001b[39mfs_persist, fs_threshold\u001b[39m=\u001b[39mfs_threshold,\n\u001b[1;32m    532\u001b[0m                      fs_page_size\u001b[39m=\u001b[39mfs_page_size)\n\u001b[0;32m--> 533\u001b[0m     fid \u001b[39m=\u001b[39m make_fid(name, mode, userblock_size, fapl, fcpl, swmr\u001b[39m=\u001b[39mswmr)\n\u001b[1;32m    535\u001b[0m \u001b[39mif\u001b[39;00m \u001b[39misinstance\u001b[39m(libver, \u001b[39mtuple\u001b[39m):\n\u001b[1;32m    536\u001b[0m     \u001b[39mself\u001b[39m\u001b[39m.\u001b[39m_libver \u001b[39m=\u001b[39m libver\n",
      "File \u001b[0;32m~/miniconda3/envs/dlashok/lib/python3.9/site-packages/h5py/_hl/files.py:226\u001b[0m, in \u001b[0;36mmake_fid\u001b[0;34m(name, mode, userblock_size, fapl, fcpl, swmr)\u001b[0m\n\u001b[1;32m    224\u001b[0m     \u001b[39mif\u001b[39;00m swmr \u001b[39mand\u001b[39;00m swmr_support:\n\u001b[1;32m    225\u001b[0m         flags \u001b[39m|\u001b[39m\u001b[39m=\u001b[39m h5f\u001b[39m.\u001b[39mACC_SWMR_READ\n\u001b[0;32m--> 226\u001b[0m     fid \u001b[39m=\u001b[39m h5f\u001b[39m.\u001b[39;49mopen(name, flags, fapl\u001b[39m=\u001b[39;49mfapl)\n\u001b[1;32m    227\u001b[0m \u001b[39melif\u001b[39;00m mode \u001b[39m==\u001b[39m \u001b[39m'\u001b[39m\u001b[39mr+\u001b[39m\u001b[39m'\u001b[39m:\n\u001b[1;32m    228\u001b[0m     fid \u001b[39m=\u001b[39m h5f\u001b[39m.\u001b[39mopen(name, h5f\u001b[39m.\u001b[39mACC_RDWR, fapl\u001b[39m=\u001b[39mfapl)\n",
      "File \u001b[0;32mh5py/_objects.pyx:54\u001b[0m, in \u001b[0;36mh5py._objects.with_phil.wrapper\u001b[0;34m()\u001b[0m\n",
      "File \u001b[0;32mh5py/_objects.pyx:55\u001b[0m, in \u001b[0;36mh5py._objects.with_phil.wrapper\u001b[0;34m()\u001b[0m\n",
      "File \u001b[0;32mh5py/h5f.pyx:106\u001b[0m, in \u001b[0;36mh5py.h5f.open\u001b[0;34m()\u001b[0m\n",
      "\u001b[0;31mFileNotFoundError\u001b[0m: [Errno 2] Unable to open file (unable to open file: name = 'savedweights/savedweights/final_modelfull_datav2.h5', errno = 2, error message = 'No such file or directory', flags = 0, o_flags = 0)"
     ]
    }
   ],
   "source": [
    "#prepare data\n",
    "dataset=preparedata.readGPDData(params['dataprepinargs'])\n",
    "dataset.preparedata()\n",
    "landslidehazard=modelarea.lhmodel(params['modelparam'])\n",
    "landslidehazard.preparemodel()\n",
    "landslidehazard.model.load_weights('savedweights/final_modelfull_datav2.h5')\n",
    "trained_model=landslidehazard.model\n",
    "gpd_params=trained_model.predict(dataset.X_train)\n",
    "loc=0.0\n",
    "scale=tf.math.exp(gpd_params[:,0])\n",
    "conc=tf.nn.relu(gpd_params[:,1])\n",
    "dists=tfp.distributions.GeneralizedPareto(loc=0,scale=scale,concentration=conc,validate_args=False,allow_nan_stats=False,name='GeneralizedExtremeValue') "
   ]
  },
  {
   "cell_type": "code",
   "execution_count": 53,
   "metadata": {},
   "outputs": [
    {
     "ename": "InvalidArgumentError",
     "evalue": "{{function_node __wrapped__RealDiv_device_/job:localhost/replica:0/task:0/device:CPU:0}} Incompatible shapes: [2763099] vs. [145427] [Op:RealDiv]",
     "output_type": "error",
     "traceback": [
      "\u001b[0;31m---------------------------------------------------------------------------\u001b[0m",
      "\u001b[0;31mInvalidArgumentError\u001b[0m                      Traceback (most recent call last)",
      "Cell \u001b[0;32mIn[53], line 1\u001b[0m\n\u001b[0;32m----> 1\u001b[0m dists\u001b[39m.\u001b[39;49mcdf(dataset\u001b[39m.\u001b[39;49mY_train)\n",
      "File \u001b[0;32m~/miniconda3/envs/dlashok/lib/python3.9/site-packages/tensorflow_probability/python/distributions/distribution.py:1425\u001b[0m, in \u001b[0;36mDistribution.cdf\u001b[0;34m(self, value, name, **kwargs)\u001b[0m\n\u001b[1;32m   1407\u001b[0m \u001b[39mdef\u001b[39;00m \u001b[39mcdf\u001b[39m(\u001b[39mself\u001b[39m, value, name\u001b[39m=\u001b[39m\u001b[39m'\u001b[39m\u001b[39mcdf\u001b[39m\u001b[39m'\u001b[39m, \u001b[39m*\u001b[39m\u001b[39m*\u001b[39mkwargs):\n\u001b[1;32m   1408\u001b[0m \u001b[39m  \u001b[39m\u001b[39m\"\"\"Cumulative distribution function.\u001b[39;00m\n\u001b[1;32m   1409\u001b[0m \n\u001b[1;32m   1410\u001b[0m \u001b[39m  Given random variable `X`, the cumulative distribution function `cdf` is:\u001b[39;00m\n\u001b[0;32m   (...)\u001b[0m\n\u001b[1;32m   1423\u001b[0m \u001b[39m      values of type `self.dtype`.\u001b[39;00m\n\u001b[1;32m   1424\u001b[0m \u001b[39m  \"\"\"\u001b[39;00m\n\u001b[0;32m-> 1425\u001b[0m   \u001b[39mreturn\u001b[39;00m \u001b[39mself\u001b[39;49m\u001b[39m.\u001b[39;49m_call_cdf(value, name, \u001b[39m*\u001b[39;49m\u001b[39m*\u001b[39;49mkwargs)\n",
      "File \u001b[0;32m~/miniconda3/envs/dlashok/lib/python3.9/site-packages/tensorflow_probability/python/distributions/distribution.py:1403\u001b[0m, in \u001b[0;36mDistribution._call_cdf\u001b[0;34m(self, value, name, **kwargs)\u001b[0m\n\u001b[1;32m   1401\u001b[0m   \u001b[39mreturn\u001b[39;00m \u001b[39mself\u001b[39m\u001b[39m.\u001b[39m_cdf(value, \u001b[39m*\u001b[39m\u001b[39m*\u001b[39mkwargs)\n\u001b[1;32m   1402\u001b[0m \u001b[39mif\u001b[39;00m \u001b[39mhasattr\u001b[39m(\u001b[39mself\u001b[39m, \u001b[39m'\u001b[39m\u001b[39m_log_cdf\u001b[39m\u001b[39m'\u001b[39m):\n\u001b[0;32m-> 1403\u001b[0m   \u001b[39mreturn\u001b[39;00m tf\u001b[39m.\u001b[39mexp(\u001b[39mself\u001b[39;49m\u001b[39m.\u001b[39;49m_log_cdf(value, \u001b[39m*\u001b[39;49m\u001b[39m*\u001b[39;49mkwargs))\n\u001b[1;32m   1404\u001b[0m \u001b[39mraise\u001b[39;00m \u001b[39mNotImplementedError\u001b[39;00m(\u001b[39m'\u001b[39m\u001b[39mcdf is not implemented: \u001b[39m\u001b[39m{}\u001b[39;00m\u001b[39m'\u001b[39m\u001b[39m.\u001b[39mformat(\n\u001b[1;32m   1405\u001b[0m     \u001b[39mtype\u001b[39m(\u001b[39mself\u001b[39m)\u001b[39m.\u001b[39m\u001b[39m__name__\u001b[39m))\n",
      "File \u001b[0;32m~/miniconda3/envs/dlashok/lib/python3.9/site-packages/tensorflow_probability/python/distributions/generalized_pareto.py:243\u001b[0m, in \u001b[0;36mGeneralizedPareto._log_cdf\u001b[0;34m(self, x)\u001b[0m\n\u001b[1;32m    236\u001b[0m \u001b[39mdef\u001b[39;00m \u001b[39m_log_cdf\u001b[39m(\u001b[39mself\u001b[39m, x):\n\u001b[1;32m    237\u001b[0m   \u001b[39m# Going through the survival function is more accurate when conc is near\u001b[39;00m\n\u001b[1;32m    238\u001b[0m   \u001b[39m# zero, because it amounts to computing the (1 + conc * z)**(-1 / conc)\u001b[39;00m\n\u001b[0;32m   (...)\u001b[0m\n\u001b[1;32m    241\u001b[0m   \u001b[39m# and the absolute value are fine here because the log survival function is\u001b[39;00m\n\u001b[1;32m    242\u001b[0m   \u001b[39m# always non-positive.\u001b[39;00m\n\u001b[0;32m--> 243\u001b[0m   \u001b[39mreturn\u001b[39;00m generic\u001b[39m.\u001b[39mlog1mexp(\u001b[39mself\u001b[39;49m\u001b[39m.\u001b[39;49m_log_survival_function(x))\n",
      "File \u001b[0;32m~/miniconda3/envs/dlashok/lib/python3.9/site-packages/tensorflow_probability/python/distributions/generalized_pareto.py:230\u001b[0m, in \u001b[0;36mGeneralizedPareto._log_survival_function\u001b[0;34m(self, x)\u001b[0m\n\u001b[1;32m    228\u001b[0m scale \u001b[39m=\u001b[39m tf\u001b[39m.\u001b[39mconvert_to_tensor(\u001b[39mself\u001b[39m\u001b[39m.\u001b[39mscale)\n\u001b[1;32m    229\u001b[0m concentration \u001b[39m=\u001b[39m tf\u001b[39m.\u001b[39mconvert_to_tensor(\u001b[39mself\u001b[39m\u001b[39m.\u001b[39mconcentration)\n\u001b[0;32m--> 230\u001b[0m z \u001b[39m=\u001b[39m \u001b[39mself\u001b[39;49m\u001b[39m.\u001b[39;49m_z(x, scale)\n\u001b[1;32m    231\u001b[0m eq_zero \u001b[39m=\u001b[39m tf\u001b[39m.\u001b[39mequal(concentration, \u001b[39m0\u001b[39m)  \u001b[39m# Concentration = 0 ==> Exponential.\u001b[39;00m\n\u001b[1;32m    232\u001b[0m nonzero_conc \u001b[39m=\u001b[39m tf\u001b[39m.\u001b[39mwhere(eq_zero, tf\u001b[39m.\u001b[39mconstant(\u001b[39m1\u001b[39m, \u001b[39mself\u001b[39m\u001b[39m.\u001b[39mdtype), concentration)\n",
      "File \u001b[0;32m~/miniconda3/envs/dlashok/lib/python3.9/site-packages/tensorflow_probability/python/distributions/generalized_pareto.py:247\u001b[0m, in \u001b[0;36mGeneralizedPareto._z\u001b[0;34m(self, x, scale)\u001b[0m\n\u001b[1;32m    245\u001b[0m \u001b[39mdef\u001b[39;00m \u001b[39m_z\u001b[39m(\u001b[39mself\u001b[39m, x, scale):\n\u001b[1;32m    246\u001b[0m   loc \u001b[39m=\u001b[39m tf\u001b[39m.\u001b[39mconvert_to_tensor(\u001b[39mself\u001b[39m\u001b[39m.\u001b[39mloc)\n\u001b[0;32m--> 247\u001b[0m   \u001b[39mreturn\u001b[39;00m (x \u001b[39m-\u001b[39;49m loc) \u001b[39m/\u001b[39;49m scale\n",
      "File \u001b[0;32m~/miniconda3/envs/dlashok/lib/python3.9/site-packages/tensorflow/python/util/traceback_utils.py:153\u001b[0m, in \u001b[0;36mfilter_traceback.<locals>.error_handler\u001b[0;34m(*args, **kwargs)\u001b[0m\n\u001b[1;32m    151\u001b[0m \u001b[39mexcept\u001b[39;00m \u001b[39mException\u001b[39;00m \u001b[39mas\u001b[39;00m e:\n\u001b[1;32m    152\u001b[0m   filtered_tb \u001b[39m=\u001b[39m _process_traceback_frames(e\u001b[39m.\u001b[39m__traceback__)\n\u001b[0;32m--> 153\u001b[0m   \u001b[39mraise\u001b[39;00m e\u001b[39m.\u001b[39mwith_traceback(filtered_tb) \u001b[39mfrom\u001b[39;00m \u001b[39mNone\u001b[39m\n\u001b[1;32m    154\u001b[0m \u001b[39mfinally\u001b[39;00m:\n\u001b[1;32m    155\u001b[0m   \u001b[39mdel\u001b[39;00m filtered_tb\n",
      "File \u001b[0;32m~/miniconda3/envs/dlashok/lib/python3.9/site-packages/tensorflow/python/framework/ops.py:7209\u001b[0m, in \u001b[0;36mraise_from_not_ok_status\u001b[0;34m(e, name)\u001b[0m\n\u001b[1;32m   7207\u001b[0m \u001b[39mdef\u001b[39;00m \u001b[39mraise_from_not_ok_status\u001b[39m(e, name):\n\u001b[1;32m   7208\u001b[0m   e\u001b[39m.\u001b[39mmessage \u001b[39m+\u001b[39m\u001b[39m=\u001b[39m (\u001b[39m\"\u001b[39m\u001b[39m name: \u001b[39m\u001b[39m\"\u001b[39m \u001b[39m+\u001b[39m name \u001b[39mif\u001b[39;00m name \u001b[39mis\u001b[39;00m \u001b[39mnot\u001b[39;00m \u001b[39mNone\u001b[39;00m \u001b[39melse\u001b[39;00m \u001b[39m\"\u001b[39m\u001b[39m\"\u001b[39m)\n\u001b[0;32m-> 7209\u001b[0m   \u001b[39mraise\u001b[39;00m core\u001b[39m.\u001b[39m_status_to_exception(e) \u001b[39mfrom\u001b[39;00m \u001b[39mNone\u001b[39m\n",
      "\u001b[0;31mInvalidArgumentError\u001b[0m: {{function_node __wrapped__RealDiv_device_/job:localhost/replica:0/task:0/device:CPU:0}} Incompatible shapes: [2763099] vs. [145427] [Op:RealDiv]"
     ]
    }
   ],
   "source": [
    "dists.cdf(dataset.Y_train)"
   ]
  },
  {
   "cell_type": "code",
   "execution_count": 52,
   "metadata": {},
   "outputs": [
    {
     "ename": "InvalidArgumentError",
     "evalue": "{{function_node __wrapped__RealDiv_device_/job:localhost/replica:0/task:0/device:CPU:0}} Incompatible shapes: [2763099] vs. [145427] [Op:RealDiv]",
     "output_type": "error",
     "traceback": [
      "\u001b[0;31m---------------------------------------------------------------------------\u001b[0m",
      "\u001b[0;31mInvalidArgumentError\u001b[0m                      Traceback (most recent call last)",
      "Cell \u001b[0;32mIn[52], line 35\u001b[0m\n\u001b[1;32m     31\u001b[0m \u001b[39mdef\u001b[39;00m \u001b[39mcrps_quadrature\u001b[39m(x, y, xmin\u001b[39m=\u001b[39m\u001b[39m0.0\u001b[39m, xmax\u001b[39m=\u001b[39m\u001b[39m60\u001b[39m, tol\u001b[39m=\u001b[39m\u001b[39m1e-6\u001b[39m):\n\u001b[1;32m     32\u001b[0m     \u001b[39mreturn\u001b[39;00m _crps_cdf(x, y, xmin, xmax, tol)\n\u001b[0;32m---> 35\u001b[0m crps_quadrature(dataset\u001b[39m.\u001b[39mY_train,dists\u001b[39m.\u001b[39;49mcdf(dataset\u001b[39m.\u001b[39;49mY_train))\u001b[39m.\u001b[39mmean()\n",
      "File \u001b[0;32m~/miniconda3/envs/dlashok/lib/python3.9/site-packages/tensorflow_probability/python/distributions/distribution.py:1425\u001b[0m, in \u001b[0;36mDistribution.cdf\u001b[0;34m(self, value, name, **kwargs)\u001b[0m\n\u001b[1;32m   1407\u001b[0m \u001b[39mdef\u001b[39;00m \u001b[39mcdf\u001b[39m(\u001b[39mself\u001b[39m, value, name\u001b[39m=\u001b[39m\u001b[39m'\u001b[39m\u001b[39mcdf\u001b[39m\u001b[39m'\u001b[39m, \u001b[39m*\u001b[39m\u001b[39m*\u001b[39mkwargs):\n\u001b[1;32m   1408\u001b[0m \u001b[39m  \u001b[39m\u001b[39m\"\"\"Cumulative distribution function.\u001b[39;00m\n\u001b[1;32m   1409\u001b[0m \n\u001b[1;32m   1410\u001b[0m \u001b[39m  Given random variable `X`, the cumulative distribution function `cdf` is:\u001b[39;00m\n\u001b[0;32m   (...)\u001b[0m\n\u001b[1;32m   1423\u001b[0m \u001b[39m      values of type `self.dtype`.\u001b[39;00m\n\u001b[1;32m   1424\u001b[0m \u001b[39m  \"\"\"\u001b[39;00m\n\u001b[0;32m-> 1425\u001b[0m   \u001b[39mreturn\u001b[39;00m \u001b[39mself\u001b[39;49m\u001b[39m.\u001b[39;49m_call_cdf(value, name, \u001b[39m*\u001b[39;49m\u001b[39m*\u001b[39;49mkwargs)\n",
      "File \u001b[0;32m~/miniconda3/envs/dlashok/lib/python3.9/site-packages/tensorflow_probability/python/distributions/distribution.py:1403\u001b[0m, in \u001b[0;36mDistribution._call_cdf\u001b[0;34m(self, value, name, **kwargs)\u001b[0m\n\u001b[1;32m   1401\u001b[0m   \u001b[39mreturn\u001b[39;00m \u001b[39mself\u001b[39m\u001b[39m.\u001b[39m_cdf(value, \u001b[39m*\u001b[39m\u001b[39m*\u001b[39mkwargs)\n\u001b[1;32m   1402\u001b[0m \u001b[39mif\u001b[39;00m \u001b[39mhasattr\u001b[39m(\u001b[39mself\u001b[39m, \u001b[39m'\u001b[39m\u001b[39m_log_cdf\u001b[39m\u001b[39m'\u001b[39m):\n\u001b[0;32m-> 1403\u001b[0m   \u001b[39mreturn\u001b[39;00m tf\u001b[39m.\u001b[39mexp(\u001b[39mself\u001b[39;49m\u001b[39m.\u001b[39;49m_log_cdf(value, \u001b[39m*\u001b[39;49m\u001b[39m*\u001b[39;49mkwargs))\n\u001b[1;32m   1404\u001b[0m \u001b[39mraise\u001b[39;00m \u001b[39mNotImplementedError\u001b[39;00m(\u001b[39m'\u001b[39m\u001b[39mcdf is not implemented: \u001b[39m\u001b[39m{}\u001b[39;00m\u001b[39m'\u001b[39m\u001b[39m.\u001b[39mformat(\n\u001b[1;32m   1405\u001b[0m     \u001b[39mtype\u001b[39m(\u001b[39mself\u001b[39m)\u001b[39m.\u001b[39m\u001b[39m__name__\u001b[39m))\n",
      "File \u001b[0;32m~/miniconda3/envs/dlashok/lib/python3.9/site-packages/tensorflow_probability/python/distributions/generalized_pareto.py:243\u001b[0m, in \u001b[0;36mGeneralizedPareto._log_cdf\u001b[0;34m(self, x)\u001b[0m\n\u001b[1;32m    236\u001b[0m \u001b[39mdef\u001b[39;00m \u001b[39m_log_cdf\u001b[39m(\u001b[39mself\u001b[39m, x):\n\u001b[1;32m    237\u001b[0m   \u001b[39m# Going through the survival function is more accurate when conc is near\u001b[39;00m\n\u001b[1;32m    238\u001b[0m   \u001b[39m# zero, because it amounts to computing the (1 + conc * z)**(-1 / conc)\u001b[39;00m\n\u001b[0;32m   (...)\u001b[0m\n\u001b[1;32m    241\u001b[0m   \u001b[39m# and the absolute value are fine here because the log survival function is\u001b[39;00m\n\u001b[1;32m    242\u001b[0m   \u001b[39m# always non-positive.\u001b[39;00m\n\u001b[0;32m--> 243\u001b[0m   \u001b[39mreturn\u001b[39;00m generic\u001b[39m.\u001b[39mlog1mexp(\u001b[39mself\u001b[39;49m\u001b[39m.\u001b[39;49m_log_survival_function(x))\n",
      "File \u001b[0;32m~/miniconda3/envs/dlashok/lib/python3.9/site-packages/tensorflow_probability/python/distributions/generalized_pareto.py:230\u001b[0m, in \u001b[0;36mGeneralizedPareto._log_survival_function\u001b[0;34m(self, x)\u001b[0m\n\u001b[1;32m    228\u001b[0m scale \u001b[39m=\u001b[39m tf\u001b[39m.\u001b[39mconvert_to_tensor(\u001b[39mself\u001b[39m\u001b[39m.\u001b[39mscale)\n\u001b[1;32m    229\u001b[0m concentration \u001b[39m=\u001b[39m tf\u001b[39m.\u001b[39mconvert_to_tensor(\u001b[39mself\u001b[39m\u001b[39m.\u001b[39mconcentration)\n\u001b[0;32m--> 230\u001b[0m z \u001b[39m=\u001b[39m \u001b[39mself\u001b[39;49m\u001b[39m.\u001b[39;49m_z(x, scale)\n\u001b[1;32m    231\u001b[0m eq_zero \u001b[39m=\u001b[39m tf\u001b[39m.\u001b[39mequal(concentration, \u001b[39m0\u001b[39m)  \u001b[39m# Concentration = 0 ==> Exponential.\u001b[39;00m\n\u001b[1;32m    232\u001b[0m nonzero_conc \u001b[39m=\u001b[39m tf\u001b[39m.\u001b[39mwhere(eq_zero, tf\u001b[39m.\u001b[39mconstant(\u001b[39m1\u001b[39m, \u001b[39mself\u001b[39m\u001b[39m.\u001b[39mdtype), concentration)\n",
      "File \u001b[0;32m~/miniconda3/envs/dlashok/lib/python3.9/site-packages/tensorflow_probability/python/distributions/generalized_pareto.py:247\u001b[0m, in \u001b[0;36mGeneralizedPareto._z\u001b[0;34m(self, x, scale)\u001b[0m\n\u001b[1;32m    245\u001b[0m \u001b[39mdef\u001b[39;00m \u001b[39m_z\u001b[39m(\u001b[39mself\u001b[39m, x, scale):\n\u001b[1;32m    246\u001b[0m   loc \u001b[39m=\u001b[39m tf\u001b[39m.\u001b[39mconvert_to_tensor(\u001b[39mself\u001b[39m\u001b[39m.\u001b[39mloc)\n\u001b[0;32m--> 247\u001b[0m   \u001b[39mreturn\u001b[39;00m (x \u001b[39m-\u001b[39;49m loc) \u001b[39m/\u001b[39;49m scale\n",
      "File \u001b[0;32m~/miniconda3/envs/dlashok/lib/python3.9/site-packages/tensorflow/python/util/traceback_utils.py:153\u001b[0m, in \u001b[0;36mfilter_traceback.<locals>.error_handler\u001b[0;34m(*args, **kwargs)\u001b[0m\n\u001b[1;32m    151\u001b[0m \u001b[39mexcept\u001b[39;00m \u001b[39mException\u001b[39;00m \u001b[39mas\u001b[39;00m e:\n\u001b[1;32m    152\u001b[0m   filtered_tb \u001b[39m=\u001b[39m _process_traceback_frames(e\u001b[39m.\u001b[39m__traceback__)\n\u001b[0;32m--> 153\u001b[0m   \u001b[39mraise\u001b[39;00m e\u001b[39m.\u001b[39mwith_traceback(filtered_tb) \u001b[39mfrom\u001b[39;00m \u001b[39mNone\u001b[39m\n\u001b[1;32m    154\u001b[0m \u001b[39mfinally\u001b[39;00m:\n\u001b[1;32m    155\u001b[0m   \u001b[39mdel\u001b[39;00m filtered_tb\n",
      "File \u001b[0;32m~/miniconda3/envs/dlashok/lib/python3.9/site-packages/tensorflow/python/framework/ops.py:7209\u001b[0m, in \u001b[0;36mraise_from_not_ok_status\u001b[0;34m(e, name)\u001b[0m\n\u001b[1;32m   7207\u001b[0m \u001b[39mdef\u001b[39;00m \u001b[39mraise_from_not_ok_status\u001b[39m(e, name):\n\u001b[1;32m   7208\u001b[0m   e\u001b[39m.\u001b[39mmessage \u001b[39m+\u001b[39m\u001b[39m=\u001b[39m (\u001b[39m\"\u001b[39m\u001b[39m name: \u001b[39m\u001b[39m\"\u001b[39m \u001b[39m+\u001b[39m name \u001b[39mif\u001b[39;00m name \u001b[39mis\u001b[39;00m \u001b[39mnot\u001b[39;00m \u001b[39mNone\u001b[39;00m \u001b[39melse\u001b[39;00m \u001b[39m\"\u001b[39m\u001b[39m\"\u001b[39m)\n\u001b[0;32m-> 7209\u001b[0m   \u001b[39mraise\u001b[39;00m core\u001b[39m.\u001b[39m_status_to_exception(e) \u001b[39mfrom\u001b[39;00m \u001b[39mNone\u001b[39m\n",
      "\u001b[0;31mInvalidArgumentError\u001b[0m: {{function_node __wrapped__RealDiv_device_/job:localhost/replica:0/task:0/device:CPU:0}} Incompatible shapes: [2763099] vs. [145427] [Op:RealDiv]"
     ]
    }
   ],
   "source": [
    "from scipy import special, integrate, stats\n",
    "def _crps_cdf_single(x, y, xmin=0.0, xmax=100, tol=1e-6):\n",
    "    \n",
    "    def lhs(y):\n",
    "        # left hand side of CRPS integral\n",
    "        return np.square(y)\n",
    "    # use quadrature to integrate the lhs\n",
    "    lhs_int, lhs_tol = integrate.quad(lhs, xmin, x)\n",
    "    # make sure the resulting CRPS will be with tolerance\n",
    "    if (tol is not None) and (lhs_tol >= 0.5 * tol):\n",
    "        raise ValueError('Lower integral did not evaluate to within tolerance! '\n",
    "                         'Tolerance achieved: %f , Value of integral: %f \\n'\n",
    "                         'Consider setting the lower bound to -np.inf.' %\n",
    "                         (lhs_tol, lhs_int))\n",
    "\n",
    "    def rhs(y):\n",
    "        # right hand side of CRPS integral\n",
    "        return np.square(1. - y)\n",
    "    rhs_int, rhs_tol = integrate.quad(rhs, x, xmax)\n",
    "    # make sure the resulting CRPS will be with tolerance\n",
    "    if (tol is not None) and (rhs_tol >= 0.5 * tol):\n",
    "        raise ValueError('Upper integral did not evaluate to within tolerance! \\n'\n",
    "                         'Tolerance achieved: %f , Value of integral: %f \\n'\n",
    "                         'Consider setting the upper bound to np.inf or if '\n",
    "                         'you already have, set warn_level to `ignore`.' %\n",
    "                         (rhs_tol, rhs_int))\n",
    "\n",
    "    return lhs_int + rhs_int\n",
    "_crps_cdf = np.vectorize(_crps_cdf_single)\n",
    "\n",
    "def crps_quadrature(x, y, xmin=0.0, xmax=60, tol=1e-6):\n",
    "    return _crps_cdf(x, y, xmin, xmax, tol)\n",
    "\n",
    "\n",
    "crps_quadrature(dataset.Y_train,dists.cdf(dataset.Y_train)).mean()"
   ]
  },
  {
   "cell_type": "code",
   "execution_count": 35,
   "metadata": {},
   "outputs": [],
   "source": [
    "baseline_score = properscoring.crps_ensemble(dataset.Y_train, dataset.Y_train)"
   ]
  },
  {
   "attachments": {},
   "cell_type": "markdown",
   "metadata": {},
   "source": [
    "# Perform inference by calculating landslide hazrd"
   ]
  },
  {
   "cell_type": "code",
   "execution_count": 1,
   "metadata": {},
   "outputs": [
    {
     "name": "stderr",
     "output_type": "stream",
     "text": [
      "2023-01-24 12:16:08.531386: I tensorflow/core/platform/cpu_feature_guard.cc:193] This TensorFlow binary is optimized with oneAPI Deep Neural Network Library (oneDNN) to use the following CPU instructions in performance-critical operations:  AVX2 AVX512F FMA\n",
      "To enable them in other operations, rebuild TensorFlow with the appropriate compiler flags.\n",
      "2023-01-24 12:16:08.731564: E tensorflow/stream_executor/cuda/cuda_blas.cc:2981] Unable to register cuBLAS factory: Attempting to register factory for plugin cuBLAS when one has already been registered\n",
      "2023-01-24 12:16:10.646364: W tensorflow/stream_executor/platform/default/dso_loader.cc:64] Could not load dynamic library 'libnvinfer.so.7'; dlerror: libnvinfer.so.7: cannot open shared object file: No such file or directory; LD_LIBRARY_PATH: :/home/dahala/miniconda3/envs/dlashok/lib/\n",
      "2023-01-24 12:16:10.647264: W tensorflow/stream_executor/platform/default/dso_loader.cc:64] Could not load dynamic library 'libnvinfer_plugin.so.7'; dlerror: libnvinfer_plugin.so.7: cannot open shared object file: No such file or directory; LD_LIBRARY_PATH: :/home/dahala/miniconda3/envs/dlashok/lib/\n",
      "2023-01-24 12:16:10.647277: W tensorflow/compiler/tf2tensorrt/utils/py_utils.cc:38] TF-TRT Warning: Cannot dlopen some TensorRT libraries. If you would like to use Nvidia GPU with TensorRT, please make sure the missing libraries mentioned above are installed properly.\n"
     ]
    },
    {
     "name": "stdout",
     "output_type": "stream",
     "text": [
      "2.10.1\n",
      "[PhysicalDevice(name='/physical_device:CPU:0', device_type='CPU'), PhysicalDevice(name='/physical_device:GPU:0', device_type='GPU')]\n"
     ]
    }
   ],
   "source": [
    "%load_ext autoreload\n",
    "%autoreload 2\n",
    "import tensorflow as tf\n",
    "import json\n",
    "from src import preparedata\n",
    "from src import modelarea\n",
    "from src import inference\n",
    "from src import savehazard\n",
    "\n",
    "print(tf.__version__)\n",
    "print(tf.config.list_physical_devices(\n",
    "    device_type=None\n",
    "))\n",
    "params=json.load(open('params/params.json','r'))"
   ]
  },
  {
   "cell_type": "code",
   "execution_count": 11,
   "metadata": {},
   "outputs": [
    {
     "data": {
      "application/vnd.jupyter.widget-view+json": {
       "model_id": "4e22af83c3af4e0d85f9ed9e82f2a1ca",
       "version_major": 2,
       "version_minor": 0
      },
      "text/plain": [
       "  0%|          | 0/31 [00:00<?, ?it/s]"
      ]
     },
     "metadata": {},
     "output_type": "display_data"
    }
   ],
   "source": [
    "rp=20\n",
    "dataset=preparedata.readGPDData(params['dataprepinargs'])\n",
    "dataset.preparedatainference(rp)"
   ]
  },
  {
   "cell_type": "code",
   "execution_count": 12,
   "metadata": {},
   "outputs": [
    {
     "name": "stdout",
     "output_type": "stream",
     "text": [
      "2219/2219 [==============================] - 4s 2ms/step\n"
     ]
    }
   ],
   "source": [
    "landslidehazard=modelarea.lhmodel(params['modelparam'])\n",
    "landslidehazard.preparemodel()\n",
    "haz=inference.inferenceLH(model=landslidehazard.model,model_weights='savedweights/final_modelfull_data.h5',xdata=dataset.Xinference,rp=rp)"
   ]
  },
  {
   "cell_type": "code",
   "execution_count": 13,
   "metadata": {},
   "outputs": [],
   "source": [
    "savehazard.save_predicted_Haz(ids=dataset.InferenceID,prediction=haz,hazcol=f'haz_{rp}rp',sufile='Data/SlopeUnits/SlopeUnits_V3.shp',outfile=f'Data/Results/LsHaz{rp}_v2.shp')"
   ]
  },
  {
   "cell_type": "code",
   "execution_count": 14,
   "metadata": {},
   "outputs": [
    {
     "data": {
      "text/plain": [
       "0.22016518"
      ]
     },
     "execution_count": 14,
     "metadata": {},
     "output_type": "execute_result"
    }
   ],
   "source": [
    "haz.max()"
   ]
  },
  {
   "cell_type": "code",
   "execution_count": 15,
   "metadata": {},
   "outputs": [
    {
     "data": {
      "text/plain": [
       "0.11952155"
      ]
     },
     "execution_count": 15,
     "metadata": {},
     "output_type": "execute_result"
    }
   ],
   "source": [
    "haz.min()"
   ]
  },
  {
   "cell_type": "code",
   "execution_count": 12,
   "metadata": {},
   "outputs": [
    {
     "data": {
      "text/plain": [
       "0.17237218046254701"
      ]
     },
     "execution_count": 12,
     "metadata": {},
     "output_type": "execute_result"
    }
   ],
   "source": [
    "import numpy as np \n",
    "np.exp(-1.7580993)"
   ]
  },
  {
   "cell_type": "code",
   "execution_count": null,
   "metadata": {},
   "outputs": [],
   "source": []
  }
 ],
 "metadata": {
  "kernelspec": {
   "display_name": "Python 3 (ipykernel)",
   "language": "python",
   "name": "python3"
  },
  "language_info": {
   "codemirror_mode": {
    "name": "ipython",
    "version": 3
   },
   "file_extension": ".py",
   "mimetype": "text/x-python",
   "name": "python",
   "nbconvert_exporter": "python",
   "pygments_lexer": "ipython3",
   "version": "3.9.15"
  }
 },
 "nbformat": 4,
 "nbformat_minor": 2
}
