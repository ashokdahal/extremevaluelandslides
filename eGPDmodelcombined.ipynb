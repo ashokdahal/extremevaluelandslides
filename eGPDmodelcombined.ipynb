{
 "cells": [
  {
   "attachments": {},
   "cell_type": "markdown",
   "metadata": {},
   "source": [
    "# Train the model by preparing the dataset"
   ]
  },
  {
   "cell_type": "code",
   "execution_count": null,
   "metadata": {},
   "outputs": [],
   "source": [
    "%load_ext autoreload\n",
    "%autoreload 2\n",
    "import tensorflow as tf\n",
    "import json\n",
    "from src import preparedata\n",
    "from src import modelareaegpdcombined as modelarea\n",
    "from src import trainarea\n",
    "import seaborn as sns\n",
    "import numpy as np\n",
    "import sklearn\n",
    "import matplotlib.pyplot as plt\n",
    "from scipy.stats import expon\n",
    "\n",
    "print(tf.__version__)\n",
    "print(tf.config.list_physical_devices(device_type=None))\n",
    "params = json.load(open(\"params/paramsegpdcombined.json\", \"r\"))"
   ]
  },
  {
   "cell_type": "code",
   "execution_count": null,
   "metadata": {},
   "outputs": [],
   "source": [
    "# prepare data\n",
    "dataset = preparedata.readGPDData(params[\"dataprepinargs\"])\n",
    "dataset.preparedata()"
   ]
  },
  {
   "cell_type": "code",
   "execution_count": null,
   "metadata": {},
   "outputs": [],
   "source": [
    "all_area = np.append(dataset.Y_train[:, 1], dataset.Y_test[:, 1])\n",
    "all_area = all_area[all_area > 0.0]\n",
    "np.save(\"Data/Inventory/all_area.npy\", all_area)"
   ]
  },
  {
   "cell_type": "code",
   "execution_count": null,
   "metadata": {},
   "outputs": [],
   "source": [
    "# create random balanced sample\n",
    "posloc = np.where(dataset.Y_train[:, 0] > 0)[0]\n",
    "negloc = np.where(dataset.Y_train[:, 0] == 0)[0]\n",
    "selneg = np.random.choice(negloc, size=posloc.shape[0], replace=False)\n",
    "sel = np.concatenate([posloc, selneg])\n",
    "sel.sort()\n",
    "\n",
    "dataset.Y_train = dataset.Y_train[sel]\n",
    "dataset.X_train = dataset.X_train[sel]"
   ]
  },
  {
   "cell_type": "code",
   "execution_count": null,
   "metadata": {},
   "outputs": [],
   "source": [
    "# prepare model\n",
    "landslidehazard = modelarea.lhmodel(params[\"modelparam\"])\n",
    "landslidehazard.preparemodel()"
   ]
  },
  {
   "cell_type": "code",
   "execution_count": null,
   "metadata": {},
   "outputs": [],
   "source": [
    "# train the model\n",
    "version = \"20230823V1egpdcombined\"\n",
    "trainarea.trainmodel(\n",
    "    landslidehazard.model, dataset.X_train, [dataset.Y_train[:,0],dataset.Y_train[:,1]], params[\"trainparam\"]\n",
    ")\n",
    "# landslidehazard.model.load_weights(f\"checkpoints/\")\n",
    "landslidehazard.model.save_weights(f\"savedweights/final_model{version}.h5\")"
   ]
  },
  {
   "cell_type": "code",
   "execution_count": null,
   "metadata": {},
   "outputs": [],
   "source": [
    "# predict from trained model\n",
    "version = \"20230823V1egpdcombined\"\n",
    "landslidehazard.model.load_weights(f\"savedweights/final_model{version}.h5\")"
   ]
  },
  {
   "cell_type": "code",
   "execution_count": null,
   "metadata": {},
   "outputs": [],
   "source": [
    "ypred = landslidehazard.model.predict(\n",
    "    dataset.X_test.astype(np.float32), batch_size=2048\n",
    ")\n",
    "yprob = ypred[0]\n",
    "ypred = ypred[1][dataset.Y_test[:, 1] > 0.1]\n",
    "yarea = dataset.Y_test[:, 1][dataset.Y_test[:, 1] > 0.1]"
   ]
  },
  {
   "cell_type": "code",
   "execution_count": null,
   "metadata": {},
   "outputs": [],
   "source": [
    "\n",
    "\n",
    "def eGPD_cdf(y, k, sig, xi):\n",
    "    return (1 - (1 + xi * y / sig) ** (-1 / xi)) ** k\n",
    "\n",
    "\n",
    "def eGPD_ppf(p, sig, k=0.8118067, xi=0.4919825):\n",
    "    \"\"\"\n",
    "    Calculate the quantile for a Extended Generalized Pareto Distribution.\n",
    "\n",
    "    Parameters:\n",
    "        p (float): Probability level (0 < p < 1).\n",
    "        xi (float): Shape parameter.\n",
    "        sig (float): Scale parameter.\n",
    "        k (float): Parameter k.\n",
    "\n",
    "    Returns:\n",
    "        float: Quantile value.\n",
    "    \"\"\"\n",
    "    return (sig / xi) * (((1 - (p ** (1 / k))) ** (-xi)) - 1)\n",
    "\n",
    "\n",
    "def MSE(sig, x, k=0.8118067, xi=0.4919825, area=1):\n",
    "    xi = xi\n",
    "    sigma = (tf.nn.relu(sig).numpy() + 0.2) * area\n",
    "    kappa = k\n",
    "    if xi <= 0:\n",
    "        return 1e10\n",
    "\n",
    "    dat = x[x > 0]\n",
    "\n",
    "    exp_dat = eGPD_cdf(dat, k=kappa, sig=sigma[x > 0], xi=xi)\n",
    "    exp_dat = expon.ppf(exp_dat)\n",
    "\n",
    "    p_min = 0\n",
    "    n_p = len(exp_dat) * (1 - p_min)\n",
    "    ps = p_min + np.arange(1, int(n_p) + 1) / (n_p + 1) * (1 - p_min)\n",
    "    mse = np.mean((np.quantile(exp_dat, ps) - expon.ppf(ps)) ** 2)\n",
    "\n",
    "    return mse\n",
    "\n",
    "\n",
    "def getquantiles(sig, x, k=0.8118067, xi=0.4919825, area=1):\n",
    "    xi = xi\n",
    "    sigma = (sig + 0.2) * area\n",
    "    kappa = k\n",
    "    if xi <= 0:\n",
    "        return 1e10\n",
    "\n",
    "    dat = x[x > 0]\n",
    "\n",
    "    exp_dat = eGPD_cdf(dat, k=kappa, sig=sigma[x > 0], xi=xi)\n",
    "    exp_dat = expon.ppf(exp_dat)\n",
    "\n",
    "    p_min = 0\n",
    "    n_p = len(exp_dat) * (1 - p_min)\n",
    "    ps = p_min + np.arange(1, int(n_p) + 1) / (n_p + 1) * (1 - p_min)\n",
    "    return np.quantile(exp_dat, ps), expon.ppf(ps)"
   ]
  },
  {
   "cell_type": "code",
   "execution_count": null,
   "metadata": {},
   "outputs": [],
   "source": [
    "sns.kdeplot(eGPD_ppf((1 - 1 / 10), ypred + 0.2, k=0.8118067, xi=0.4919825))"
   ]
  },
  {
   "cell_type": "code",
   "execution_count": null,
   "metadata": {},
   "outputs": [],
   "source": [
    "q1, q2 = getquantiles(ypred, yarea)\n",
    "plt.scatter(\n",
    "    q2,\n",
    "    q1,\n",
    ")\n",
    "plt.xlabel(\"Theoritical Quantiles\")\n",
    "plt.ylabel(\"Observed Quantiles\")\n",
    "plt.axline([0, 0], [1, 1])\n",
    "plt.xlim(0, 10)\n",
    "plt.ylim(0, 10)\n",
    "plt.axis(\"square\")\n",
    "plt.savefig(\"Data/Plots/quantilesv5.pdf\", dpi=300)"
   ]
  },
  {
   "cell_type": "code",
   "execution_count": null,
   "metadata": {},
   "outputs": [],
   "source": [
    "fpr, tpr, thresholds = sklearn.metrics.roc_curve(dataset.Y_test[:, 0], yprob)\n",
    "auc = sklearn.metrics.auc(fpr, tpr)\n",
    "acc = sklearn.metrics.balanced_accuracy_score(dataset.Y_test[:, 0], yprob > 0.5)\n",
    "\n",
    "plt.plot(\n",
    "    fpr,\n",
    "    tpr,\n",
    "    label=f\"auc ={ round(auc,2)}\",\n",
    ")\n",
    "ax = plt.plot([0, 1], [0, 1], color=\"navy\", linestyle=\"--\")\n",
    "plt.xlim([0.0, 1.0])\n",
    "plt.ylim([0.0, 1.0])\n",
    "plt.xlabel(\"False Positive Rate\")\n",
    "plt.ylabel(\"True Positive Rate\")\n",
    "plt.title(\"ROC Curve Landslide Classification\")\n",
    "# plt.text(0.38, 0.11, \"Balanced Accuracy=%0.2f\" % acc)\n",
    "plt.legend(loc=\"lower right\", prop={\"size\": 10})\n",
    "plt.axis(\"square\")\n",
    "plt.savefig(\"Data/Plots/rocv5.pdf\", dpi=300)"
   ]
  },
  {
   "cell_type": "code",
   "execution_count": null,
   "metadata": {},
   "outputs": [],
   "source": [
    "sklearn.metrics.balanced_accuracy_score(dataset.Y_test[:, 0], yprob > 0.50)"
   ]
  }
 ],
 "metadata": {
  "kernelspec": {
   "display_name": "Python 3 (ipykernel)",
   "language": "python",
   "name": "python3"
  },
  "language_info": {
   "codemirror_mode": {
    "name": "ipython",
    "version": 3
   },
   "file_extension": ".py",
   "mimetype": "text/x-python",
   "name": "python",
   "nbconvert_exporter": "python",
   "pygments_lexer": "ipython3",
   "version": "3.10.0"
  }
 },
 "nbformat": 4,
 "nbformat_minor": 2
}
