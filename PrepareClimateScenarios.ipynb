{
 "cells": [
  {
   "cell_type": "code",
   "execution_count": 16,
   "metadata": {},
   "outputs": [],
   "source": [
    "import rasterio\n",
    "import numpy as np\n",
    "import seaborn as sns\n",
    "import geopandas as gpd \n",
    "from rasterstats import zonal_stats\n",
    "from tqdm.notebook import tqdm"
   ]
  },
  {
   "cell_type": "code",
   "execution_count": 32,
   "metadata": {},
   "outputs": [],
   "source": [
    "# for given 40 years of data the following ranks should represent the return periods of 5, 10, 15, 20 years\n",
    "five_return=round(31/5)\n",
    "ten_return=round(31/10)\n",
    "fifteen_return=round(31/15)\n",
    "twenty_return=round(31/20)\n",
    "\n",
    "def readData(model,scenario):\n",
    "    maxprecep=rasterio.open(f\"Data/ClimateProjections/NepalClimateProjection/{model}_Climate_Max_{scenario}.tif\").read()\n",
    "    meanprecep=rasterio.open(f\"Data/ClimateProjections/NepalClimateProjection/{model}_Climate_Mean_{scenario}.tif\").read()\n",
    "    stdprecep=rasterio.open(f\"Data/ClimateProjections/NepalClimateProjection/{model}_Climate_STD_{scenario}.tif\").read()\n",
    "    return maxprecep, meanprecep, stdprecep\n",
    "\n",
    "src=rasterio.open(\"Data/PrecipitationHistory/CHRIPS_Max_NP_40.tif\")\n",
    "def savefile(array,filename):\n",
    "    with rasterio.Env():\n",
    "        profile = src.profile\n",
    "        profile.update(\n",
    "            dtype=rasterio.float32,\n",
    "            count=1,\n",
    "            compress='lzw')\n",
    "        with rasterio.open(filename, 'w', **profile) as dst:\n",
    "            dst.write(array, 1)\n",
    "def calculateRP(models=['bcc-csm1-1','CanESM2','CNRM-CM5','GFDL-ESM2G','MPI-ESM-MR'],scenarios=['rcp45','rcp85'],rps=[5,10,15,20]):\n",
    "\n",
    "    for model in models:\n",
    "        for scenario in scenarios:\n",
    "            maxprecep, meanprecep, stdprecep=readData(model,scenario)\n",
    "            arg_sorted=np.argsort(maxprecep,axis=0)[::-1]\n",
    "            maxprecep_sorted=np.take_along_axis(maxprecep, arg_sorted, 0)\n",
    "            meanprecep_sorted=np.take_along_axis(meanprecep, arg_sorted, 0)\n",
    "            stdprecep_sorted=np.take_along_axis(stdprecep, arg_sorted, 0)\n",
    "            for rp in rps:\n",
    "                return_rank=round(31/rp)\n",
    "                mx_design=maxprecep_sorted[return_rank]\n",
    "                me_design=meanprecep_sorted[return_rank]\n",
    "                st_design=stdprecep_sorted[return_rank]\n",
    "\n",
    "                savefile(mx_design,f\"Data/ClimateProjections/NepalClimateProjection/{model}_mx_{rp}_{scenario}.tif\")\n",
    "                savefile(me_design,f\"Data/ClimateProjections/NepalClimateProjection/{model}_me_{rp}_{scenario}.tif\")\n",
    "                savefile(st_design,f\"Data/ClimateProjections/NepalClimateProjection/{model}_st_{rp}_{scenario}.tif\")\n",
    "                \n",
    "calculateRP()"
   ]
  },
  {
   "cell_type": "code",
   "execution_count": 33,
   "metadata": {},
   "outputs": [
    {
     "name": "stderr",
     "output_type": "stream",
     "text": [
      "/tmp/ipykernel_17006/2822982207.py:2: UserWarning: Geometry is in a geographic CRS. Results from 'centroid' are likely incorrect. Use 'GeoSeries.to_crs()' to re-project geometries to a projected CRS before this operation.\n",
      "\n",
      "  coord_list = [(x,y) for x,y in zip(slopeunits['geometry'].centroid.x , slopeunits['geometry'].centroid.y)]\n",
      "/tmp/ipykernel_17006/2822982207.py:2: UserWarning: Geometry is in a geographic CRS. Results from 'centroid' are likely incorrect. Use 'GeoSeries.to_crs()' to re-project geometries to a projected CRS before this operation.\n",
      "\n",
      "  coord_list = [(x,y) for x,y in zip(slopeunits['geometry'].centroid.x , slopeunits['geometry'].centroid.y)]\n"
     ]
    }
   ],
   "source": [
    "slopeunits=gpd.read_file('Data/SlopeUnits/SlopeUnits_V3.shp')\n",
    "coord_list = [(x,y) for x,y in zip(slopeunits['geometry'].centroid.x , slopeunits['geometry'].centroid.y)]"
   ]
  },
  {
   "cell_type": "code",
   "execution_count": 34,
   "metadata": {},
   "outputs": [
    {
     "data": {
      "application/vnd.jupyter.widget-view+json": {
       "model_id": "2cd2453790cc423cb0128f0365e9dbb9",
       "version_major": 2,
       "version_minor": 0
      },
      "text/plain": [
       "  0%|          | 0/5 [00:00<?, ?it/s]"
      ]
     },
     "metadata": {},
     "output_type": "display_data"
    },
    {
     "name": "stderr",
     "output_type": "stream",
     "text": [
      "/home/dahala/miniconda3/envs/dlashok/lib/python3.9/site-packages/geopandas/geodataframe.py:1443: PerformanceWarning: DataFrame is highly fragmented.  This is usually the result of calling `frame.insert` many times, which has poor performance.  Consider joining all columns at once using pd.concat(axis=1) instead. To get a de-fragmented frame, use `newframe = frame.copy()`\n",
      "  super().__setitem__(key, value)\n",
      "/home/dahala/miniconda3/envs/dlashok/lib/python3.9/site-packages/geopandas/geodataframe.py:1443: PerformanceWarning: DataFrame is highly fragmented.  This is usually the result of calling `frame.insert` many times, which has poor performance.  Consider joining all columns at once using pd.concat(axis=1) instead. To get a de-fragmented frame, use `newframe = frame.copy()`\n",
      "  super().__setitem__(key, value)\n",
      "/home/dahala/miniconda3/envs/dlashok/lib/python3.9/site-packages/geopandas/geodataframe.py:1443: PerformanceWarning: DataFrame is highly fragmented.  This is usually the result of calling `frame.insert` many times, which has poor performance.  Consider joining all columns at once using pd.concat(axis=1) instead. To get a de-fragmented frame, use `newframe = frame.copy()`\n",
      "  super().__setitem__(key, value)\n",
      "/home/dahala/miniconda3/envs/dlashok/lib/python3.9/site-packages/geopandas/geodataframe.py:1443: PerformanceWarning: DataFrame is highly fragmented.  This is usually the result of calling `frame.insert` many times, which has poor performance.  Consider joining all columns at once using pd.concat(axis=1) instead. To get a de-fragmented frame, use `newframe = frame.copy()`\n",
      "  super().__setitem__(key, value)\n",
      "/home/dahala/miniconda3/envs/dlashok/lib/python3.9/site-packages/geopandas/geodataframe.py:1443: PerformanceWarning: DataFrame is highly fragmented.  This is usually the result of calling `frame.insert` many times, which has poor performance.  Consider joining all columns at once using pd.concat(axis=1) instead. To get a de-fragmented frame, use `newframe = frame.copy()`\n",
      "  super().__setitem__(key, value)\n",
      "/home/dahala/miniconda3/envs/dlashok/lib/python3.9/site-packages/geopandas/geodataframe.py:1443: PerformanceWarning: DataFrame is highly fragmented.  This is usually the result of calling `frame.insert` many times, which has poor performance.  Consider joining all columns at once using pd.concat(axis=1) instead. To get a de-fragmented frame, use `newframe = frame.copy()`\n",
      "  super().__setitem__(key, value)\n",
      "/home/dahala/miniconda3/envs/dlashok/lib/python3.9/site-packages/geopandas/geodataframe.py:1443: PerformanceWarning: DataFrame is highly fragmented.  This is usually the result of calling `frame.insert` many times, which has poor performance.  Consider joining all columns at once using pd.concat(axis=1) instead. To get a de-fragmented frame, use `newframe = frame.copy()`\n",
      "  super().__setitem__(key, value)\n",
      "/home/dahala/miniconda3/envs/dlashok/lib/python3.9/site-packages/geopandas/geodataframe.py:1443: PerformanceWarning: DataFrame is highly fragmented.  This is usually the result of calling `frame.insert` many times, which has poor performance.  Consider joining all columns at once using pd.concat(axis=1) instead. To get a de-fragmented frame, use `newframe = frame.copy()`\n",
      "  super().__setitem__(key, value)\n",
      "/home/dahala/miniconda3/envs/dlashok/lib/python3.9/site-packages/geopandas/geodataframe.py:1443: PerformanceWarning: DataFrame is highly fragmented.  This is usually the result of calling `frame.insert` many times, which has poor performance.  Consider joining all columns at once using pd.concat(axis=1) instead. To get a de-fragmented frame, use `newframe = frame.copy()`\n",
      "  super().__setitem__(key, value)\n",
      "/home/dahala/miniconda3/envs/dlashok/lib/python3.9/site-packages/geopandas/geodataframe.py:1443: PerformanceWarning: DataFrame is highly fragmented.  This is usually the result of calling `frame.insert` many times, which has poor performance.  Consider joining all columns at once using pd.concat(axis=1) instead. To get a de-fragmented frame, use `newframe = frame.copy()`\n",
      "  super().__setitem__(key, value)\n",
      "/home/dahala/miniconda3/envs/dlashok/lib/python3.9/site-packages/geopandas/geodataframe.py:1443: PerformanceWarning: DataFrame is highly fragmented.  This is usually the result of calling `frame.insert` many times, which has poor performance.  Consider joining all columns at once using pd.concat(axis=1) instead. To get a de-fragmented frame, use `newframe = frame.copy()`\n",
      "  super().__setitem__(key, value)\n",
      "/home/dahala/miniconda3/envs/dlashok/lib/python3.9/site-packages/geopandas/geodataframe.py:1443: PerformanceWarning: DataFrame is highly fragmented.  This is usually the result of calling `frame.insert` many times, which has poor performance.  Consider joining all columns at once using pd.concat(axis=1) instead. To get a de-fragmented frame, use `newframe = frame.copy()`\n",
      "  super().__setitem__(key, value)\n",
      "/home/dahala/miniconda3/envs/dlashok/lib/python3.9/site-packages/geopandas/geodataframe.py:1443: PerformanceWarning: DataFrame is highly fragmented.  This is usually the result of calling `frame.insert` many times, which has poor performance.  Consider joining all columns at once using pd.concat(axis=1) instead. To get a de-fragmented frame, use `newframe = frame.copy()`\n",
      "  super().__setitem__(key, value)\n",
      "/home/dahala/miniconda3/envs/dlashok/lib/python3.9/site-packages/geopandas/geodataframe.py:1443: PerformanceWarning: DataFrame is highly fragmented.  This is usually the result of calling `frame.insert` many times, which has poor performance.  Consider joining all columns at once using pd.concat(axis=1) instead. To get a de-fragmented frame, use `newframe = frame.copy()`\n",
      "  super().__setitem__(key, value)\n",
      "/home/dahala/miniconda3/envs/dlashok/lib/python3.9/site-packages/geopandas/geodataframe.py:1443: PerformanceWarning: DataFrame is highly fragmented.  This is usually the result of calling `frame.insert` many times, which has poor performance.  Consider joining all columns at once using pd.concat(axis=1) instead. To get a de-fragmented frame, use `newframe = frame.copy()`\n",
      "  super().__setitem__(key, value)\n",
      "/home/dahala/miniconda3/envs/dlashok/lib/python3.9/site-packages/geopandas/geodataframe.py:1443: PerformanceWarning: DataFrame is highly fragmented.  This is usually the result of calling `frame.insert` many times, which has poor performance.  Consider joining all columns at once using pd.concat(axis=1) instead. To get a de-fragmented frame, use `newframe = frame.copy()`\n",
      "  super().__setitem__(key, value)\n",
      "/home/dahala/miniconda3/envs/dlashok/lib/python3.9/site-packages/geopandas/geodataframe.py:1443: PerformanceWarning: DataFrame is highly fragmented.  This is usually the result of calling `frame.insert` many times, which has poor performance.  Consider joining all columns at once using pd.concat(axis=1) instead. To get a de-fragmented frame, use `newframe = frame.copy()`\n",
      "  super().__setitem__(key, value)\n",
      "/home/dahala/miniconda3/envs/dlashok/lib/python3.9/site-packages/geopandas/geodataframe.py:1443: PerformanceWarning: DataFrame is highly fragmented.  This is usually the result of calling `frame.insert` many times, which has poor performance.  Consider joining all columns at once using pd.concat(axis=1) instead. To get a de-fragmented frame, use `newframe = frame.copy()`\n",
      "  super().__setitem__(key, value)\n",
      "/home/dahala/miniconda3/envs/dlashok/lib/python3.9/site-packages/geopandas/geodataframe.py:1443: PerformanceWarning: DataFrame is highly fragmented.  This is usually the result of calling `frame.insert` many times, which has poor performance.  Consider joining all columns at once using pd.concat(axis=1) instead. To get a de-fragmented frame, use `newframe = frame.copy()`\n",
      "  super().__setitem__(key, value)\n",
      "/home/dahala/miniconda3/envs/dlashok/lib/python3.9/site-packages/geopandas/geodataframe.py:1443: PerformanceWarning: DataFrame is highly fragmented.  This is usually the result of calling `frame.insert` many times, which has poor performance.  Consider joining all columns at once using pd.concat(axis=1) instead. To get a de-fragmented frame, use `newframe = frame.copy()`\n",
      "  super().__setitem__(key, value)\n",
      "/home/dahala/miniconda3/envs/dlashok/lib/python3.9/site-packages/geopandas/geodataframe.py:1443: PerformanceWarning: DataFrame is highly fragmented.  This is usually the result of calling `frame.insert` many times, which has poor performance.  Consider joining all columns at once using pd.concat(axis=1) instead. To get a de-fragmented frame, use `newframe = frame.copy()`\n",
      "  super().__setitem__(key, value)\n",
      "/home/dahala/miniconda3/envs/dlashok/lib/python3.9/site-packages/geopandas/geodataframe.py:1443: PerformanceWarning: DataFrame is highly fragmented.  This is usually the result of calling `frame.insert` many times, which has poor performance.  Consider joining all columns at once using pd.concat(axis=1) instead. To get a de-fragmented frame, use `newframe = frame.copy()`\n",
      "  super().__setitem__(key, value)\n"
     ]
    }
   ],
   "source": [
    "\n",
    "def readDesign(model,scenario,rp):\n",
    "    mx_design=rasterio.open(f\"Data/ClimateProjections/NepalClimateProjection/{model}_mx_{rp}_{scenario}.tif\")\n",
    "    mx_design_d=[x[0] for x in mx_design.sample(coord_list)]\n",
    "    me_design=rasterio.open(f\"Data/ClimateProjections/NepalClimateProjection/{model}_me_{rp}_{scenario}.tif\")\n",
    "    me_design_d=[x[0] for x in me_design.sample(coord_list)]\n",
    "    st_design=rasterio.open(f\"Data/ClimateProjections/NepalClimateProjection/{model}_st_{rp}_{scenario}.tif\")\n",
    "    st_design_d=[x[0] for x in st_design.sample(coord_list)]\n",
    "    return mx_design_d,me_design_d,st_design_d\n",
    "\n",
    "def extractRp(models=['bcc-csm1-1','CanESM2','CNRM-CM5','GFDL-ESM2G','MPI-ESM-MR'],scenarios=['rcp45','rcp85'],rps=[5,10,15,20]):\n",
    "\n",
    "    for model in tqdm(models):\n",
    "        for scenario in scenarios:\n",
    "            for rp in rps:\n",
    "                maxprecep, meanprecep, stdprecep=readDesign(model,scenario,rp)\n",
    "                slopeunits[f'mx_{rp}_{scenario}_{model}']=np.array(maxprecep)*86400\n",
    "                slopeunits[f'me_{rp}_{scenario}_{model}']=np.array(meanprecep)*86400\n",
    "                slopeunits[f'st_{rp}_{scenario}_{model}']=np.array(stdprecep)*86400\n",
    "extractRp()"
   ]
  },
  {
   "cell_type": "code",
   "execution_count": 46,
   "metadata": {},
   "outputs": [
    {
     "data": {
      "text/plain": [
       "71464"
      ]
     },
     "execution_count": 46,
     "metadata": {},
     "output_type": "execute_result"
    }
   ],
   "source": [
    "import pandas as pd\n",
    "len(pd.read_csv('Data/Covars/AllCovars2.csv'))"
   ]
  },
  {
   "cell_type": "code",
   "execution_count": 43,
   "metadata": {},
   "outputs": [],
   "source": [
    "slopeunits.drop('geometry',axis=1).to_csv('Data/ClimateProjections/NepalClimateProjection/clim_rps.csv')"
   ]
  },
  {
   "cell_type": "code",
   "execution_count": null,
   "metadata": {},
   "outputs": [],
   "source": []
  }
 ],
 "metadata": {
  "kernelspec": {
   "display_name": "Python 3 (ipykernel)",
   "language": "python",
   "name": "python3"
  },
  "orig_nbformat": 4
 },
 "nbformat": 4,
 "nbformat_minor": 2
}
